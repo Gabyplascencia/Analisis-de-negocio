{
 "cells": [
  {
   "cell_type": "markdown",
   "metadata": {},
   "source": [
    "# Proyecto Análisis de Negocios\n"
   ]
  },
  {
   "cell_type": "markdown",
   "metadata": {},
   "source": [
    "Para este trabajo, haremos prácticas en el departamento de analítica de Showz, una empresa de venta de entradas de eventos. \n",
    "Nuestra tarea en esta ocasión es ayudar a optimizar los gastos de marketing. \n",
    "\n",
    "\n",
    "**Cuentas con:**\n",
    "\n",
    "-Registros del servidor con datos sobre las visitas a Showz desde enero de 2017 hasta diciembre de 2018\n",
    "\n",
    "-Archivo con los pedidos en este periodo\n",
    "\n",
    "-Estadísticas de gastos de marketing.\n",
    "\n"
   ]
  },
  {
   "cell_type": "markdown",
   "metadata": {},
   "source": [
    "# Objetivos generales de esta investigación"
   ]
  },
  {
   "cell_type": "markdown",
   "metadata": {},
   "source": [
    "Para este trabajo tendremos diferentes objetivos dependiendo el departamento que estemos analizando, en esta ocasión nos interesa conocer:\n",
    "\n",
    "-Cómo es que los clientes usan el servicio que les ofrecemos.\n",
    "\n",
    "-Cuándo empiezan a comprar\n",
    "\n",
    "-Cuánto dinero aporta cada cliente a la compañía\n",
    "\n",
    "-Cuándo los ingresos cubren el costo de adquisición de los clientes.\n",
    "\n",
    "Con esto en mente podremos tener una idea de donde comenzar y que datos buscar, lo cual nos ayudara a tener mejor enfoque en cuanto a los resultados buscados."
   ]
  },
  {
   "cell_type": "markdown",
   "metadata": {},
   "source": [
    "# Descripción de los data"
   ]
  },
  {
   "cell_type": "markdown",
   "metadata": {},
   "source": [
    "**La tabla visits (registros del servidor con datos sobre las visitas al sitio web):**\n",
    "\n",
    "-Uid: identificador único del usuario.\n",
    "\n",
    "-Device: dispositivo del usuario.\n",
    "\n",
    "-Start Ts: fecha y hora de inicio de la sesión.\n",
    "\n",
    "-End Ts: fecha y hora de término de la sesión.\n",
    "\n",
    "-Source Id: identificador de la fuente de anuncios de la que proviene el usuario.\n",
    "\n",
    "Todas las fechas de esta tabla están en formato AAAA-MM-DD.\n",
    "\n",
    "\n",
    "\n",
    "**La tabla orders (datos sobre pedidos):**\n",
    "\n",
    "-Uid: identificador único del usuario que realiza un pedido.\n",
    "\n",
    "-Buy Ts: fecha y hora del pedido. \n",
    "\n",
    "-Revenue: el ingreso de Showz por el pedido.\n",
    "\n",
    "\n",
    "\n",
    "**La tabla costs (datos sobre gastos de marketing):**\n",
    "\n",
    "-source_id: identificador de la fuente de anuncios.\n",
    "\n",
    "-dt: fecha.\n",
    "\n",
    "-costs: gastos en esta fuente de anuncios en este día."
   ]
  },
  {
   "cell_type": "markdown",
   "metadata": {},
   "source": [
    "# Preparación y limpieza de los datas"
   ]
  },
  {
   "cell_type": "markdown",
   "metadata": {},
   "source": [
    "En esta sección accederemos a los datas y haremos un análisis sobre las condiciones en el que nos fueron entragdos los 3 datas a utilizar, buscando dejar en las mejores condiciones para su uso posterior en el análisis.\n",
    "\n",
    "Se buscará eliminar duplicados, valores ausentes, verificar el tipo de dato correcto para cada columna, logrando así asegurar el mejor análisis basado en los objetivos señalados por la empresa."
   ]
  },
  {
   "cell_type": "code",
   "execution_count": 1,
   "metadata": {},
   "outputs": [],
   "source": [
    "#cargar las librerias necesarias\n",
    "import pandas as pd\n",
    "import numpy as np\n",
    "import seaborn as sns\n",
    "from matplotlib import pyplot as plt"
   ]
  },
  {
   "cell_type": "code",
   "execution_count": 2,
   "metadata": {},
   "outputs": [],
   "source": [
    "#cargar los archivos\n",
    "visits= pd.read_csv(\"/datasets/visits_log_us.csv\")\n",
    "orders= pd.read_csv(\"/datasets/orders_log_us.csv\")\n",
    "costs= pd.read_csv(\"/datasets/costs_us.csv\")"
   ]
  },
  {
   "cell_type": "code",
   "execution_count": 3,
   "metadata": {},
   "outputs": [
    {
     "name": "stdout",
     "output_type": "stream",
     "text": [
      "<class 'pandas.core.frame.DataFrame'>\n",
      "RangeIndex: 359400 entries, 0 to 359399\n",
      "Data columns (total 5 columns):\n",
      " #   Column     Non-Null Count   Dtype \n",
      "---  ------     --------------   ----- \n",
      " 0   Device     359400 non-null  object\n",
      " 1   End Ts     359400 non-null  object\n",
      " 2   Source Id  359400 non-null  int64 \n",
      " 3   Start Ts   359400 non-null  object\n",
      " 4   Uid        359400 non-null  uint64\n",
      "dtypes: int64(1), object(3), uint64(1)\n",
      "memory usage: 13.7+ MB\n"
     ]
    }
   ],
   "source": [
    "#inicia el análisis de la tabla visits\n",
    "#manda a llamar info para conocer el tipo de datos que tenemos y analizar si debemos cambiar el tipo de datos\n",
    "visits.info()"
   ]
  },
  {
   "cell_type": "code",
   "execution_count": 4,
   "metadata": {},
   "outputs": [
    {
     "data": {
      "text/html": [
       "<div>\n",
       "<style scoped>\n",
       "    .dataframe tbody tr th:only-of-type {\n",
       "        vertical-align: middle;\n",
       "    }\n",
       "\n",
       "    .dataframe tbody tr th {\n",
       "        vertical-align: top;\n",
       "    }\n",
       "\n",
       "    .dataframe thead th {\n",
       "        text-align: right;\n",
       "    }\n",
       "</style>\n",
       "<table border=\"1\" class=\"dataframe\">\n",
       "  <thead>\n",
       "    <tr style=\"text-align: right;\">\n",
       "      <th></th>\n",
       "      <th>Device</th>\n",
       "      <th>End Ts</th>\n",
       "      <th>Source Id</th>\n",
       "      <th>Start Ts</th>\n",
       "      <th>Uid</th>\n",
       "    </tr>\n",
       "  </thead>\n",
       "  <tbody>\n",
       "    <tr>\n",
       "      <th>0</th>\n",
       "      <td>touch</td>\n",
       "      <td>2017-12-20 17:38:00</td>\n",
       "      <td>4</td>\n",
       "      <td>2017-12-20 17:20:00</td>\n",
       "      <td>16879256277535980062</td>\n",
       "    </tr>\n",
       "    <tr>\n",
       "      <th>1</th>\n",
       "      <td>desktop</td>\n",
       "      <td>2018-02-19 17:21:00</td>\n",
       "      <td>2</td>\n",
       "      <td>2018-02-19 16:53:00</td>\n",
       "      <td>104060357244891740</td>\n",
       "    </tr>\n",
       "    <tr>\n",
       "      <th>2</th>\n",
       "      <td>touch</td>\n",
       "      <td>2017-07-01 01:54:00</td>\n",
       "      <td>5</td>\n",
       "      <td>2017-07-01 01:54:00</td>\n",
       "      <td>7459035603376831527</td>\n",
       "    </tr>\n",
       "    <tr>\n",
       "      <th>3</th>\n",
       "      <td>desktop</td>\n",
       "      <td>2018-05-20 11:23:00</td>\n",
       "      <td>9</td>\n",
       "      <td>2018-05-20 10:59:00</td>\n",
       "      <td>16174680259334210214</td>\n",
       "    </tr>\n",
       "    <tr>\n",
       "      <th>4</th>\n",
       "      <td>desktop</td>\n",
       "      <td>2017-12-27 14:06:00</td>\n",
       "      <td>3</td>\n",
       "      <td>2017-12-27 14:06:00</td>\n",
       "      <td>9969694820036681168</td>\n",
       "    </tr>\n",
       "  </tbody>\n",
       "</table>\n",
       "</div>"
      ],
      "text/plain": [
       "    Device               End Ts  Source Id             Start Ts  \\\n",
       "0    touch  2017-12-20 17:38:00          4  2017-12-20 17:20:00   \n",
       "1  desktop  2018-02-19 17:21:00          2  2018-02-19 16:53:00   \n",
       "2    touch  2017-07-01 01:54:00          5  2017-07-01 01:54:00   \n",
       "3  desktop  2018-05-20 11:23:00          9  2018-05-20 10:59:00   \n",
       "4  desktop  2017-12-27 14:06:00          3  2017-12-27 14:06:00   \n",
       "\n",
       "                    Uid  \n",
       "0  16879256277535980062  \n",
       "1    104060357244891740  \n",
       "2   7459035603376831527  \n",
       "3  16174680259334210214  \n",
       "4   9969694820036681168  "
      ]
     },
     "execution_count": 4,
     "metadata": {},
     "output_type": "execute_result"
    }
   ],
   "source": [
    "#visualiza las primeras filas del data visits\n",
    "visits.head()"
   ]
  },
  {
   "cell_type": "code",
   "execution_count": 5,
   "metadata": {},
   "outputs": [
    {
     "data": {
      "text/plain": [
       "Index(['Device', 'End Ts', 'Source Id', 'Start Ts', 'Uid'], dtype='object')"
      ]
     },
     "execution_count": 5,
     "metadata": {},
     "output_type": "execute_result"
    }
   ],
   "source": [
    "visits.columns"
   ]
  },
  {
   "cell_type": "code",
   "execution_count": 6,
   "metadata": {},
   "outputs": [],
   "source": [
    "#mejorar el nombre de las columnas, colocar en minúscula y guión bajo\n",
    "new_columns_name= [] #se crea una nueva lita donde guardar el resultado deseado\n",
    "\n",
    "for old_name in visits.columns: #bucle para cambios en el nombre de las columnas\n",
    "    name_lowered= old_name.lower() #pasa a minúsculas\n",
    "    name_no_spaces = name_lowered.replace(\" \",\"_\") #reemplazan los espacios vacios con guión bajo\n",
    "    new_columns_name.append(name_no_spaces)"
   ]
  },
  {
   "cell_type": "code",
   "execution_count": 7,
   "metadata": {},
   "outputs": [],
   "source": [
    "visits.columns=new_columns_name #reemplazan los nombres pasados a los nombres con cambios"
   ]
  },
  {
   "cell_type": "code",
   "execution_count": 8,
   "metadata": {},
   "outputs": [],
   "source": [
    "#cambiar el tipo de dato a datetime de la columna end_ts\n",
    "visits[\"end_ts\"]=pd.to_datetime(visits[\"end_ts\"] , format=\"%Y-%m-%d\")"
   ]
  },
  {
   "cell_type": "code",
   "execution_count": 9,
   "metadata": {},
   "outputs": [],
   "source": [
    "#cambiar el tipo de dato a datetime de la columna start_ts\n",
    "visits[\"start_ts\"]=pd.to_datetime(visits[\"start_ts\"] , format=\"%Y-%m-%d\")"
   ]
  },
  {
   "cell_type": "code",
   "execution_count": 10,
   "metadata": {},
   "outputs": [
    {
     "name": "stdout",
     "output_type": "stream",
     "text": [
      "device       0\n",
      "end_ts       0\n",
      "source_id    0\n",
      "start_ts     0\n",
      "uid          0\n",
      "dtype: int64\n"
     ]
    }
   ],
   "source": [
    "#buscar valores ausentes\n",
    "print(visits.isna().sum())"
   ]
  },
  {
   "cell_type": "code",
   "execution_count": 11,
   "metadata": {},
   "outputs": [
    {
     "name": "stdout",
     "output_type": "stream",
     "text": [
      "0\n"
     ]
    }
   ],
   "source": [
    "#buscar filas duplicadas\n",
    "print(visits.duplicated().sum())"
   ]
  },
  {
   "cell_type": "code",
   "execution_count": 12,
   "metadata": {},
   "outputs": [
    {
     "name": "stdout",
     "output_type": "stream",
     "text": [
      "<class 'pandas.core.frame.DataFrame'>\n",
      "RangeIndex: 359400 entries, 0 to 359399\n",
      "Data columns (total 5 columns):\n",
      " #   Column     Non-Null Count   Dtype         \n",
      "---  ------     --------------   -----         \n",
      " 0   device     359400 non-null  object        \n",
      " 1   end_ts     359400 non-null  datetime64[ns]\n",
      " 2   source_id  359400 non-null  int64         \n",
      " 3   start_ts   359400 non-null  datetime64[ns]\n",
      " 4   uid        359400 non-null  uint64        \n",
      "dtypes: datetime64[ns](2), int64(1), object(1), uint64(1)\n",
      "memory usage: 13.7+ MB\n"
     ]
    }
   ],
   "source": [
    "#verificar cambios en el tipo de dato del data\n",
    "visits.info()"
   ]
  },
  {
   "cell_type": "code",
   "execution_count": 13,
   "metadata": {},
   "outputs": [
    {
     "name": "stdout",
     "output_type": "stream",
     "text": [
      "<class 'pandas.core.frame.DataFrame'>\n",
      "RangeIndex: 50415 entries, 0 to 50414\n",
      "Data columns (total 3 columns):\n",
      " #   Column   Non-Null Count  Dtype  \n",
      "---  ------   --------------  -----  \n",
      " 0   Buy Ts   50415 non-null  object \n",
      " 1   Revenue  50415 non-null  float64\n",
      " 2   Uid      50415 non-null  uint64 \n",
      "dtypes: float64(1), object(1), uint64(1)\n",
      "memory usage: 1.2+ MB\n"
     ]
    }
   ],
   "source": [
    "#inicia el análisis de la tabla orders\n",
    "#manda a llamar info para conocer su tipo de datos\n",
    "orders.info()"
   ]
  },
  {
   "cell_type": "code",
   "execution_count": 14,
   "metadata": {},
   "outputs": [
    {
     "data": {
      "text/html": [
       "<div>\n",
       "<style scoped>\n",
       "    .dataframe tbody tr th:only-of-type {\n",
       "        vertical-align: middle;\n",
       "    }\n",
       "\n",
       "    .dataframe tbody tr th {\n",
       "        vertical-align: top;\n",
       "    }\n",
       "\n",
       "    .dataframe thead th {\n",
       "        text-align: right;\n",
       "    }\n",
       "</style>\n",
       "<table border=\"1\" class=\"dataframe\">\n",
       "  <thead>\n",
       "    <tr style=\"text-align: right;\">\n",
       "      <th></th>\n",
       "      <th>Buy Ts</th>\n",
       "      <th>Revenue</th>\n",
       "      <th>Uid</th>\n",
       "    </tr>\n",
       "  </thead>\n",
       "  <tbody>\n",
       "    <tr>\n",
       "      <th>0</th>\n",
       "      <td>2017-06-01 00:10:00</td>\n",
       "      <td>17.00</td>\n",
       "      <td>10329302124590727494</td>\n",
       "    </tr>\n",
       "    <tr>\n",
       "      <th>1</th>\n",
       "      <td>2017-06-01 00:25:00</td>\n",
       "      <td>0.55</td>\n",
       "      <td>11627257723692907447</td>\n",
       "    </tr>\n",
       "    <tr>\n",
       "      <th>2</th>\n",
       "      <td>2017-06-01 00:27:00</td>\n",
       "      <td>0.37</td>\n",
       "      <td>17903680561304213844</td>\n",
       "    </tr>\n",
       "    <tr>\n",
       "      <th>3</th>\n",
       "      <td>2017-06-01 00:29:00</td>\n",
       "      <td>0.55</td>\n",
       "      <td>16109239769442553005</td>\n",
       "    </tr>\n",
       "    <tr>\n",
       "      <th>4</th>\n",
       "      <td>2017-06-01 07:58:00</td>\n",
       "      <td>0.37</td>\n",
       "      <td>14200605875248379450</td>\n",
       "    </tr>\n",
       "  </tbody>\n",
       "</table>\n",
       "</div>"
      ],
      "text/plain": [
       "                Buy Ts  Revenue                   Uid\n",
       "0  2017-06-01 00:10:00    17.00  10329302124590727494\n",
       "1  2017-06-01 00:25:00     0.55  11627257723692907447\n",
       "2  2017-06-01 00:27:00     0.37  17903680561304213844\n",
       "3  2017-06-01 00:29:00     0.55  16109239769442553005\n",
       "4  2017-06-01 07:58:00     0.37  14200605875248379450"
      ]
     },
     "execution_count": 14,
     "metadata": {},
     "output_type": "execute_result"
    }
   ],
   "source": [
    "#visualizan las primeras fila del data\n",
    "orders.head()"
   ]
  },
  {
   "cell_type": "code",
   "execution_count": 15,
   "metadata": {},
   "outputs": [
    {
     "data": {
      "text/plain": [
       "Index(['Buy Ts', 'Revenue', 'Uid'], dtype='object')"
      ]
     },
     "execution_count": 15,
     "metadata": {},
     "output_type": "execute_result"
    }
   ],
   "source": [
    "orders.columns"
   ]
  },
  {
   "cell_type": "code",
   "execution_count": 16,
   "metadata": {},
   "outputs": [],
   "source": [
    "#mejorar el nombre de las columnas, colocar en minúscula y guión bajo\n",
    "new_col_name= [] #se crea una nueva lita donde guardar el resultado deseado\n",
    "\n",
    "for old_name in orders.columns: #bucle para cambios en el nombre de las columnas\n",
    "    name_lowered= old_name.lower() #pasa a minúsculas\n",
    "    name_no_spaces = name_lowered.replace(\" \",\"_\") #reemplazan los espacios vacios con guión bajo\n",
    "    new_col_name.append(name_no_spaces)"
   ]
  },
  {
   "cell_type": "code",
   "execution_count": 17,
   "metadata": {},
   "outputs": [],
   "source": [
    "orders.columns=new_col_name #reemplazan los nombres pasados a los nombres con cambios"
   ]
  },
  {
   "cell_type": "code",
   "execution_count": 18,
   "metadata": {},
   "outputs": [],
   "source": [
    "#cambiar el tipo de dato a datetime de la columna buy_ts\n",
    "orders[\"buy_ts\"]=pd.to_datetime(orders[\"buy_ts\"] , format=\"%Y-%m-%d\")"
   ]
  },
  {
   "cell_type": "code",
   "execution_count": 19,
   "metadata": {},
   "outputs": [
    {
     "name": "stdout",
     "output_type": "stream",
     "text": [
      "buy_ts     0\n",
      "revenue    0\n",
      "uid        0\n",
      "dtype: int64\n"
     ]
    }
   ],
   "source": [
    "#buscar valores ausentes\n",
    "print(orders.isna().sum())"
   ]
  },
  {
   "cell_type": "code",
   "execution_count": 20,
   "metadata": {},
   "outputs": [
    {
     "name": "stdout",
     "output_type": "stream",
     "text": [
      "0\n"
     ]
    }
   ],
   "source": [
    "#buscar filas duplicadas\n",
    "print(orders.duplicated().sum())"
   ]
  },
  {
   "cell_type": "code",
   "execution_count": 21,
   "metadata": {},
   "outputs": [
    {
     "name": "stdout",
     "output_type": "stream",
     "text": [
      "<class 'pandas.core.frame.DataFrame'>\n",
      "RangeIndex: 50415 entries, 0 to 50414\n",
      "Data columns (total 3 columns):\n",
      " #   Column   Non-Null Count  Dtype         \n",
      "---  ------   --------------  -----         \n",
      " 0   buy_ts   50415 non-null  datetime64[ns]\n",
      " 1   revenue  50415 non-null  float64       \n",
      " 2   uid      50415 non-null  uint64        \n",
      "dtypes: datetime64[ns](1), float64(1), uint64(1)\n",
      "memory usage: 1.2 MB\n"
     ]
    }
   ],
   "source": [
    "#verificar cambios en el tipo de dato del data\n",
    "orders.info()"
   ]
  },
  {
   "cell_type": "code",
   "execution_count": 22,
   "metadata": {},
   "outputs": [
    {
     "name": "stdout",
     "output_type": "stream",
     "text": [
      "<class 'pandas.core.frame.DataFrame'>\n",
      "RangeIndex: 2542 entries, 0 to 2541\n",
      "Data columns (total 3 columns):\n",
      " #   Column     Non-Null Count  Dtype  \n",
      "---  ------     --------------  -----  \n",
      " 0   source_id  2542 non-null   int64  \n",
      " 1   dt         2542 non-null   object \n",
      " 2   costs      2542 non-null   float64\n",
      "dtypes: float64(1), int64(1), object(1)\n",
      "memory usage: 59.7+ KB\n"
     ]
    }
   ],
   "source": [
    "#inicia el análisis de la tabla costs\n",
    "#manda a llamar info para conocer su tipo de datos\n",
    "costs.info()"
   ]
  },
  {
   "cell_type": "code",
   "execution_count": 23,
   "metadata": {},
   "outputs": [
    {
     "data": {
      "text/html": [
       "<div>\n",
       "<style scoped>\n",
       "    .dataframe tbody tr th:only-of-type {\n",
       "        vertical-align: middle;\n",
       "    }\n",
       "\n",
       "    .dataframe tbody tr th {\n",
       "        vertical-align: top;\n",
       "    }\n",
       "\n",
       "    .dataframe thead th {\n",
       "        text-align: right;\n",
       "    }\n",
       "</style>\n",
       "<table border=\"1\" class=\"dataframe\">\n",
       "  <thead>\n",
       "    <tr style=\"text-align: right;\">\n",
       "      <th></th>\n",
       "      <th>source_id</th>\n",
       "      <th>dt</th>\n",
       "      <th>costs</th>\n",
       "    </tr>\n",
       "  </thead>\n",
       "  <tbody>\n",
       "    <tr>\n",
       "      <th>0</th>\n",
       "      <td>1</td>\n",
       "      <td>2017-06-01</td>\n",
       "      <td>75.20</td>\n",
       "    </tr>\n",
       "    <tr>\n",
       "      <th>1</th>\n",
       "      <td>1</td>\n",
       "      <td>2017-06-02</td>\n",
       "      <td>62.25</td>\n",
       "    </tr>\n",
       "    <tr>\n",
       "      <th>2</th>\n",
       "      <td>1</td>\n",
       "      <td>2017-06-03</td>\n",
       "      <td>36.53</td>\n",
       "    </tr>\n",
       "    <tr>\n",
       "      <th>3</th>\n",
       "      <td>1</td>\n",
       "      <td>2017-06-04</td>\n",
       "      <td>55.00</td>\n",
       "    </tr>\n",
       "    <tr>\n",
       "      <th>4</th>\n",
       "      <td>1</td>\n",
       "      <td>2017-06-05</td>\n",
       "      <td>57.08</td>\n",
       "    </tr>\n",
       "  </tbody>\n",
       "</table>\n",
       "</div>"
      ],
      "text/plain": [
       "   source_id          dt  costs\n",
       "0          1  2017-06-01  75.20\n",
       "1          1  2017-06-02  62.25\n",
       "2          1  2017-06-03  36.53\n",
       "3          1  2017-06-04  55.00\n",
       "4          1  2017-06-05  57.08"
      ]
     },
     "execution_count": 23,
     "metadata": {},
     "output_type": "execute_result"
    }
   ],
   "source": [
    "#visualizan las primeras fila del data\n",
    "costs.head()"
   ]
  },
  {
   "cell_type": "code",
   "execution_count": 24,
   "metadata": {},
   "outputs": [],
   "source": [
    "#cambiar el tipo de dato a datetime de la columna dt\n",
    "costs[\"dt\"]=pd.to_datetime(costs[\"dt\"] , format=\"%Y-%m-%d\")"
   ]
  },
  {
   "cell_type": "code",
   "execution_count": 25,
   "metadata": {},
   "outputs": [
    {
     "name": "stdout",
     "output_type": "stream",
     "text": [
      "source_id    0\n",
      "dt           0\n",
      "costs        0\n",
      "dtype: int64\n"
     ]
    }
   ],
   "source": [
    "#buscar valores ausentes\n",
    "print(costs.isna().sum())"
   ]
  },
  {
   "cell_type": "code",
   "execution_count": 26,
   "metadata": {},
   "outputs": [
    {
     "name": "stdout",
     "output_type": "stream",
     "text": [
      "0\n"
     ]
    }
   ],
   "source": [
    "#buscar filas duplicadas\n",
    "print(costs.duplicated().sum())"
   ]
  },
  {
   "cell_type": "code",
   "execution_count": 27,
   "metadata": {},
   "outputs": [
    {
     "name": "stdout",
     "output_type": "stream",
     "text": [
      "<class 'pandas.core.frame.DataFrame'>\n",
      "RangeIndex: 2542 entries, 0 to 2541\n",
      "Data columns (total 3 columns):\n",
      " #   Column     Non-Null Count  Dtype         \n",
      "---  ------     --------------  -----         \n",
      " 0   source_id  2542 non-null   int64         \n",
      " 1   dt         2542 non-null   datetime64[ns]\n",
      " 2   costs      2542 non-null   float64       \n",
      "dtypes: datetime64[ns](1), float64(1), int64(1)\n",
      "memory usage: 59.7 KB\n"
     ]
    }
   ],
   "source": [
    "#verificar cambios en el tipo de dato del data\n",
    "costs.info()"
   ]
  },
  {
   "cell_type": "markdown",
   "metadata": {},
   "source": [
    "Los 3 datas en general no tenían valores ausentes u valores duplicados, las únicas modificaciones que se hicieron en el data visits y orders, cambiando el tipo de datos a date time y mejorando los títulos de ambas datas para una meojr presentación."
   ]
  },
  {
   "cell_type": "markdown",
   "metadata": {},
   "source": [
    "# Análisis, informes y métricas"
   ]
  },
  {
   "cell_type": "markdown",
   "metadata": {},
   "source": [
    "En esta sección dividiremos el análisis en 3 secciones sobre la busqueda de la información solicitada: visitas, ventas y marketing.\n",
    "En cada sección el enfoque del análisis de los usuarios será diferente, por lo cual se especificará el objetivo de cada análisis al incio de cada sección.\n",
    "Todo esto con el objetivo de cumplir con los objetivos solicitados por la empresa para mejorar su rendimeinto y métricas, además..."
   ]
  },
  {
   "cell_type": "markdown",
   "metadata": {},
   "source": [
    "# Visitas "
   ]
  },
  {
   "cell_type": "markdown",
   "metadata": {},
   "source": [
    "Para este data buscaremos analizar la actividad de los usuarios en nuestra página, conociendo el tráfico de usuario en diferentes periodos de tiempo, la duración promedio  cual es la frecuencia de regreso.\n",
    "Con esto podemos entender de mejor manera a nuestros usuarios y conocer sus necesidades."
   ]
  },
  {
   "cell_type": "code",
   "execution_count": 28,
   "metadata": {},
   "outputs": [
    {
     "data": {
      "text/html": [
       "<div>\n",
       "<style scoped>\n",
       "    .dataframe tbody tr th:only-of-type {\n",
       "        vertical-align: middle;\n",
       "    }\n",
       "\n",
       "    .dataframe tbody tr th {\n",
       "        vertical-align: top;\n",
       "    }\n",
       "\n",
       "    .dataframe thead th {\n",
       "        text-align: right;\n",
       "    }\n",
       "</style>\n",
       "<table border=\"1\" class=\"dataframe\">\n",
       "  <thead>\n",
       "    <tr style=\"text-align: right;\">\n",
       "      <th></th>\n",
       "      <th>device</th>\n",
       "      <th>end_ts</th>\n",
       "      <th>source_id</th>\n",
       "      <th>start_ts</th>\n",
       "      <th>uid</th>\n",
       "    </tr>\n",
       "  </thead>\n",
       "  <tbody>\n",
       "    <tr>\n",
       "      <th>0</th>\n",
       "      <td>touch</td>\n",
       "      <td>2017-12-20 17:38:00</td>\n",
       "      <td>4</td>\n",
       "      <td>2017-12-20 17:20:00</td>\n",
       "      <td>16879256277535980062</td>\n",
       "    </tr>\n",
       "    <tr>\n",
       "      <th>1</th>\n",
       "      <td>desktop</td>\n",
       "      <td>2018-02-19 17:21:00</td>\n",
       "      <td>2</td>\n",
       "      <td>2018-02-19 16:53:00</td>\n",
       "      <td>104060357244891740</td>\n",
       "    </tr>\n",
       "    <tr>\n",
       "      <th>2</th>\n",
       "      <td>touch</td>\n",
       "      <td>2017-07-01 01:54:00</td>\n",
       "      <td>5</td>\n",
       "      <td>2017-07-01 01:54:00</td>\n",
       "      <td>7459035603376831527</td>\n",
       "    </tr>\n",
       "    <tr>\n",
       "      <th>3</th>\n",
       "      <td>desktop</td>\n",
       "      <td>2018-05-20 11:23:00</td>\n",
       "      <td>9</td>\n",
       "      <td>2018-05-20 10:59:00</td>\n",
       "      <td>16174680259334210214</td>\n",
       "    </tr>\n",
       "    <tr>\n",
       "      <th>4</th>\n",
       "      <td>desktop</td>\n",
       "      <td>2017-12-27 14:06:00</td>\n",
       "      <td>3</td>\n",
       "      <td>2017-12-27 14:06:00</td>\n",
       "      <td>9969694820036681168</td>\n",
       "    </tr>\n",
       "  </tbody>\n",
       "</table>\n",
       "</div>"
      ],
      "text/plain": [
       "    device              end_ts  source_id            start_ts  \\\n",
       "0    touch 2017-12-20 17:38:00          4 2017-12-20 17:20:00   \n",
       "1  desktop 2018-02-19 17:21:00          2 2018-02-19 16:53:00   \n",
       "2    touch 2017-07-01 01:54:00          5 2017-07-01 01:54:00   \n",
       "3  desktop 2018-05-20 11:23:00          9 2018-05-20 10:59:00   \n",
       "4  desktop 2017-12-27 14:06:00          3 2017-12-27 14:06:00   \n",
       "\n",
       "                    uid  \n",
       "0  16879256277535980062  \n",
       "1    104060357244891740  \n",
       "2   7459035603376831527  \n",
       "3  16174680259334210214  \n",
       "4   9969694820036681168  "
      ]
     },
     "execution_count": 28,
     "metadata": {},
     "output_type": "execute_result"
    }
   ],
   "source": [
    "visits.head()"
   ]
  },
  {
   "cell_type": "code",
   "execution_count": 29,
   "metadata": {},
   "outputs": [
    {
     "name": "stdout",
     "output_type": "stream",
     "text": [
      "Visitas diarias: uid    907.991758\n",
      "dtype: float64\n",
      "Visitas semanales: uid    5716.245283\n",
      "dtype: float64\n",
      "Visitas mensuales: uid    23228.416667\n",
      "dtype: float64\n"
     ]
    }
   ],
   "source": [
    "#vamos a calcular, ¿Cuántas personas lo usan cada día, semana y mes?\n",
    "\n",
    "visits[\"start_ts\"]=pd.to_datetime(visits[\"start_ts\"]) #cambiar la columna a datetime\n",
    "\n",
    "#nuevas columnas con uso de isocalendar para usar parametros del tiempo requeridos\n",
    "visits[\"session_year\"]=visits[\"start_ts\"].dt.isocalendar().year \n",
    "visits[\"session_month\"]=visits[\"start_ts\"].dt.month\n",
    "visits[\"session_week\"]=visits[\"start_ts\"].dt.isocalendar().week\n",
    "visits[\"session_day\"]=visits[\"start_ts\"].dt.date\n",
    "\n",
    "#agrupa datos por fecha de sesión y buscaremos la media\n",
    "dau_total=visits.groupby(\"session_day\").agg({\"uid\":\"nunique\"}).mean()\n",
    "wau_total=visits.groupby([\"session_year\",\"session_week\"]).agg({\"uid\":\"nunique\"}).mean()\n",
    "mau_total=visits.groupby([\"session_year\",\"session_month\"]).agg({\"uid\":\"nunique\"}).mean()\n",
    "\n",
    "#imprimen los datos solicitados\n",
    "print(\"Visitas diarias:\", dau_total)\n",
    "print(\"Visitas semanales:\", wau_total)\n",
    "print(\"Visitas mensuales:\", mau_total)"
   ]
  },
  {
   "cell_type": "code",
   "execution_count": 30,
   "metadata": {},
   "outputs": [
    {
     "name": "stdout",
     "output_type": "stream",
     "text": [
      "                            n_sessions  n_users  session_per_user\n",
      "session_year session_month                                       \n",
      "2017         6                   16505    13259          1.244815\n",
      "             7                   17828    14183          1.256998\n",
      "             8                   14355    11631          1.234202\n",
      "             9                   23907    18975          1.259921\n",
      "             10                  37903    29692          1.276539\n",
      "             11                  43969    32797          1.340641\n",
      "             12                  41983    31557          1.330386\n",
      "2018         1                   36939    28716          1.286356\n",
      "             2                   37182    28749          1.293332\n",
      "             3                   35679    27473          1.298693\n",
      "             4                   26515    21008          1.262138\n",
      "             5                   26635    20701          1.286653\n"
     ]
    }
   ],
   "source": [
    "#calcular, ¿Cuántas sesiones hay por día? \n",
    "#Considerar que un usuario puede tener más de una sesión\n",
    "\n",
    "#cambiar ambas columnas necesarias a formato datetime\n",
    "visits[\"start_ts\"]=pd.to_datetime(visits[\"start_ts\"])\n",
    "visits[\"end_ts\"]=pd.to_datetime(visits[\"end_ts\"])\n",
    "\n",
    "#sacar los datos con el formato de dato requerido\n",
    "visits[\"session_year\"]=visits[\"start_ts\"].dt.isocalendar().year\n",
    "visits[\"session_month\"]=visits[\"start_ts\"].dt.month\n",
    "\n",
    "#agrupa en usuarios para calcular las sesiones\n",
    "session_per_user= visits.groupby([\"session_year\", \"session_month\"]).agg({\"uid\":[\"count\",\"nunique\"]})\n",
    "session_per_user.columns=[\"n_sessions\",\"n_users\"]\n",
    "session_per_user[\"session_per_user\"]=(session_per_user[\"n_sessions\"]/ session_per_user[\"n_users\"])\n",
    "\n",
    "print(session_per_user)"
   ]
  },
  {
   "cell_type": "code",
   "execution_count": 31,
   "metadata": {
    "scrolled": true
   },
   "outputs": [
    {
     "name": "stdout",
     "output_type": "stream",
     "text": [
      "643.506488592098\n"
     ]
    }
   ],
   "source": [
    "#calcular, ¿Cuál es la duración de cada sesión?\n",
    "\n",
    "#nueva columna para calcular la duración en segundos de la sesión \n",
    "visits[\"session_duration_sec\"]=(visits[\"end_ts\"]-visits[\"start_ts\"]).dt.seconds\n",
    "print(visits[\"session_duration_sec\"].mean())"
   ]
  },
  {
   "cell_type": "code",
   "execution_count": 32,
   "metadata": {},
   "outputs": [
    {
     "data": {
      "text/plain": [
       "<AxesSubplot:>"
      ]
     },
     "execution_count": 32,
     "metadata": {},
     "output_type": "execute_result"
    },
    {
     "data": {
      "image/png": "[encoded data removed]",
      "text/plain": [
       "<Figure size 640x480 with 1 Axes>"
      ]
     },
     "metadata": {},
     "output_type": "display_data"
    }
   ],
   "source": [
    "#se crea un histograma para visualizar la duración de sesiones en la plataforma\n",
    "visits[\"session_duration_sec\"].hist(bins=20) "
   ]
  },
  {
   "cell_type": "code",
   "execution_count": 33,
   "metadata": {},
   "outputs": [
    {
     "name": "stdout",
     "output_type": "stream",
     "text": [
      "0    60\n",
      "dtype: int64\n"
     ]
    }
   ],
   "source": [
    "#se calcula la moda de la duración de las sesiones\n",
    "print(visits[\"session_duration_sec\"].mode())"
   ]
  },
  {
   "cell_type": "code",
   "execution_count": 34,
   "metadata": {},
   "outputs": [
    {
     "name": "stdout",
     "output_type": "stream",
     "text": [
      "Adherencia a la semana: uid    0.158844\n",
      "dtype: float64\n",
      "Adherencia al mes: uid    0.03909\n",
      "dtype: float64\n"
     ]
    }
   ],
   "source": [
    "#calcular, ¿Con qué frecuencia los usuarios regresan?\n",
    "visits[\"start_ts\"]=pd.to_datetime(visits[\"start_ts\"])\n",
    "\n",
    "#crean columnas para sacar el mes, semana y día de las sesiones de los usuarios\n",
    "visits[\"session_year\"]=visits[\"start_ts\"].dt.isocalendar().year\n",
    "visits[\"session_month\"]=visits[\"start_ts\"].dt.month\n",
    "visits[\"session_week\"]=visits[\"start_ts\"].dt.isocalendar().week\n",
    "visits[\"session_day\"]=visits[\"start_ts\"].dt.date\n",
    "\n",
    "#agrupa por cliente y tiempo a analizar\n",
    "dau_total=visits.groupby(\"session_day\").agg({\"uid\":\"nunique\"}).mean()\n",
    "wau_total=visits.groupby([\"session_year\",\"session_week\"]).agg({\"uid\":\"nunique\"}).mean()\n",
    "mau_total=visits.groupby([\"session_year\",\"session_month\"]).agg({\"uid\":\"nunique\"}).mean()\n",
    "\n",
    "#calcula la adherencia a la marca\n",
    "sticky_week=(dau_total / wau_total)\n",
    "sticky_month=(dau_total / mau_total)\n",
    "\n",
    "print(\"Adherencia a la semana:\", sticky_week)\n",
    "print(\"Adherencia al mes:\", sticky_month)"
   ]
  },
  {
   "cell_type": "markdown",
   "metadata": {},
   "source": [
    "**Conclusiones:**\n",
    "\n",
    "\n",
    "La empresa en promedio tiene 90 visitas al dia, 5718 a la semana y 2328 al mes. En general solo se abre sesión 1 vez al día por usuario con un 1.24 de sesiones registradas al día, lo que nos habla de que algunos usuarios regresan a la página pero no es un evento que se realice con regularidad.\n",
    "\n",
    "Una sesión promedio en general dura 643 segundos, 6.4 minutos.\n",
    "El tema esta en la adherencia del usuario, el cual es muy bajo (0.15), puede ser esto un factor normal al ser una empresa con ventas para eventos."
   ]
  },
  {
   "cell_type": "markdown",
   "metadata": {},
   "source": [
    "# Ventas"
   ]
  },
  {
   "cell_type": "markdown",
   "metadata": {},
   "source": [
    "Para la ventas necesitamos entender como es el consumo de la gente en nuestra plataforma, entendiendo desde que punto inician la compras, entiendo en que punto de la interacción un usuario se convierte en cliente.\n",
    "Tomaremos un periodo de  ____ para analizar las actividades de compra en la plataforma y calcular los tamaños promedio de compra de nuestros clientes, así logrando saber cuánto dinero ingresan por cliente en promedio en nuestro negocio."
   ]
  },
  {
   "cell_type": "code",
   "execution_count": 35,
   "metadata": {},
   "outputs": [],
   "source": [
    "#calcular, ¿Cuándo empieza la gente a comprar? \n",
    "\n",
    "#agrupar por id de usuario y día de orden, usa min para eligir la 1er orden\n",
    "first_order_by_customer= orders.groupby(\"uid\")[\"buy_ts\"].min() \n",
    "#cambio del nombre del objeto serie\n",
    "first_order_by_customer.name= \"first_order_dates\" \n",
    "#une a la tabla original la columna con la fecha de la 1er compra por usuario\n",
    "orders=orders.join(first_order_by_customer, on=\"uid\") \n",
    "\n",
    "#separar los meses de las columnas \n",
    "orders[\"first_order_month\"]= orders[\"first_order_dates\"].astype(\"datetime64[M]\") \n",
    "orders[\"order_month\"]= orders[\"buy_ts\"].astype(\"datetime64[M]\")\n",
    "\n",
    "#buscar su primer visita a la pagina del data visits\n",
    "first_visit_by_customer= visits.groupby(\"uid\")[\"start_ts\"].min()\n",
    "first_visit_by_customer.name=\"first_visit_date\"\n",
    "orders=orders.join(first_visit_by_customer, on=\"uid\")\n",
    "\n",
    "#separar los meses de las columnas \n",
    "orders[\"first_visit_month\"]= orders[\"first_visit_date\"].astype(\"datetime64[M]\") \n",
    "\n",
    "# restar de su primer compra contra su 1er sesion\n",
    "orders[\"client_time\"]=(orders[\"first_visit_month\"]- orders[\"first_order_month\"])\n"
   ]
  },
  {
   "cell_type": "code",
   "execution_count": 36,
   "metadata": {},
   "outputs": [
    {
     "data": {
      "text/plain": [
       "0 days       40613\n",
       "-30 days      1867\n",
       "-31 days      1689\n",
       "-61 days      1000\n",
       "-92 days       927\n",
       "-153 days      494\n",
       "-122 days      402\n",
       "-62 days       338\n",
       "-123 days      295\n",
       "-28 days       265\n",
       "-151 days      259\n",
       "-120 days      237\n",
       "-59 days       203\n",
       "-212 days      197\n",
       "-90 days       191\n",
       "-181 days      164\n",
       "-91 days       144\n",
       "-184 days      138\n",
       "-183 days      136\n",
       "-273 days      111\n",
       "-243 days       97\n",
       "-214 days       93\n",
       "-245 days       83\n",
       "-215 days       79\n",
       "-89 days        79\n",
       "-304 days       69\n",
       "-334 days       60\n",
       "-121 days       54\n",
       "-182 days       50\n",
       "-242 days       45\n",
       "-274 days       36\n",
       "Name: client_time, dtype: int64"
      ]
     },
     "execution_count": 36,
     "metadata": {},
     "output_type": "execute_result"
    }
   ],
   "source": [
    "orders[\"client_time\"].value_counts()"
   ]
  },
  {
   "cell_type": "code",
   "execution_count": 37,
   "metadata": {},
   "outputs": [
    {
     "data": {
      "text/html": [
       "<div>\n",
       "<style scoped>\n",
       "    .dataframe tbody tr th:only-of-type {\n",
       "        vertical-align: middle;\n",
       "    }\n",
       "\n",
       "    .dataframe tbody tr th {\n",
       "        vertical-align: top;\n",
       "    }\n",
       "\n",
       "    .dataframe thead th {\n",
       "        text-align: right;\n",
       "    }\n",
       "</style>\n",
       "<table border=\"1\" class=\"dataframe\">\n",
       "  <thead>\n",
       "    <tr style=\"text-align: right;\">\n",
       "      <th></th>\n",
       "      <th>buy_ts</th>\n",
       "      <th>revenue</th>\n",
       "      <th>uid</th>\n",
       "      <th>first_order_dates</th>\n",
       "      <th>first_order_month</th>\n",
       "      <th>order_month</th>\n",
       "      <th>first_visit_date</th>\n",
       "      <th>first_visit_month</th>\n",
       "      <th>client_time</th>\n",
       "    </tr>\n",
       "  </thead>\n",
       "  <tbody>\n",
       "    <tr>\n",
       "      <th>0</th>\n",
       "      <td>2017-06-01 00:10:00</td>\n",
       "      <td>17.00</td>\n",
       "      <td>10329302124590727494</td>\n",
       "      <td>2017-06-01 00:10:00</td>\n",
       "      <td>2017-06-01</td>\n",
       "      <td>2017-06-01</td>\n",
       "      <td>2017-06-01 00:09:00</td>\n",
       "      <td>2017-06-01</td>\n",
       "      <td>0 days</td>\n",
       "    </tr>\n",
       "    <tr>\n",
       "      <th>1</th>\n",
       "      <td>2017-06-01 00:25:00</td>\n",
       "      <td>0.55</td>\n",
       "      <td>11627257723692907447</td>\n",
       "      <td>2017-06-01 00:25:00</td>\n",
       "      <td>2017-06-01</td>\n",
       "      <td>2017-06-01</td>\n",
       "      <td>2017-06-01 00:14:00</td>\n",
       "      <td>2017-06-01</td>\n",
       "      <td>0 days</td>\n",
       "    </tr>\n",
       "    <tr>\n",
       "      <th>2</th>\n",
       "      <td>2017-06-01 00:27:00</td>\n",
       "      <td>0.37</td>\n",
       "      <td>17903680561304213844</td>\n",
       "      <td>2017-06-01 00:27:00</td>\n",
       "      <td>2017-06-01</td>\n",
       "      <td>2017-06-01</td>\n",
       "      <td>2017-06-01 00:25:00</td>\n",
       "      <td>2017-06-01</td>\n",
       "      <td>0 days</td>\n",
       "    </tr>\n",
       "    <tr>\n",
       "      <th>3</th>\n",
       "      <td>2017-06-01 00:29:00</td>\n",
       "      <td>0.55</td>\n",
       "      <td>16109239769442553005</td>\n",
       "      <td>2017-06-01 00:29:00</td>\n",
       "      <td>2017-06-01</td>\n",
       "      <td>2017-06-01</td>\n",
       "      <td>2017-06-01 00:14:00</td>\n",
       "      <td>2017-06-01</td>\n",
       "      <td>0 days</td>\n",
       "    </tr>\n",
       "    <tr>\n",
       "      <th>4</th>\n",
       "      <td>2017-06-01 07:58:00</td>\n",
       "      <td>0.37</td>\n",
       "      <td>14200605875248379450</td>\n",
       "      <td>2017-06-01 07:58:00</td>\n",
       "      <td>2017-06-01</td>\n",
       "      <td>2017-06-01</td>\n",
       "      <td>2017-06-01 07:31:00</td>\n",
       "      <td>2017-06-01</td>\n",
       "      <td>0 days</td>\n",
       "    </tr>\n",
       "    <tr>\n",
       "      <th>...</th>\n",
       "      <td>...</td>\n",
       "      <td>...</td>\n",
       "      <td>...</td>\n",
       "      <td>...</td>\n",
       "      <td>...</td>\n",
       "      <td>...</td>\n",
       "      <td>...</td>\n",
       "      <td>...</td>\n",
       "      <td>...</td>\n",
       "    </tr>\n",
       "    <tr>\n",
       "      <th>50410</th>\n",
       "      <td>2018-05-31 23:50:00</td>\n",
       "      <td>4.64</td>\n",
       "      <td>12296626599487328624</td>\n",
       "      <td>2018-05-31 23:50:00</td>\n",
       "      <td>2018-05-01</td>\n",
       "      <td>2018-05-01</td>\n",
       "      <td>2018-05-31 09:11:00</td>\n",
       "      <td>2018-05-01</td>\n",
       "      <td>0 days</td>\n",
       "    </tr>\n",
       "    <tr>\n",
       "      <th>50411</th>\n",
       "      <td>2018-05-31 23:50:00</td>\n",
       "      <td>5.80</td>\n",
       "      <td>11369640365507475976</td>\n",
       "      <td>2018-05-31 23:50:00</td>\n",
       "      <td>2018-05-01</td>\n",
       "      <td>2018-05-01</td>\n",
       "      <td>2018-05-31 23:05:00</td>\n",
       "      <td>2018-05-01</td>\n",
       "      <td>0 days</td>\n",
       "    </tr>\n",
       "    <tr>\n",
       "      <th>50412</th>\n",
       "      <td>2018-05-31 23:54:00</td>\n",
       "      <td>0.30</td>\n",
       "      <td>1786462140797698849</td>\n",
       "      <td>2018-05-31 23:54:00</td>\n",
       "      <td>2018-05-01</td>\n",
       "      <td>2018-05-01</td>\n",
       "      <td>2018-05-31 23:52:00</td>\n",
       "      <td>2018-05-01</td>\n",
       "      <td>0 days</td>\n",
       "    </tr>\n",
       "    <tr>\n",
       "      <th>50413</th>\n",
       "      <td>2018-05-31 23:56:00</td>\n",
       "      <td>3.67</td>\n",
       "      <td>3993697860786194247</td>\n",
       "      <td>2018-05-31 23:56:00</td>\n",
       "      <td>2018-05-01</td>\n",
       "      <td>2018-05-01</td>\n",
       "      <td>2017-10-23 12:32:00</td>\n",
       "      <td>2017-10-01</td>\n",
       "      <td>-212 days</td>\n",
       "    </tr>\n",
       "    <tr>\n",
       "      <th>50414</th>\n",
       "      <td>2018-06-01 00:02:00</td>\n",
       "      <td>3.42</td>\n",
       "      <td>83872787173869366</td>\n",
       "      <td>2018-06-01 00:02:00</td>\n",
       "      <td>2018-06-01</td>\n",
       "      <td>2018-06-01</td>\n",
       "      <td>2018-05-31 23:59:00</td>\n",
       "      <td>2018-05-01</td>\n",
       "      <td>-31 days</td>\n",
       "    </tr>\n",
       "  </tbody>\n",
       "</table>\n",
       "<p>50415 rows × 9 columns</p>\n",
       "</div>"
      ],
      "text/plain": [
       "                   buy_ts  revenue                   uid   first_order_dates  \\\n",
       "0     2017-06-01 00:10:00    17.00  10329302124590727494 2017-06-01 00:10:00   \n",
       "1     2017-06-01 00:25:00     0.55  11627257723692907447 2017-06-01 00:25:00   \n",
       "2     2017-06-01 00:27:00     0.37  17903680561304213844 2017-06-01 00:27:00   \n",
       "3     2017-06-01 00:29:00     0.55  16109239769442553005 2017-06-01 00:29:00   \n",
       "4     2017-06-01 07:58:00     0.37  14200605875248379450 2017-06-01 07:58:00   \n",
       "...                   ...      ...                   ...                 ...   \n",
       "50410 2018-05-31 23:50:00     4.64  12296626599487328624 2018-05-31 23:50:00   \n",
       "50411 2018-05-31 23:50:00     5.80  11369640365507475976 2018-05-31 23:50:00   \n",
       "50412 2018-05-31 23:54:00     0.30   1786462140797698849 2018-05-31 23:54:00   \n",
       "50413 2018-05-31 23:56:00     3.67   3993697860786194247 2018-05-31 23:56:00   \n",
       "50414 2018-06-01 00:02:00     3.42     83872787173869366 2018-06-01 00:02:00   \n",
       "\n",
       "      first_order_month order_month    first_visit_date first_visit_month  \\\n",
       "0            2017-06-01  2017-06-01 2017-06-01 00:09:00        2017-06-01   \n",
       "1            2017-06-01  2017-06-01 2017-06-01 00:14:00        2017-06-01   \n",
       "2            2017-06-01  2017-06-01 2017-06-01 00:25:00        2017-06-01   \n",
       "3            2017-06-01  2017-06-01 2017-06-01 00:14:00        2017-06-01   \n",
       "4            2017-06-01  2017-06-01 2017-06-01 07:31:00        2017-06-01   \n",
       "...                 ...         ...                 ...               ...   \n",
       "50410        2018-05-01  2018-05-01 2018-05-31 09:11:00        2018-05-01   \n",
       "50411        2018-05-01  2018-05-01 2018-05-31 23:05:00        2018-05-01   \n",
       "50412        2018-05-01  2018-05-01 2018-05-31 23:52:00        2018-05-01   \n",
       "50413        2018-05-01  2018-05-01 2017-10-23 12:32:00        2017-10-01   \n",
       "50414        2018-06-01  2018-06-01 2018-05-31 23:59:00        2018-05-01   \n",
       "\n",
       "      client_time  \n",
       "0          0 days  \n",
       "1          0 days  \n",
       "2          0 days  \n",
       "3          0 days  \n",
       "4          0 days  \n",
       "...           ...  \n",
       "50410      0 days  \n",
       "50411      0 days  \n",
       "50412      0 days  \n",
       "50413   -212 days  \n",
       "50414    -31 days  \n",
       "\n",
       "[50415 rows x 9 columns]"
      ]
     },
     "execution_count": 37,
     "metadata": {},
     "output_type": "execute_result"
    }
   ],
   "source": [
    "orders"
   ]
  },
  {
   "cell_type": "code",
   "execution_count": 38,
   "metadata": {},
   "outputs": [],
   "source": [
    "#calcular, ¿Cuántos pedidos se hacen durante un período de tiempo dado? (compras por mes)\n",
    "\n",
    "#crear una nueva columna solo con el mes\n",
    "orders['month'] = orders['buy_ts'].dt.month"
   ]
  },
  {
   "cell_type": "code",
   "execution_count": 39,
   "metadata": {},
   "outputs": [
    {
     "name": "stdout",
     "output_type": "stream",
     "text": [
      "month\n",
      "1     4721\n",
      "2     5281\n",
      "3     5326\n",
      "4     3273\n",
      "5     4346\n",
      "6     2355\n",
      "7     2363\n",
      "8     1807\n",
      "9     3387\n",
      "10    5679\n",
      "11    5659\n",
      "12    6218\n",
      "Name: order_month, dtype: int64\n"
     ]
    }
   ],
   "source": [
    "#agrupa por mes y se cuentan la cantidad de ordenes mensuales\n",
    "pedidos_mensuales=orders.groupby([\"month\"])[\"order_month\"].count()\n",
    "\n",
    "print(pedidos_mensuales)"
   ]
  },
  {
   "cell_type": "code",
   "execution_count": 40,
   "metadata": {},
   "outputs": [
    {
     "name": "stdout",
     "output_type": "stream",
     "text": [
      "4201.25\n"
     ]
    }
   ],
   "source": [
    "print(pedidos_mensuales.mean())"
   ]
  },
  {
   "cell_type": "code",
   "execution_count": 41,
   "metadata": {},
   "outputs": [
    {
     "data": {
      "text/html": [
       "<div>\n",
       "<style scoped>\n",
       "    .dataframe tbody tr th:only-of-type {\n",
       "        vertical-align: middle;\n",
       "    }\n",
       "\n",
       "    .dataframe tbody tr th {\n",
       "        vertical-align: top;\n",
       "    }\n",
       "\n",
       "    .dataframe thead th {\n",
       "        text-align: right;\n",
       "    }\n",
       "</style>\n",
       "<table border=\"1\" class=\"dataframe\">\n",
       "  <thead>\n",
       "    <tr style=\"text-align: right;\">\n",
       "      <th></th>\n",
       "      <th>revenue</th>\n",
       "    </tr>\n",
       "    <tr>\n",
       "      <th>month</th>\n",
       "      <th></th>\n",
       "    </tr>\n",
       "  </thead>\n",
       "  <tbody>\n",
       "    <tr>\n",
       "      <th>1</th>\n",
       "      <td>19417.13</td>\n",
       "    </tr>\n",
       "    <tr>\n",
       "      <th>2</th>\n",
       "      <td>25560.54</td>\n",
       "    </tr>\n",
       "    <tr>\n",
       "      <th>3</th>\n",
       "      <td>28834.59</td>\n",
       "    </tr>\n",
       "    <tr>\n",
       "      <th>4</th>\n",
       "      <td>16858.06</td>\n",
       "    </tr>\n",
       "    <tr>\n",
       "      <th>5</th>\n",
       "      <td>20735.98</td>\n",
       "    </tr>\n",
       "    <tr>\n",
       "      <th>6</th>\n",
       "      <td>9560.91</td>\n",
       "    </tr>\n",
       "    <tr>\n",
       "      <th>7</th>\n",
       "      <td>12539.47</td>\n",
       "    </tr>\n",
       "    <tr>\n",
       "      <th>8</th>\n",
       "      <td>8758.78</td>\n",
       "    </tr>\n",
       "    <tr>\n",
       "      <th>9</th>\n",
       "      <td>18345.51</td>\n",
       "    </tr>\n",
       "    <tr>\n",
       "      <th>10</th>\n",
       "      <td>27987.70</td>\n",
       "    </tr>\n",
       "    <tr>\n",
       "      <th>11</th>\n",
       "      <td>27069.93</td>\n",
       "    </tr>\n",
       "    <tr>\n",
       "      <th>12</th>\n",
       "      <td>36388.60</td>\n",
       "    </tr>\n",
       "  </tbody>\n",
       "</table>\n",
       "</div>"
      ],
      "text/plain": [
       "        revenue\n",
       "month          \n",
       "1      19417.13\n",
       "2      25560.54\n",
       "3      28834.59\n",
       "4      16858.06\n",
       "5      20735.98\n",
       "6       9560.91\n",
       "7      12539.47\n",
       "8       8758.78\n",
       "9      18345.51\n",
       "10     27987.70\n",
       "11     27069.93\n",
       "12     36388.60"
      ]
     },
     "execution_count": 41,
     "metadata": {},
     "output_type": "execute_result"
    }
   ],
   "source": [
    "#calcular, ¿Cuál es el tamaño promedio de compra?\n",
    "#agrupa por mes y se suma el ingreso\n",
    "promedio_de_compra=orders.groupby([\"month\"]).agg({\"revenue\":\"sum\"})\n",
    "\n",
    "promedio_de_compra"
   ]
  },
  {
   "cell_type": "code",
   "execution_count": 42,
   "metadata": {},
   "outputs": [
    {
     "name": "stdout",
     "output_type": "stream",
     "text": [
      "Promedio anual: revenue    21004.766667\n",
      "dtype: float64\n",
      "Mes mínimo: revenue    8758.78\n",
      "dtype: float64\n",
      "Mes máximo: revenue    36388.6\n",
      "dtype: float64\n"
     ]
    }
   ],
   "source": [
    "print(\"Promedio anual:\", promedio_de_compra.mean())\n",
    "print(\"Mes mínimo:\", promedio_de_compra.min())\n",
    "print(\"Mes máximo:\", promedio_de_compra.max())\n"
   ]
  },
  {
   "cell_type": "code",
   "execution_count": 43,
   "metadata": {},
   "outputs": [],
   "source": [
    "#calcular, ¿Cuánto dinero traen? (LTV)\n",
    "orders[\"order_month\"]= orders[\"buy_ts\"].astype(\"datetime64[M]\")\n",
    "costs[\"month\"]=costs[\"dt\"].astype(\"datetime64[M]\")\n",
    "\n",
    "#agrupar el mes de la 1era compra de cada cliente\n",
    "first_order=orders.groupby(\"uid\").agg({\"first_order_dates\":\"min\"}).reset_index()\n",
    "first_order.columns=[\"uid\", \"first_order_per_client\"]\n",
    "\n",
    "#calcula el numero de nuevos clientes por mes\n",
    "cohort_sizes=first_order.groupby(\"first_order_per_client\").agg({\"uid\":\"nunique\"}).reset_index()\n",
    "cohort_sizes.columns=[\"first_order_per_client\", \"n_buyers\"]\n",
    "cohort_sizes[\"order_month\"]=cohort_sizes[\"first_order_per_client\"].astype(\"datetime64[M]\")\n",
    "\n",
    "#agregar el mes de la primer compra a la tabla de pedidos\n",
    "orders1=pd.merge(orders, first_order, on=\"uid\")\n",
    "orders1[\"order_month\"]=orders1[\"first_order_per_client\"].astype(\"datetime64[M]\")\n",
    "\n",
    "#agrupar la tabla de pedidos por mes de la 1er compra y totalizar los ingresos\n",
    "cohorts=orders1.groupby([\"order_month\"]).agg({\"revenue\":\"sum\"}).reset_index()\n",
    "\n",
    "#agregar datos sobre cuantos usuarios realizaron sus primeras compras en cada mes \n",
    "report=pd.merge(cohort_sizes, cohorts, on=\"order_month\")\n"
   ]
  },
  {
   "cell_type": "code",
   "execution_count": 44,
   "metadata": {},
   "outputs": [
    {
     "data": {
      "text/html": [
       "<div>\n",
       "<style scoped>\n",
       "    .dataframe tbody tr th:only-of-type {\n",
       "        vertical-align: middle;\n",
       "    }\n",
       "\n",
       "    .dataframe tbody tr th {\n",
       "        vertical-align: top;\n",
       "    }\n",
       "\n",
       "    .dataframe thead th {\n",
       "        text-align: right;\n",
       "    }\n",
       "</style>\n",
       "<table border=\"1\" class=\"dataframe\">\n",
       "  <thead>\n",
       "    <tr style=\"text-align: right;\">\n",
       "      <th></th>\n",
       "      <th>first_order_per_client</th>\n",
       "      <th>n_buyers</th>\n",
       "      <th>order_month</th>\n",
       "      <th>revenue</th>\n",
       "    </tr>\n",
       "  </thead>\n",
       "  <tbody>\n",
       "    <tr>\n",
       "      <th>0</th>\n",
       "      <td>2017-06-01 00:10:00</td>\n",
       "      <td>1</td>\n",
       "      <td>2017-06-01</td>\n",
       "      <td>24031.69</td>\n",
       "    </tr>\n",
       "    <tr>\n",
       "      <th>1</th>\n",
       "      <td>2017-06-01 00:25:00</td>\n",
       "      <td>1</td>\n",
       "      <td>2017-06-01</td>\n",
       "      <td>24031.69</td>\n",
       "    </tr>\n",
       "    <tr>\n",
       "      <th>2</th>\n",
       "      <td>2017-06-01 00:27:00</td>\n",
       "      <td>1</td>\n",
       "      <td>2017-06-01</td>\n",
       "      <td>24031.69</td>\n",
       "    </tr>\n",
       "    <tr>\n",
       "      <th>3</th>\n",
       "      <td>2017-06-01 00:29:00</td>\n",
       "      <td>1</td>\n",
       "      <td>2017-06-01</td>\n",
       "      <td>24031.69</td>\n",
       "    </tr>\n",
       "    <tr>\n",
       "      <th>4</th>\n",
       "      <td>2017-06-01 07:58:00</td>\n",
       "      <td>1</td>\n",
       "      <td>2017-06-01</td>\n",
       "      <td>24031.69</td>\n",
       "    </tr>\n",
       "    <tr>\n",
       "      <th>...</th>\n",
       "      <td>...</td>\n",
       "      <td>...</td>\n",
       "      <td>...</td>\n",
       "      <td>...</td>\n",
       "    </tr>\n",
       "    <tr>\n",
       "      <th>34117</th>\n",
       "      <td>2018-05-31 23:43:00</td>\n",
       "      <td>1</td>\n",
       "      <td>2018-05-01</td>\n",
       "      <td>13925.76</td>\n",
       "    </tr>\n",
       "    <tr>\n",
       "      <th>34118</th>\n",
       "      <td>2018-05-31 23:50:00</td>\n",
       "      <td>2</td>\n",
       "      <td>2018-05-01</td>\n",
       "      <td>13925.76</td>\n",
       "    </tr>\n",
       "    <tr>\n",
       "      <th>34119</th>\n",
       "      <td>2018-05-31 23:54:00</td>\n",
       "      <td>1</td>\n",
       "      <td>2018-05-01</td>\n",
       "      <td>13925.76</td>\n",
       "    </tr>\n",
       "    <tr>\n",
       "      <th>34120</th>\n",
       "      <td>2018-05-31 23:56:00</td>\n",
       "      <td>1</td>\n",
       "      <td>2018-05-01</td>\n",
       "      <td>13925.76</td>\n",
       "    </tr>\n",
       "    <tr>\n",
       "      <th>34121</th>\n",
       "      <td>2018-06-01 00:02:00</td>\n",
       "      <td>1</td>\n",
       "      <td>2018-06-01</td>\n",
       "      <td>3.42</td>\n",
       "    </tr>\n",
       "  </tbody>\n",
       "</table>\n",
       "<p>34122 rows × 4 columns</p>\n",
       "</div>"
      ],
      "text/plain": [
       "      first_order_per_client  n_buyers order_month   revenue\n",
       "0        2017-06-01 00:10:00         1  2017-06-01  24031.69\n",
       "1        2017-06-01 00:25:00         1  2017-06-01  24031.69\n",
       "2        2017-06-01 00:27:00         1  2017-06-01  24031.69\n",
       "3        2017-06-01 00:29:00         1  2017-06-01  24031.69\n",
       "4        2017-06-01 07:58:00         1  2017-06-01  24031.69\n",
       "...                      ...       ...         ...       ...\n",
       "34117    2018-05-31 23:43:00         1  2018-05-01  13925.76\n",
       "34118    2018-05-31 23:50:00         2  2018-05-01  13925.76\n",
       "34119    2018-05-31 23:54:00         1  2018-05-01  13925.76\n",
       "34120    2018-05-31 23:56:00         1  2018-05-01  13925.76\n",
       "34121    2018-06-01 00:02:00         1  2018-06-01      3.42\n",
       "\n",
       "[34122 rows x 4 columns]"
      ]
     },
     "execution_count": 44,
     "metadata": {},
     "output_type": "execute_result"
    }
   ],
   "source": [
    "#visualizar data report\n",
    "report"
   ]
  },
  {
   "cell_type": "code",
   "execution_count": 45,
   "metadata": {},
   "outputs": [],
   "source": [
    "final_report=report.groupby(\"order_month\").agg({\"revenue\":\"sum\",\"n_buyers\":\"count\"})"
   ]
  },
  {
   "cell_type": "code",
   "execution_count": 46,
   "metadata": {},
   "outputs": [
    {
     "data": {
      "text/html": [
       "<div>\n",
       "<style scoped>\n",
       "    .dataframe tbody tr th:only-of-type {\n",
       "        vertical-align: middle;\n",
       "    }\n",
       "\n",
       "    .dataframe tbody tr th {\n",
       "        vertical-align: top;\n",
       "    }\n",
       "\n",
       "    .dataframe thead th {\n",
       "        text-align: right;\n",
       "    }\n",
       "</style>\n",
       "<table border=\"1\" class=\"dataframe\">\n",
       "  <thead>\n",
       "    <tr style=\"text-align: right;\">\n",
       "      <th></th>\n",
       "      <th>revenue</th>\n",
       "      <th>n_buyers</th>\n",
       "    </tr>\n",
       "    <tr>\n",
       "      <th>order_month</th>\n",
       "      <th></th>\n",
       "      <th></th>\n",
       "    </tr>\n",
       "  </thead>\n",
       "  <tbody>\n",
       "    <tr>\n",
       "      <th>2017-06-01</th>\n",
       "      <td>4.674164e+07</td>\n",
       "      <td>1945</td>\n",
       "    </tr>\n",
       "    <tr>\n",
       "      <th>2017-07-01</th>\n",
       "      <td>2.959473e+07</td>\n",
       "      <td>1835</td>\n",
       "    </tr>\n",
       "    <tr>\n",
       "      <th>2017-08-01</th>\n",
       "      <td>1.542472e+07</td>\n",
       "      <td>1329</td>\n",
       "    </tr>\n",
       "    <tr>\n",
       "      <th>2017-09-01</th>\n",
       "      <td>8.561583e+07</td>\n",
       "      <td>2469</td>\n",
       "    </tr>\n",
       "    <tr>\n",
       "      <th>2017-10-01</th>\n",
       "      <td>1.104966e+08</td>\n",
       "      <td>4003</td>\n",
       "    </tr>\n",
       "    <tr>\n",
       "      <th>2017-11-01</th>\n",
       "      <td>9.703604e+07</td>\n",
       "      <td>3718</td>\n",
       "    </tr>\n",
       "    <tr>\n",
       "      <th>2017-12-01</th>\n",
       "      <td>1.362200e+08</td>\n",
       "      <td>4068</td>\n",
       "    </tr>\n",
       "    <tr>\n",
       "      <th>2018-01-01</th>\n",
       "      <td>5.300542e+07</td>\n",
       "      <td>3181</td>\n",
       "    </tr>\n",
       "    <tr>\n",
       "      <th>2018-02-01</th>\n",
       "      <td>5.671719e+07</td>\n",
       "      <td>3386</td>\n",
       "    </tr>\n",
       "    <tr>\n",
       "      <th>2018-03-01</th>\n",
       "      <td>6.340952e+07</td>\n",
       "      <td>3290</td>\n",
       "    </tr>\n",
       "    <tr>\n",
       "      <th>2018-04-01</th>\n",
       "      <td>2.568808e+07</td>\n",
       "      <td>2175</td>\n",
       "    </tr>\n",
       "    <tr>\n",
       "      <th>2018-05-01</th>\n",
       "      <td>3.790592e+07</td>\n",
       "      <td>2722</td>\n",
       "    </tr>\n",
       "    <tr>\n",
       "      <th>2018-06-01</th>\n",
       "      <td>3.420000e+00</td>\n",
       "      <td>1</td>\n",
       "    </tr>\n",
       "  </tbody>\n",
       "</table>\n",
       "</div>"
      ],
      "text/plain": [
       "                  revenue  n_buyers\n",
       "order_month                        \n",
       "2017-06-01   4.674164e+07      1945\n",
       "2017-07-01   2.959473e+07      1835\n",
       "2017-08-01   1.542472e+07      1329\n",
       "2017-09-01   8.561583e+07      2469\n",
       "2017-10-01   1.104966e+08      4003\n",
       "2017-11-01   9.703604e+07      3718\n",
       "2017-12-01   1.362200e+08      4068\n",
       "2018-01-01   5.300542e+07      3181\n",
       "2018-02-01   5.671719e+07      3386\n",
       "2018-03-01   6.340952e+07      3290\n",
       "2018-04-01   2.568808e+07      2175\n",
       "2018-05-01   3.790592e+07      2722\n",
       "2018-06-01   3.420000e+00         1"
      ]
     },
     "execution_count": 46,
     "metadata": {},
     "output_type": "execute_result"
    }
   ],
   "source": [
    "final_report"
   ]
  },
  {
   "cell_type": "code",
   "execution_count": 47,
   "metadata": {},
   "outputs": [],
   "source": [
    "#encontrar el beneficio bruto\n",
    "\n",
    "#se pone un margen al hazar ya que no se nos fue proporcionado el dato\n",
    "margin_rate=0.5\n",
    "report[\"gp\"]=report[\"revenue\"]*margin_rate\n",
    "report[\"age\"]=(report[\"order_month\"]-report[\"first_order_per_client\"]) / np.timedelta64(1,\"M\") #pide time delta calcule el tiempo transcurrido\n",
    "report[\"age\"]=report[\"age\"].astype(\"int\") #redonde resultado a numeros enteros\n",
    "\n",
    "#calcula ltv\n",
    "report[\"ltv\"]=report[\"gp\"] / report[\"n_buyers\"]"
   ]
  },
  {
   "cell_type": "code",
   "execution_count": 48,
   "metadata": {},
   "outputs": [
    {
     "data": {
      "text/html": [
       "<div>\n",
       "<style scoped>\n",
       "    .dataframe tbody tr th:only-of-type {\n",
       "        vertical-align: middle;\n",
       "    }\n",
       "\n",
       "    .dataframe tbody tr th {\n",
       "        vertical-align: top;\n",
       "    }\n",
       "\n",
       "    .dataframe thead th {\n",
       "        text-align: right;\n",
       "    }\n",
       "</style>\n",
       "<table border=\"1\" class=\"dataframe\">\n",
       "  <thead>\n",
       "    <tr style=\"text-align: right;\">\n",
       "      <th>age</th>\n",
       "      <th>-1</th>\n",
       "      <th>0</th>\n",
       "    </tr>\n",
       "    <tr>\n",
       "      <th>order_month</th>\n",
       "      <th></th>\n",
       "      <th></th>\n",
       "    </tr>\n",
       "  </thead>\n",
       "  <tbody>\n",
       "    <tr>\n",
       "      <th>2017-06-01</th>\n",
       "      <td></td>\n",
       "      <td>11779.0</td>\n",
       "    </tr>\n",
       "    <tr>\n",
       "      <th>2017-07-01</th>\n",
       "      <td>7952.0</td>\n",
       "      <td>7875.0</td>\n",
       "    </tr>\n",
       "    <tr>\n",
       "      <th>2017-08-01</th>\n",
       "      <td>5667.0</td>\n",
       "      <td>5721.0</td>\n",
       "    </tr>\n",
       "    <tr>\n",
       "      <th>2017-09-01</th>\n",
       "      <td></td>\n",
       "      <td>16945.0</td>\n",
       "    </tr>\n",
       "    <tr>\n",
       "      <th>2017-10-01</th>\n",
       "      <td>13367.0</td>\n",
       "      <td>13247.0</td>\n",
       "    </tr>\n",
       "    <tr>\n",
       "      <th>2017-11-01</th>\n",
       "      <td></td>\n",
       "      <td>12490.0</td>\n",
       "    </tr>\n",
       "    <tr>\n",
       "      <th>2017-12-01</th>\n",
       "      <td>16174.0</td>\n",
       "      <td>16111.0</td>\n",
       "    </tr>\n",
       "    <tr>\n",
       "      <th>2018-01-01</th>\n",
       "      <td>8100.0</td>\n",
       "      <td>8085.0</td>\n",
       "    </tr>\n",
       "    <tr>\n",
       "      <th>2018-02-01</th>\n",
       "      <td></td>\n",
       "      <td>8069.0</td>\n",
       "    </tr>\n",
       "    <tr>\n",
       "      <th>2018-03-01</th>\n",
       "      <td></td>\n",
       "      <td>9291.0</td>\n",
       "    </tr>\n",
       "    <tr>\n",
       "      <th>2018-04-01</th>\n",
       "      <td></td>\n",
       "      <td>5770.0</td>\n",
       "    </tr>\n",
       "    <tr>\n",
       "      <th>2018-05-01</th>\n",
       "      <td>6139.0</td>\n",
       "      <td>6743.0</td>\n",
       "    </tr>\n",
       "    <tr>\n",
       "      <th>2018-06-01</th>\n",
       "      <td></td>\n",
       "      <td>2.0</td>\n",
       "    </tr>\n",
       "  </tbody>\n",
       "</table>\n",
       "</div>"
      ],
      "text/plain": [
       "age               -1        0\n",
       "order_month                  \n",
       "2017-06-01            11779.0\n",
       "2017-07-01    7952.0   7875.0\n",
       "2017-08-01    5667.0   5721.0\n",
       "2017-09-01            16945.0\n",
       "2017-10-01   13367.0  13247.0\n",
       "2017-11-01            12490.0\n",
       "2017-12-01   16174.0  16111.0\n",
       "2018-01-01    8100.0   8085.0\n",
       "2018-02-01             8069.0\n",
       "2018-03-01             9291.0\n",
       "2018-04-01             5770.0\n",
       "2018-05-01    6139.0   6743.0\n",
       "2018-06-01                2.0"
      ]
     },
     "execution_count": 48,
     "metadata": {},
     "output_type": "execute_result"
    }
   ],
   "source": [
    "#crea una tabla dinamica\n",
    "ltv=report.pivot_table( index=\"order_month\", columns=\"age\", values=\"ltv\", aggfunc=\"mean\").round ()\n",
    "ltv.fillna(\" \")"
   ]
  },
  {
   "cell_type": "code",
   "execution_count": 49,
   "metadata": {},
   "outputs": [
    {
     "data": {
      "text/plain": [
       "<AxesSubplot:xlabel='age', ylabel='order_month'>"
      ]
     },
     "execution_count": 49,
     "metadata": {},
     "output_type": "execute_result"
    },
    {
     "data": {
      "image/png": "[encoded data removed]",
      "text/plain": [
       "<Figure size 1300x1000 with 2 Axes>"
      ]
     },
     "metadata": {},
     "output_type": "display_data"
    }
   ],
   "source": [
    "#crear un mapa de calor\n",
    "plt.figure(figsize=(13,10))\n",
    "plt.title=(\"LTV de lso clientes\")\n",
    "\n",
    "sns.heatmap(ltv, annot=True, fmt=\".1f\", linewidths=\"1\", linecolor=\"gray\")"
   ]
  },
  {
   "cell_type": "code",
   "execution_count": 50,
   "metadata": {},
   "outputs": [
    {
     "data": {
      "text/plain": [
       "11779.0"
      ]
     },
     "execution_count": 50,
     "metadata": {},
     "output_type": "execute_result"
    }
   ],
   "source": [
    "#calcular ltv de nuestra primer cohorte\n",
    "ltv_201707=ltv.loc[\"2017-06-01\"].sum()\n",
    "ltv_201707"
   ]
  },
  {
   "cell_type": "markdown",
   "metadata": {},
   "source": [
    "**Conclusiones:**\n",
    "\n",
    "Genrealmente el mayor porcentaje de nuestros usuarios se vuelven clientes el mismo día, teniendo un rango de 0 hasta 794 (9 meses) para su compra.\n",
    "\n",
    "En promedio recibimos 4 201 pedidos de eventos mensuales en nuestra empresa.\n",
    "\n",
    "Un promedio de compra general es de 21 004.76, el evento que menos generó fue de 8 758.78 y el más caro fue de 36 388.6\n",
    "\n",
    "Cada cliente nos genero un ltv de 11 779 de nuestra primera cohorte del mes junio del año 2017."
   ]
  },
  {
   "cell_type": "markdown",
   "metadata": {},
   "source": [
    "# Marketing"
   ]
  },
  {
   "cell_type": "markdown",
   "metadata": {},
   "source": [
    "Para nuestra sección de marketing es importante analizar el costo beneficio de nuestras campañas, para poder tomar mejores decisiones a futuro y si la inversión realizada para esta área esta siendo el correcto o puede mejorarse según las métricas encontradas, si el beneficio por cliente es positivo a lo que nos cuesta adquirirlo y conocer que tan rentable esta siendo el negocio e inversiones actuales."
   ]
  },
  {
   "cell_type": "code",
   "execution_count": 51,
   "metadata": {},
   "outputs": [
    {
     "data": {
      "text/html": [
       "<div>\n",
       "<style scoped>\n",
       "    .dataframe tbody tr th:only-of-type {\n",
       "        vertical-align: middle;\n",
       "    }\n",
       "\n",
       "    .dataframe tbody tr th {\n",
       "        vertical-align: top;\n",
       "    }\n",
       "\n",
       "    .dataframe thead th {\n",
       "        text-align: right;\n",
       "    }\n",
       "</style>\n",
       "<table border=\"1\" class=\"dataframe\">\n",
       "  <thead>\n",
       "    <tr style=\"text-align: right;\">\n",
       "      <th></th>\n",
       "      <th></th>\n",
       "      <th>costs</th>\n",
       "    </tr>\n",
       "    <tr>\n",
       "      <th>month</th>\n",
       "      <th>source_id</th>\n",
       "      <th></th>\n",
       "    </tr>\n",
       "  </thead>\n",
       "  <tbody>\n",
       "    <tr>\n",
       "      <th rowspan=\"5\" valign=\"top\">1</th>\n",
       "      <th>1</th>\n",
       "      <td>2186.18</td>\n",
       "    </tr>\n",
       "    <tr>\n",
       "      <th>2</th>\n",
       "      <td>4157.74</td>\n",
       "    </tr>\n",
       "    <tr>\n",
       "      <th>3</th>\n",
       "      <td>14808.78</td>\n",
       "    </tr>\n",
       "    <tr>\n",
       "      <th>4</th>\n",
       "      <td>5832.79</td>\n",
       "    </tr>\n",
       "    <tr>\n",
       "      <th>5</th>\n",
       "      <td>5371.52</td>\n",
       "    </tr>\n",
       "    <tr>\n",
       "      <th>...</th>\n",
       "      <th>...</th>\n",
       "      <td>...</td>\n",
       "    </tr>\n",
       "    <tr>\n",
       "      <th rowspan=\"5\" valign=\"top\">12</th>\n",
       "      <th>3</th>\n",
       "      <td>16219.52</td>\n",
       "    </tr>\n",
       "    <tr>\n",
       "      <th>4</th>\n",
       "      <td>7680.47</td>\n",
       "    </tr>\n",
       "    <tr>\n",
       "      <th>5</th>\n",
       "      <td>5872.52</td>\n",
       "    </tr>\n",
       "    <tr>\n",
       "      <th>9</th>\n",
       "      <td>657.98</td>\n",
       "    </tr>\n",
       "    <tr>\n",
       "      <th>10</th>\n",
       "      <td>645.86</td>\n",
       "    </tr>\n",
       "  </tbody>\n",
       "</table>\n",
       "<p>84 rows × 1 columns</p>\n",
       "</div>"
      ],
      "text/plain": [
       "                    costs\n",
       "month source_id          \n",
       "1     1           2186.18\n",
       "      2           4157.74\n",
       "      3          14808.78\n",
       "      4           5832.79\n",
       "      5           5371.52\n",
       "...                   ...\n",
       "12    3          16219.52\n",
       "      4           7680.47\n",
       "      5           5872.52\n",
       "      9            657.98\n",
       "      10           645.86\n",
       "\n",
       "[84 rows x 1 columns]"
      ]
     },
     "execution_count": 51,
     "metadata": {},
     "output_type": "execute_result"
    }
   ],
   "source": [
    "#calcula, ¿Cuánto dinero se gastó? (Total por fuente de adquisición a lo largo del tiempo)\n",
    "costs[\"month\"]=costs[\"dt\"].dt.month\n",
    "costos_por_fuente_mes=costs.groupby([\"month\", \"source_id\"]).agg({\"costs\":\"sum\"})\n",
    "costos_por_fuente_mes"
   ]
  },
  {
   "cell_type": "code",
   "execution_count": 52,
   "metadata": {},
   "outputs": [
    {
     "data": {
      "text/html": [
       "<div>\n",
       "<style scoped>\n",
       "    .dataframe tbody tr th:only-of-type {\n",
       "        vertical-align: middle;\n",
       "    }\n",
       "\n",
       "    .dataframe tbody tr th {\n",
       "        vertical-align: top;\n",
       "    }\n",
       "\n",
       "    .dataframe thead th {\n",
       "        text-align: right;\n",
       "    }\n",
       "</style>\n",
       "<table border=\"1\" class=\"dataframe\">\n",
       "  <thead>\n",
       "    <tr style=\"text-align: right;\">\n",
       "      <th></th>\n",
       "      <th>costs</th>\n",
       "    </tr>\n",
       "    <tr>\n",
       "      <th>source_id</th>\n",
       "      <th></th>\n",
       "    </tr>\n",
       "  </thead>\n",
       "  <tbody>\n",
       "    <tr>\n",
       "      <th>1</th>\n",
       "      <td>20833.27</td>\n",
       "    </tr>\n",
       "    <tr>\n",
       "      <th>2</th>\n",
       "      <td>42806.04</td>\n",
       "    </tr>\n",
       "    <tr>\n",
       "      <th>3</th>\n",
       "      <td>141321.63</td>\n",
       "    </tr>\n",
       "    <tr>\n",
       "      <th>4</th>\n",
       "      <td>61073.60</td>\n",
       "    </tr>\n",
       "    <tr>\n",
       "      <th>5</th>\n",
       "      <td>51757.10</td>\n",
       "    </tr>\n",
       "    <tr>\n",
       "      <th>9</th>\n",
       "      <td>5517.49</td>\n",
       "    </tr>\n",
       "    <tr>\n",
       "      <th>10</th>\n",
       "      <td>5822.49</td>\n",
       "    </tr>\n",
       "  </tbody>\n",
       "</table>\n",
       "</div>"
      ],
      "text/plain": [
       "               costs\n",
       "source_id           \n",
       "1           20833.27\n",
       "2           42806.04\n",
       "3          141321.63\n",
       "4           61073.60\n",
       "5           51757.10\n",
       "9            5517.49\n",
       "10           5822.49"
      ]
     },
     "execution_count": 52,
     "metadata": {},
     "output_type": "execute_result"
    }
   ],
   "source": [
    "#agrupa por fuentes y se suman los costos\n",
    "costos_por_fuente=costs.groupby([\"source_id\"]).agg({\"costs\":\"sum\"})\n",
    "costos_por_fuente"
   ]
  },
  {
   "cell_type": "code",
   "execution_count": 53,
   "metadata": {},
   "outputs": [
    {
     "data": {
      "image/png": "[encoded data removed]",
      "text/plain": [
       "<Figure size 640x480 with 1 Axes>"
      ]
     },
     "metadata": {},
     "output_type": "display_data"
    }
   ],
   "source": [
    "#graficar costos por fuente\n",
    "costos_por_fuente.plot(y=\"costs\", kind= \"bar\", xlabel= \"Fuentes de adquisición de clientes\",\n",
    "                   ylabel=\"Costos por fuente\",\n",
    "                   title=\"Costos de marketing para atraer nuevos clientes en diferentes fuentes anual\", \n",
    "                   color=\"violet\")\n",
    "plt.show()"
   ]
  },
  {
   "cell_type": "code",
   "execution_count": 55,
   "metadata": {},
   "outputs": [
    {
     "data": {
      "text/html": [
       "<div>\n",
       "<style scoped>\n",
       "    .dataframe tbody tr th:only-of-type {\n",
       "        vertical-align: middle;\n",
       "    }\n",
       "\n",
       "    .dataframe tbody tr th {\n",
       "        vertical-align: top;\n",
       "    }\n",
       "\n",
       "    .dataframe thead th {\n",
       "        text-align: right;\n",
       "    }\n",
       "</style>\n",
       "<table border=\"1\" class=\"dataframe\">\n",
       "  <thead>\n",
       "    <tr style=\"text-align: right;\">\n",
       "      <th></th>\n",
       "      <th></th>\n",
       "      <th>source_id</th>\n",
       "    </tr>\n",
       "    <tr>\n",
       "      <th>device</th>\n",
       "      <th>session_day</th>\n",
       "      <th></th>\n",
       "    </tr>\n",
       "  </thead>\n",
       "  <tbody>\n",
       "    <tr>\n",
       "      <th rowspan=\"5\" valign=\"top\">desktop</th>\n",
       "      <th>2017-06-01</th>\n",
       "      <td>7</td>\n",
       "    </tr>\n",
       "    <tr>\n",
       "      <th>2017-06-02</th>\n",
       "      <td>7</td>\n",
       "    </tr>\n",
       "    <tr>\n",
       "      <th>2017-06-03</th>\n",
       "      <td>7</td>\n",
       "    </tr>\n",
       "    <tr>\n",
       "      <th>2017-06-04</th>\n",
       "      <td>7</td>\n",
       "    </tr>\n",
       "    <tr>\n",
       "      <th>2017-06-05</th>\n",
       "      <td>7</td>\n",
       "    </tr>\n",
       "    <tr>\n",
       "      <th>...</th>\n",
       "      <th>...</th>\n",
       "      <td>...</td>\n",
       "    </tr>\n",
       "    <tr>\n",
       "      <th rowspan=\"5\" valign=\"top\">touch</th>\n",
       "      <th>2018-05-27</th>\n",
       "      <td>7</td>\n",
       "    </tr>\n",
       "    <tr>\n",
       "      <th>2018-05-28</th>\n",
       "      <td>7</td>\n",
       "    </tr>\n",
       "    <tr>\n",
       "      <th>2018-05-29</th>\n",
       "      <td>7</td>\n",
       "    </tr>\n",
       "    <tr>\n",
       "      <th>2018-05-30</th>\n",
       "      <td>6</td>\n",
       "    </tr>\n",
       "    <tr>\n",
       "      <th>2018-05-31</th>\n",
       "      <td>7</td>\n",
       "    </tr>\n",
       "  </tbody>\n",
       "</table>\n",
       "<p>727 rows × 1 columns</p>\n",
       "</div>"
      ],
      "text/plain": [
       "                     source_id\n",
       "device  session_day           \n",
       "desktop 2017-06-01           7\n",
       "        2017-06-02           7\n",
       "        2017-06-03           7\n",
       "        2017-06-04           7\n",
       "        2017-06-05           7\n",
       "...                        ...\n",
       "touch   2018-05-27           7\n",
       "        2018-05-28           7\n",
       "        2018-05-29           7\n",
       "        2018-05-30           6\n",
       "        2018-05-31           7\n",
       "\n",
       "[727 rows x 1 columns]"
      ]
     },
     "execution_count": 55,
     "metadata": {},
     "output_type": "execute_result"
    }
   ],
   "source": [
    "device_visits=visits.groupby([\"device\", \"session_day\"]).agg({\"source_id\":\"nunique\"})\n",
    "device_visits"
   ]
  },
  {
   "cell_type": "code",
   "execution_count": 60,
   "metadata": {},
   "outputs": [
    {
     "data": {
      "text/html": [
       "<div>\n",
       "<style scoped>\n",
       "    .dataframe tbody tr th:only-of-type {\n",
       "        vertical-align: middle;\n",
       "    }\n",
       "\n",
       "    .dataframe tbody tr th {\n",
       "        vertical-align: top;\n",
       "    }\n",
       "\n",
       "    .dataframe thead th {\n",
       "        text-align: right;\n",
       "    }\n",
       "</style>\n",
       "<table border=\"1\" class=\"dataframe\">\n",
       "  <thead>\n",
       "    <tr style=\"text-align: right;\">\n",
       "      <th></th>\n",
       "      <th>source_id</th>\n",
       "    </tr>\n",
       "    <tr>\n",
       "      <th>device</th>\n",
       "      <th></th>\n",
       "    </tr>\n",
       "  </thead>\n",
       "  <tbody>\n",
       "    <tr>\n",
       "      <th>desktop</th>\n",
       "      <td>364</td>\n",
       "    </tr>\n",
       "    <tr>\n",
       "      <th>touch</th>\n",
       "      <td>363</td>\n",
       "    </tr>\n",
       "  </tbody>\n",
       "</table>\n",
       "</div>"
      ],
      "text/plain": [
       "         source_id\n",
       "device            \n",
       "desktop        364\n",
       "touch          363"
      ]
     },
     "execution_count": 60,
     "metadata": {},
     "output_type": "execute_result"
    }
   ],
   "source": [
    "costos_agrupados=device_visits.groupby(\"device\").agg({\"source_id\":\"count\"})\n",
    "costos_agrupados"
   ]
  },
  {
   "cell_type": "code",
   "execution_count": 64,
   "metadata": {},
   "outputs": [
    {
     "data": {
      "text/plain": [
       "Series([], Name: n_buyers, dtype: float64)"
      ]
     },
     "execution_count": 64,
     "metadata": {},
     "output_type": "execute_result"
    }
   ],
   "source": [
    "#calcula, ¿Cuán rentables eran las inversiones? (ROMI)\n",
    "#usar el data report como base, y agregar las columnas faltantes \n",
    "\n",
    "#calcular el CAC\n",
    "#obtenemos la cohorte necesaria\n",
    "cohort_201707= report[report[\"first_order_per_client\"]== \"2017-06-01\"]\n",
    "cost_201707=costs[costs[\"month\"]==6][\"costs\"].sum()\n",
    "n_buyers_201707= cohort_201707[\"n_buyers\"]\n",
    "cac_201707= cost_201707 / n_buyers_201707\n",
    "\n",
    "cac_201707"
   ]
  },
  {
   "cell_type": "code",
   "execution_count": 65,
   "metadata": {},
   "outputs": [
    {
     "data": {
      "text/html": [
       "<div>\n",
       "<style scoped>\n",
       "    .dataframe tbody tr th:only-of-type {\n",
       "        vertical-align: middle;\n",
       "    }\n",
       "\n",
       "    .dataframe tbody tr th {\n",
       "        vertical-align: top;\n",
       "    }\n",
       "\n",
       "    .dataframe thead th {\n",
       "        text-align: right;\n",
       "    }\n",
       "</style>\n",
       "<table border=\"1\" class=\"dataframe\">\n",
       "  <thead>\n",
       "    <tr style=\"text-align: right;\">\n",
       "      <th></th>\n",
       "      <th>source_id</th>\n",
       "      <th>dt</th>\n",
       "      <th>costs</th>\n",
       "      <th>month</th>\n",
       "    </tr>\n",
       "  </thead>\n",
       "  <tbody>\n",
       "    <tr>\n",
       "      <th>0</th>\n",
       "      <td>1</td>\n",
       "      <td>2017-06-01</td>\n",
       "      <td>75.20</td>\n",
       "      <td>6</td>\n",
       "    </tr>\n",
       "    <tr>\n",
       "      <th>1</th>\n",
       "      <td>1</td>\n",
       "      <td>2017-06-02</td>\n",
       "      <td>62.25</td>\n",
       "      <td>6</td>\n",
       "    </tr>\n",
       "    <tr>\n",
       "      <th>2</th>\n",
       "      <td>1</td>\n",
       "      <td>2017-06-03</td>\n",
       "      <td>36.53</td>\n",
       "      <td>6</td>\n",
       "    </tr>\n",
       "    <tr>\n",
       "      <th>3</th>\n",
       "      <td>1</td>\n",
       "      <td>2017-06-04</td>\n",
       "      <td>55.00</td>\n",
       "      <td>6</td>\n",
       "    </tr>\n",
       "    <tr>\n",
       "      <th>4</th>\n",
       "      <td>1</td>\n",
       "      <td>2017-06-05</td>\n",
       "      <td>57.08</td>\n",
       "      <td>6</td>\n",
       "    </tr>\n",
       "    <tr>\n",
       "      <th>...</th>\n",
       "      <td>...</td>\n",
       "      <td>...</td>\n",
       "      <td>...</td>\n",
       "      <td>...</td>\n",
       "    </tr>\n",
       "    <tr>\n",
       "      <th>2537</th>\n",
       "      <td>10</td>\n",
       "      <td>2018-05-27</td>\n",
       "      <td>9.92</td>\n",
       "      <td>5</td>\n",
       "    </tr>\n",
       "    <tr>\n",
       "      <th>2538</th>\n",
       "      <td>10</td>\n",
       "      <td>2018-05-28</td>\n",
       "      <td>21.26</td>\n",
       "      <td>5</td>\n",
       "    </tr>\n",
       "    <tr>\n",
       "      <th>2539</th>\n",
       "      <td>10</td>\n",
       "      <td>2018-05-29</td>\n",
       "      <td>11.32</td>\n",
       "      <td>5</td>\n",
       "    </tr>\n",
       "    <tr>\n",
       "      <th>2540</th>\n",
       "      <td>10</td>\n",
       "      <td>2018-05-30</td>\n",
       "      <td>33.15</td>\n",
       "      <td>5</td>\n",
       "    </tr>\n",
       "    <tr>\n",
       "      <th>2541</th>\n",
       "      <td>10</td>\n",
       "      <td>2018-05-31</td>\n",
       "      <td>17.60</td>\n",
       "      <td>5</td>\n",
       "    </tr>\n",
       "  </tbody>\n",
       "</table>\n",
       "<p>2542 rows × 4 columns</p>\n",
       "</div>"
      ],
      "text/plain": [
       "      source_id         dt  costs  month\n",
       "0             1 2017-06-01  75.20      6\n",
       "1             1 2017-06-02  62.25      6\n",
       "2             1 2017-06-03  36.53      6\n",
       "3             1 2017-06-04  55.00      6\n",
       "4             1 2017-06-05  57.08      6\n",
       "...         ...        ...    ...    ...\n",
       "2537         10 2018-05-27   9.92      5\n",
       "2538         10 2018-05-28  21.26      5\n",
       "2539         10 2018-05-29  11.32      5\n",
       "2540         10 2018-05-30  33.15      5\n",
       "2541         10 2018-05-31  17.60      5\n",
       "\n",
       "[2542 rows x 4 columns]"
      ]
     },
     "execution_count": 65,
     "metadata": {},
     "output_type": "execute_result"
    }
   ],
   "source": [
    "costs"
   ]
  },
  {
   "cell_type": "markdown",
   "metadata": {},
   "source": [
    "# Conclusiones"
   ]
  },
  {
   "cell_type": "markdown",
   "metadata": {},
   "source": [
    "Basado en los resultados nuestra mayor fuente para marketing es la fuente 3, siendo un punto de ingreso importante\n",
    "El negocio es rentable y aunue nuestro retorno no es grande 13%, podemos buscar mejorar en esa zona, a que nuestro negocio prospera siempre por clientes nuevos\n",
    "Es evidente que en el momento de acceder a nuestra plataforma los clientes van decididos a comprar, pues en su mayoría se hacen las compras ese mismo día. Podemos enfocarnos en ventas sucesivas para mejorar.\n",
    "Si más del 85% de nuestros clientes por el tipo d negocio que es son nuevos, podemos crear alguna membresía para propsperar el retorno de clientes además de darle peso al marketing para seguir atrayendo nuevos clientes, ya que sin ellos el negocio se vería afectado."
   ]
  }
 ],
 "metadata": {
  "ExecuteTimeLog": [
   {
    "duration": 304,
    "start_time": "2024-12-12T16:29:33.152Z"
   },
   {
    "duration": 408,
    "start_time": "2024-12-12T16:29:34.184Z"
   },
   {
    "duration": 40,
    "start_time": "2024-12-12T16:29:52.779Z"
   },
   {
    "duration": 11,
    "start_time": "2024-12-12T16:56:09.925Z"
   },
   {
    "duration": 10,
    "start_time": "2024-12-12T16:59:49.799Z"
   },
   {
    "duration": 7,
    "start_time": "2024-12-12T17:00:42.508Z"
   },
   {
    "duration": 8,
    "start_time": "2024-12-12T17:02:17.144Z"
   },
   {
    "duration": 6,
    "start_time": "2024-12-12T17:02:30.422Z"
   },
   {
    "duration": 86,
    "start_time": "2024-12-12T17:14:55.730Z"
   },
   {
    "duration": 101,
    "start_time": "2024-12-12T17:15:10.707Z"
   },
   {
    "duration": 10,
    "start_time": "2024-12-12T17:15:36.289Z"
   },
   {
    "duration": 324,
    "start_time": "2024-12-12T17:15:53.923Z"
   },
   {
    "duration": 353,
    "start_time": "2024-12-12T17:15:54.249Z"
   },
   {
    "duration": 38,
    "start_time": "2024-12-12T17:15:54.603Z"
   },
   {
    "duration": 11,
    "start_time": "2024-12-12T17:15:54.644Z"
   },
   {
    "duration": 102,
    "start_time": "2024-12-12T17:15:54.657Z"
   },
   {
    "duration": 0,
    "start_time": "2024-12-12T17:15:54.761Z"
   },
   {
    "duration": 0,
    "start_time": "2024-12-12T17:15:54.762Z"
   },
   {
    "duration": 0,
    "start_time": "2024-12-12T17:15:54.763Z"
   },
   {
    "duration": 0,
    "start_time": "2024-12-12T17:15:54.765Z"
   },
   {
    "duration": 0,
    "start_time": "2024-12-12T17:15:54.765Z"
   },
   {
    "duration": 0,
    "start_time": "2024-12-12T17:15:54.766Z"
   },
   {
    "duration": 0,
    "start_time": "2024-12-12T17:15:54.767Z"
   },
   {
    "duration": 0,
    "start_time": "2024-12-12T17:15:54.768Z"
   },
   {
    "duration": 0,
    "start_time": "2024-12-12T17:15:54.769Z"
   },
   {
    "duration": 0,
    "start_time": "2024-12-12T17:15:54.771Z"
   },
   {
    "duration": 0,
    "start_time": "2024-12-12T17:15:54.771Z"
   },
   {
    "duration": 0,
    "start_time": "2024-12-12T17:15:54.772Z"
   },
   {
    "duration": 0,
    "start_time": "2024-12-12T17:15:54.773Z"
   },
   {
    "duration": 0,
    "start_time": "2024-12-12T17:15:54.774Z"
   },
   {
    "duration": 0,
    "start_time": "2024-12-12T17:15:54.775Z"
   },
   {
    "duration": 0,
    "start_time": "2024-12-12T17:15:54.777Z"
   },
   {
    "duration": 0,
    "start_time": "2024-12-12T17:15:54.778Z"
   },
   {
    "duration": 0,
    "start_time": "2024-12-12T17:15:54.805Z"
   },
   {
    "duration": 11,
    "start_time": "2024-12-12T17:19:07.796Z"
   },
   {
    "duration": 464,
    "start_time": "2024-12-12T17:22:05.443Z"
   },
   {
    "duration": 34,
    "start_time": "2024-12-12T17:22:45.734Z"
   },
   {
    "duration": 154,
    "start_time": "2024-12-12T17:22:55.335Z"
   },
   {
    "duration": 14,
    "start_time": "2024-12-12T17:23:00.710Z"
   },
   {
    "duration": 7,
    "start_time": "2024-12-12T17:23:01.396Z"
   },
   {
    "duration": 9,
    "start_time": "2024-12-12T17:23:21.454Z"
   },
   {
    "duration": 9,
    "start_time": "2024-12-12T17:24:40.469Z"
   },
   {
    "duration": 9,
    "start_time": "2024-12-12T17:24:41.575Z"
   },
   {
    "duration": 5,
    "start_time": "2024-12-12T17:25:12.165Z"
   },
   {
    "duration": 4,
    "start_time": "2024-12-12T17:25:56.030Z"
   },
   {
    "duration": 4,
    "start_time": "2024-12-12T17:27:41.979Z"
   },
   {
    "duration": 4,
    "start_time": "2024-12-12T17:27:44.008Z"
   },
   {
    "duration": 9,
    "start_time": "2024-12-12T17:27:45.151Z"
   },
   {
    "duration": 3,
    "start_time": "2024-12-12T17:28:41.744Z"
   },
   {
    "duration": 12,
    "start_time": "2024-12-12T17:29:03.208Z"
   },
   {
    "duration": 3,
    "start_time": "2024-12-12T17:29:07.436Z"
   },
   {
    "duration": 307,
    "start_time": "2024-12-12T17:35:45.939Z"
   },
   {
    "duration": 340,
    "start_time": "2024-12-12T17:35:46.247Z"
   },
   {
    "duration": 37,
    "start_time": "2024-12-12T17:35:46.589Z"
   },
   {
    "duration": 10,
    "start_time": "2024-12-12T17:35:46.628Z"
   },
   {
    "duration": 191,
    "start_time": "2024-12-12T17:35:46.640Z"
   },
   {
    "duration": 0,
    "start_time": "2024-12-12T17:35:46.834Z"
   },
   {
    "duration": 0,
    "start_time": "2024-12-12T17:35:46.835Z"
   },
   {
    "duration": 0,
    "start_time": "2024-12-12T17:35:46.837Z"
   },
   {
    "duration": 0,
    "start_time": "2024-12-12T17:35:46.838Z"
   },
   {
    "duration": 0,
    "start_time": "2024-12-12T17:35:46.839Z"
   },
   {
    "duration": 0,
    "start_time": "2024-12-12T17:35:46.841Z"
   },
   {
    "duration": 0,
    "start_time": "2024-12-12T17:35:46.842Z"
   },
   {
    "duration": 0,
    "start_time": "2024-12-12T17:35:46.844Z"
   },
   {
    "duration": 0,
    "start_time": "2024-12-12T17:35:46.845Z"
   },
   {
    "duration": 0,
    "start_time": "2024-12-12T17:35:46.846Z"
   },
   {
    "duration": 0,
    "start_time": "2024-12-12T17:35:46.847Z"
   },
   {
    "duration": 0,
    "start_time": "2024-12-12T17:35:46.848Z"
   },
   {
    "duration": 0,
    "start_time": "2024-12-12T17:35:46.849Z"
   },
   {
    "duration": 0,
    "start_time": "2024-12-12T17:35:46.850Z"
   },
   {
    "duration": 0,
    "start_time": "2024-12-12T17:35:46.851Z"
   },
   {
    "duration": 0,
    "start_time": "2024-12-12T17:35:46.852Z"
   },
   {
    "duration": 0,
    "start_time": "2024-12-12T17:35:46.853Z"
   },
   {
    "duration": 0,
    "start_time": "2024-12-12T17:35:46.854Z"
   },
   {
    "duration": 12,
    "start_time": "2024-12-12T17:36:25.391Z"
   },
   {
    "duration": 12,
    "start_time": "2024-12-12T17:36:47.124Z"
   },
   {
    "duration": 285,
    "start_time": "2024-12-12T17:36:58.153Z"
   },
   {
    "duration": 356,
    "start_time": "2024-12-12T17:36:58.440Z"
   },
   {
    "duration": 39,
    "start_time": "2024-12-12T17:36:58.798Z"
   },
   {
    "duration": 10,
    "start_time": "2024-12-12T17:36:58.839Z"
   },
   {
    "duration": 206,
    "start_time": "2024-12-12T17:36:58.851Z"
   },
   {
    "duration": 0,
    "start_time": "2024-12-12T17:36:59.059Z"
   },
   {
    "duration": 0,
    "start_time": "2024-12-12T17:36:59.061Z"
   },
   {
    "duration": 0,
    "start_time": "2024-12-12T17:36:59.062Z"
   },
   {
    "duration": 0,
    "start_time": "2024-12-12T17:36:59.063Z"
   },
   {
    "duration": 0,
    "start_time": "2024-12-12T17:36:59.066Z"
   },
   {
    "duration": 0,
    "start_time": "2024-12-12T17:36:59.067Z"
   },
   {
    "duration": 0,
    "start_time": "2024-12-12T17:36:59.068Z"
   },
   {
    "duration": 0,
    "start_time": "2024-12-12T17:36:59.069Z"
   },
   {
    "duration": 0,
    "start_time": "2024-12-12T17:36:59.071Z"
   },
   {
    "duration": 0,
    "start_time": "2024-12-12T17:36:59.072Z"
   },
   {
    "duration": 0,
    "start_time": "2024-12-12T17:36:59.073Z"
   },
   {
    "duration": 0,
    "start_time": "2024-12-12T17:36:59.075Z"
   },
   {
    "duration": 0,
    "start_time": "2024-12-12T17:36:59.076Z"
   },
   {
    "duration": 0,
    "start_time": "2024-12-12T17:36:59.106Z"
   },
   {
    "duration": 0,
    "start_time": "2024-12-12T17:36:59.107Z"
   },
   {
    "duration": 0,
    "start_time": "2024-12-12T17:36:59.108Z"
   },
   {
    "duration": 0,
    "start_time": "2024-12-12T17:36:59.109Z"
   },
   {
    "duration": 0,
    "start_time": "2024-12-12T17:36:59.110Z"
   },
   {
    "duration": 3,
    "start_time": "2024-12-12T17:37:16.181Z"
   },
   {
    "duration": 3,
    "start_time": "2024-12-12T17:37:17.128Z"
   },
   {
    "duration": 13,
    "start_time": "2024-12-12T17:37:20.702Z"
   },
   {
    "duration": 12,
    "start_time": "2024-12-12T17:37:45.507Z"
   },
   {
    "duration": 6,
    "start_time": "2024-12-12T17:37:57.781Z"
   },
   {
    "duration": 3,
    "start_time": "2024-12-12T17:38:01.541Z"
   },
   {
    "duration": 12,
    "start_time": "2024-12-12T17:38:31.974Z"
   },
   {
    "duration": 195,
    "start_time": "2024-12-12T17:38:38.871Z"
   },
   {
    "duration": 3,
    "start_time": "2024-12-12T17:38:47.976Z"
   },
   {
    "duration": 3,
    "start_time": "2024-12-12T17:38:48.959Z"
   },
   {
    "duration": 12,
    "start_time": "2024-12-12T17:38:53.765Z"
   },
   {
    "duration": 8,
    "start_time": "2024-12-12T17:38:59.001Z"
   },
   {
    "duration": 7,
    "start_time": "2024-12-12T17:39:04.343Z"
   },
   {
    "duration": 3,
    "start_time": "2024-12-12T17:39:05.129Z"
   },
   {
    "duration": 4,
    "start_time": "2024-12-12T17:39:06.863Z"
   },
   {
    "duration": 4,
    "start_time": "2024-12-12T17:39:07.885Z"
   },
   {
    "duration": 8,
    "start_time": "2024-12-12T17:39:08.885Z"
   },
   {
    "duration": 3,
    "start_time": "2024-12-12T17:39:37.178Z"
   },
   {
    "duration": 12,
    "start_time": "2024-12-12T17:40:10.201Z"
   },
   {
    "duration": 311,
    "start_time": "2024-12-12T17:40:28.138Z"
   },
   {
    "duration": 355,
    "start_time": "2024-12-12T17:40:28.842Z"
   },
   {
    "duration": 38,
    "start_time": "2024-12-12T17:40:30.242Z"
   },
   {
    "duration": 10,
    "start_time": "2024-12-12T17:40:35.956Z"
   },
   {
    "duration": 86,
    "start_time": "2024-12-12T17:40:50.605Z"
   },
   {
    "duration": 12,
    "start_time": "2024-12-12T17:41:03.410Z"
   },
   {
    "duration": 6,
    "start_time": "2024-12-12T17:41:16.110Z"
   },
   {
    "duration": 4,
    "start_time": "2024-12-12T17:41:24.893Z"
   },
   {
    "duration": 103,
    "start_time": "2024-12-12T17:44:06.221Z"
   },
   {
    "duration": 316,
    "start_time": "2024-12-12T17:48:15.312Z"
   },
   {
    "duration": 341,
    "start_time": "2024-12-12T17:48:15.903Z"
   },
   {
    "duration": 37,
    "start_time": "2024-12-12T17:48:17.121Z"
   },
   {
    "duration": 12,
    "start_time": "2024-12-12T17:48:19.308Z"
   },
   {
    "duration": 4,
    "start_time": "2024-12-12T17:48:39.786Z"
   },
   {
    "duration": 3,
    "start_time": "2024-12-12T17:51:56.814Z"
   },
   {
    "duration": 3,
    "start_time": "2024-12-12T17:52:18.522Z"
   },
   {
    "duration": 170,
    "start_time": "2024-12-12T17:52:36.943Z"
   },
   {
    "duration": 36,
    "start_time": "2024-12-12T17:52:53.347Z"
   },
   {
    "duration": 56,
    "start_time": "2024-12-12T17:53:02.064Z"
   },
   {
    "duration": 54,
    "start_time": "2024-12-12T17:53:04.407Z"
   },
   {
    "duration": 15,
    "start_time": "2024-12-12T17:53:05.247Z"
   },
   {
    "duration": 60,
    "start_time": "2024-12-12T17:53:06.237Z"
   },
   {
    "duration": 18,
    "start_time": "2024-12-12T17:53:07.836Z"
   },
   {
    "duration": 9,
    "start_time": "2024-12-12T17:53:12.563Z"
   },
   {
    "duration": 7,
    "start_time": "2024-12-12T17:53:16.283Z"
   },
   {
    "duration": 3,
    "start_time": "2024-12-12T17:55:59.928Z"
   },
   {
    "duration": 3,
    "start_time": "2024-12-12T17:56:01.389Z"
   },
   {
    "duration": 417,
    "start_time": "2024-12-12T17:56:08.376Z"
   },
   {
    "duration": 6,
    "start_time": "2024-12-12T17:56:24.167Z"
   },
   {
    "duration": 10,
    "start_time": "2024-12-12T17:56:24.964Z"
   },
   {
    "duration": 9,
    "start_time": "2024-12-12T17:56:26.041Z"
   },
   {
    "duration": 3,
    "start_time": "2024-12-12T17:56:41.032Z"
   },
   {
    "duration": 359,
    "start_time": "2024-12-12T17:56:41.739Z"
   },
   {
    "duration": 38,
    "start_time": "2024-12-12T17:56:42.638Z"
   },
   {
    "duration": 3,
    "start_time": "2024-12-12T17:57:02.542Z"
   },
   {
    "duration": 10,
    "start_time": "2024-12-12T17:57:03.838Z"
   },
   {
    "duration": 4,
    "start_time": "2024-12-12T17:57:07.215Z"
   },
   {
    "duration": 8,
    "start_time": "2024-12-12T17:57:08.214Z"
   },
   {
    "duration": 9,
    "start_time": "2024-12-12T17:57:09.298Z"
   },
   {
    "duration": 8,
    "start_time": "2024-12-12T17:57:13.187Z"
   },
   {
    "duration": 8,
    "start_time": "2024-12-12T17:57:14.140Z"
   },
   {
    "duration": 3,
    "start_time": "2024-12-12T17:57:15.232Z"
   },
   {
    "duration": 3,
    "start_time": "2024-12-12T17:57:17.141Z"
   },
   {
    "duration": 5,
    "start_time": "2024-12-12T17:57:18.303Z"
   },
   {
    "duration": 8,
    "start_time": "2024-12-12T17:57:19.750Z"
   },
   {
    "duration": 298,
    "start_time": "2024-12-12T17:58:00.957Z"
   },
   {
    "duration": 400,
    "start_time": "2024-12-12T17:58:01.259Z"
   },
   {
    "duration": 46,
    "start_time": "2024-12-12T17:58:01.661Z"
   },
   {
    "duration": 11,
    "start_time": "2024-12-12T17:58:01.709Z"
   },
   {
    "duration": 4,
    "start_time": "2024-12-12T17:58:01.722Z"
   },
   {
    "duration": 4,
    "start_time": "2024-12-12T17:58:01.727Z"
   },
   {
    "duration": 3,
    "start_time": "2024-12-12T17:58:01.732Z"
   },
   {
    "duration": 76,
    "start_time": "2024-12-12T17:58:01.737Z"
   },
   {
    "duration": 54,
    "start_time": "2024-12-12T17:58:01.814Z"
   },
   {
    "duration": 14,
    "start_time": "2024-12-12T17:58:01.871Z"
   },
   {
    "duration": 77,
    "start_time": "2024-12-12T17:58:01.887Z"
   },
   {
    "duration": 18,
    "start_time": "2024-12-12T17:58:01.967Z"
   },
   {
    "duration": 23,
    "start_time": "2024-12-12T17:58:01.987Z"
   },
   {
    "duration": 180,
    "start_time": "2024-12-12T17:58:02.012Z"
   },
   {
    "duration": 0,
    "start_time": "2024-12-12T17:58:02.194Z"
   },
   {
    "duration": 0,
    "start_time": "2024-12-12T17:58:02.196Z"
   },
   {
    "duration": 0,
    "start_time": "2024-12-12T17:58:02.204Z"
   },
   {
    "duration": 0,
    "start_time": "2024-12-12T17:58:02.205Z"
   },
   {
    "duration": 0,
    "start_time": "2024-12-12T17:58:02.206Z"
   },
   {
    "duration": 0,
    "start_time": "2024-12-12T17:58:02.207Z"
   },
   {
    "duration": 0,
    "start_time": "2024-12-12T17:58:02.208Z"
   },
   {
    "duration": 0,
    "start_time": "2024-12-12T17:58:02.209Z"
   },
   {
    "duration": 0,
    "start_time": "2024-12-12T17:58:02.210Z"
   },
   {
    "duration": 0,
    "start_time": "2024-12-12T17:58:02.211Z"
   },
   {
    "duration": 0,
    "start_time": "2024-12-12T17:58:02.212Z"
   },
   {
    "duration": 0,
    "start_time": "2024-12-12T17:58:02.214Z"
   },
   {
    "duration": 0,
    "start_time": "2024-12-12T17:58:02.214Z"
   },
   {
    "duration": 3,
    "start_time": "2024-12-12T17:58:23.672Z"
   },
   {
    "duration": 7,
    "start_time": "2024-12-12T17:58:25.007Z"
   },
   {
    "duration": 3,
    "start_time": "2024-12-12T17:58:33.446Z"
   },
   {
    "duration": 2,
    "start_time": "2024-12-12T17:58:34.330Z"
   },
   {
    "duration": 3,
    "start_time": "2024-12-12T17:58:36.182Z"
   },
   {
    "duration": 9,
    "start_time": "2024-12-12T17:58:37.690Z"
   },
   {
    "duration": 4,
    "start_time": "2024-12-12T17:58:38.480Z"
   },
   {
    "duration": 8,
    "start_time": "2024-12-12T17:58:39.447Z"
   },
   {
    "duration": 7,
    "start_time": "2024-12-12T17:58:39.502Z"
   },
   {
    "duration": 9,
    "start_time": "2024-12-12T17:58:39.937Z"
   },
   {
    "duration": 7,
    "start_time": "2024-12-12T17:58:40.933Z"
   },
   {
    "duration": 3,
    "start_time": "2024-12-12T17:58:41.557Z"
   },
   {
    "duration": 5,
    "start_time": "2024-12-12T17:58:42.420Z"
   },
   {
    "duration": 8,
    "start_time": "2024-12-12T17:58:42.439Z"
   },
   {
    "duration": 8,
    "start_time": "2024-12-12T17:58:42.828Z"
   },
   {
    "duration": 324,
    "start_time": "2024-12-17T15:12:23.000Z"
   },
   {
    "duration": 400,
    "start_time": "2024-12-17T15:12:23.326Z"
   },
   {
    "duration": 39,
    "start_time": "2024-12-17T15:12:23.727Z"
   },
   {
    "duration": 11,
    "start_time": "2024-12-17T15:12:23.768Z"
   },
   {
    "duration": 4,
    "start_time": "2024-12-17T15:12:23.780Z"
   },
   {
    "duration": 3,
    "start_time": "2024-12-17T15:12:23.786Z"
   },
   {
    "duration": 2,
    "start_time": "2024-12-17T15:12:23.791Z"
   },
   {
    "duration": 54,
    "start_time": "2024-12-17T15:12:23.795Z"
   },
   {
    "duration": 55,
    "start_time": "2024-12-17T15:12:23.870Z"
   },
   {
    "duration": 15,
    "start_time": "2024-12-17T15:12:23.929Z"
   },
   {
    "duration": 76,
    "start_time": "2024-12-17T15:12:23.946Z"
   },
   {
    "duration": 18,
    "start_time": "2024-12-17T15:12:24.024Z"
   },
   {
    "duration": 9,
    "start_time": "2024-12-17T15:12:24.043Z"
   },
   {
    "duration": 7,
    "start_time": "2024-12-17T15:12:24.069Z"
   },
   {
    "duration": 3,
    "start_time": "2024-12-17T15:12:24.078Z"
   },
   {
    "duration": 3,
    "start_time": "2024-12-17T15:12:24.083Z"
   },
   {
    "duration": 4,
    "start_time": "2024-12-17T15:12:24.087Z"
   },
   {
    "duration": 9,
    "start_time": "2024-12-17T15:12:24.094Z"
   },
   {
    "duration": 4,
    "start_time": "2024-12-17T15:12:24.105Z"
   },
   {
    "duration": 7,
    "start_time": "2024-12-17T15:12:24.111Z"
   },
   {
    "duration": 50,
    "start_time": "2024-12-17T15:12:24.120Z"
   },
   {
    "duration": 8,
    "start_time": "2024-12-17T15:12:24.172Z"
   },
   {
    "duration": 5,
    "start_time": "2024-12-17T15:12:24.182Z"
   },
   {
    "duration": 3,
    "start_time": "2024-12-17T15:12:24.189Z"
   },
   {
    "duration": 4,
    "start_time": "2024-12-17T15:12:24.194Z"
   },
   {
    "duration": 3,
    "start_time": "2024-12-17T15:12:24.201Z"
   },
   {
    "duration": 8,
    "start_time": "2024-12-17T15:12:24.206Z"
   },
   {
    "duration": 2,
    "start_time": "2024-12-17T15:12:24.218Z"
   },
   {
    "duration": 2,
    "start_time": "2024-12-17T15:12:24.222Z"
   },
   {
    "duration": 4,
    "start_time": "2024-12-17T15:12:24.225Z"
   },
   {
    "duration": 2,
    "start_time": "2024-12-17T15:12:24.271Z"
   },
   {
    "duration": 3,
    "start_time": "2024-12-17T15:12:24.275Z"
   },
   {
    "duration": 3,
    "start_time": "2024-12-17T15:12:24.280Z"
   },
   {
    "duration": 3,
    "start_time": "2024-12-17T15:12:24.286Z"
   },
   {
    "duration": 3,
    "start_time": "2024-12-17T15:12:24.291Z"
   },
   {
    "duration": 2,
    "start_time": "2024-12-17T15:12:24.295Z"
   },
   {
    "duration": 3,
    "start_time": "2024-12-17T15:12:24.299Z"
   },
   {
    "duration": 3,
    "start_time": "2024-12-17T15:12:24.304Z"
   },
   {
    "duration": 11,
    "start_time": "2024-12-17T15:13:13.120Z"
   },
   {
    "duration": 7,
    "start_time": "2024-12-17T15:13:28.928Z"
   },
   {
    "duration": 8,
    "start_time": "2024-12-17T15:14:21.471Z"
   },
   {
    "duration": 217,
    "start_time": "2024-12-17T15:23:31.468Z"
   },
   {
    "duration": 3,
    "start_time": "2024-12-17T15:24:09.837Z"
   },
   {
    "duration": 11,
    "start_time": "2024-12-17T15:25:23.219Z"
   },
   {
    "duration": 12,
    "start_time": "2024-12-17T15:25:44.399Z"
   },
   {
    "duration": 393,
    "start_time": "2024-12-17T15:33:20.788Z"
   },
   {
    "duration": 160,
    "start_time": "2024-12-17T15:33:56.013Z"
   },
   {
    "duration": 206,
    "start_time": "2024-12-17T15:37:07.282Z"
   },
   {
    "duration": 10,
    "start_time": "2024-12-17T15:37:33.823Z"
   },
   {
    "duration": 2003,
    "start_time": "2024-12-17T15:38:31.703Z"
   },
   {
    "duration": 170,
    "start_time": "2024-12-17T15:38:44.780Z"
   },
   {
    "duration": 108,
    "start_time": "2024-12-17T15:38:52.619Z"
   },
   {
    "duration": 113,
    "start_time": "2024-12-17T15:39:02.486Z"
   },
   {
    "duration": 7,
    "start_time": "2024-12-17T15:39:39.518Z"
   },
   {
    "duration": 320,
    "start_time": "2024-12-17T15:44:10.185Z"
   },
   {
    "duration": 264,
    "start_time": "2024-12-17T15:47:47.075Z"
   },
   {
    "duration": 390,
    "start_time": "2024-12-17T15:49:49.709Z"
   },
   {
    "duration": 165,
    "start_time": "2024-12-17T16:57:04.826Z"
   },
   {
    "duration": 324,
    "start_time": "2024-12-17T16:57:21.578Z"
   },
   {
    "duration": 396,
    "start_time": "2024-12-17T16:57:21.904Z"
   },
   {
    "duration": 41,
    "start_time": "2024-12-17T16:57:22.302Z"
   },
   {
    "duration": 11,
    "start_time": "2024-12-17T16:57:22.347Z"
   },
   {
    "duration": 4,
    "start_time": "2024-12-17T16:57:22.359Z"
   },
   {
    "duration": 3,
    "start_time": "2024-12-17T16:57:22.365Z"
   },
   {
    "duration": 2,
    "start_time": "2024-12-17T16:57:22.370Z"
   },
   {
    "duration": 79,
    "start_time": "2024-12-17T16:57:22.374Z"
   },
   {
    "duration": 54,
    "start_time": "2024-12-17T16:57:22.455Z"
   },
   {
    "duration": 14,
    "start_time": "2024-12-17T16:57:22.512Z"
   },
   {
    "duration": 75,
    "start_time": "2024-12-17T16:57:22.528Z"
   },
   {
    "duration": 19,
    "start_time": "2024-12-17T16:57:22.605Z"
   },
   {
    "duration": 24,
    "start_time": "2024-12-17T16:57:22.626Z"
   },
   {
    "duration": 6,
    "start_time": "2024-12-17T16:57:22.651Z"
   },
   {
    "duration": 5,
    "start_time": "2024-12-17T16:57:22.658Z"
   },
   {
    "duration": 2,
    "start_time": "2024-12-17T16:57:22.665Z"
   },
   {
    "duration": 3,
    "start_time": "2024-12-17T16:57:22.669Z"
   },
   {
    "duration": 11,
    "start_time": "2024-12-17T16:57:22.674Z"
   },
   {
    "duration": 4,
    "start_time": "2024-12-17T16:57:22.686Z"
   },
   {
    "duration": 7,
    "start_time": "2024-12-17T16:57:22.691Z"
   },
   {
    "duration": 43,
    "start_time": "2024-12-17T16:57:22.700Z"
   },
   {
    "duration": 10,
    "start_time": "2024-12-17T16:57:22.745Z"
   },
   {
    "duration": 6,
    "start_time": "2024-12-17T16:57:22.758Z"
   },
   {
    "duration": 4,
    "start_time": "2024-12-17T16:57:22.765Z"
   },
   {
    "duration": 4,
    "start_time": "2024-12-17T16:57:22.771Z"
   },
   {
    "duration": 4,
    "start_time": "2024-12-17T16:57:22.777Z"
   },
   {
    "duration": 8,
    "start_time": "2024-12-17T16:57:22.783Z"
   },
   {
    "duration": 6,
    "start_time": "2024-12-17T16:57:22.794Z"
   },
   {
    "duration": 330,
    "start_time": "2024-12-17T16:57:22.843Z"
   },
   {
    "duration": 125,
    "start_time": "2024-12-17T16:57:23.174Z"
   },
   {
    "duration": 12,
    "start_time": "2024-12-17T16:57:23.301Z"
   },
   {
    "duration": 1988,
    "start_time": "2024-12-17T16:57:23.314Z"
   },
   {
    "duration": 6,
    "start_time": "2024-12-17T16:57:25.303Z"
   },
   {
    "duration": 334,
    "start_time": "2024-12-17T16:57:25.311Z"
   },
   {
    "duration": 19,
    "start_time": "2024-12-17T16:57:25.647Z"
   },
   {
    "duration": 2,
    "start_time": "2024-12-17T16:57:25.668Z"
   },
   {
    "duration": 2,
    "start_time": "2024-12-17T16:57:25.672Z"
   },
   {
    "duration": 2,
    "start_time": "2024-12-17T16:57:25.676Z"
   },
   {
    "duration": 2,
    "start_time": "2024-12-17T16:57:25.680Z"
   },
   {
    "duration": 3,
    "start_time": "2024-12-17T16:57:25.684Z"
   },
   {
    "duration": 3,
    "start_time": "2024-12-17T16:57:25.688Z"
   },
   {
    "duration": 531,
    "start_time": "2024-12-17T16:59:37.567Z"
   },
   {
    "duration": 52,
    "start_time": "2024-12-17T16:59:59.895Z"
   },
   {
    "duration": 324,
    "start_time": "2024-12-17T17:00:14.169Z"
   },
   {
    "duration": 367,
    "start_time": "2024-12-17T17:00:14.495Z"
   },
   {
    "duration": 43,
    "start_time": "2024-12-17T17:00:14.864Z"
   },
   {
    "duration": 10,
    "start_time": "2024-12-17T17:00:14.910Z"
   },
   {
    "duration": 22,
    "start_time": "2024-12-17T17:00:14.921Z"
   },
   {
    "duration": 3,
    "start_time": "2024-12-17T17:00:14.945Z"
   },
   {
    "duration": 3,
    "start_time": "2024-12-17T17:00:14.950Z"
   },
   {
    "duration": 54,
    "start_time": "2024-12-17T17:00:14.955Z"
   },
   {
    "duration": 75,
    "start_time": "2024-12-17T17:00:15.011Z"
   },
   {
    "duration": 15,
    "start_time": "2024-12-17T17:00:15.089Z"
   },
   {
    "duration": 84,
    "start_time": "2024-12-17T17:00:15.105Z"
   },
   {
    "duration": 19,
    "start_time": "2024-12-17T17:00:15.191Z"
   },
   {
    "duration": 9,
    "start_time": "2024-12-17T17:00:15.211Z"
   },
   {
    "duration": 21,
    "start_time": "2024-12-17T17:00:15.222Z"
   },
   {
    "duration": 4,
    "start_time": "2024-12-17T17:00:15.245Z"
   },
   {
    "duration": 4,
    "start_time": "2024-12-17T17:00:15.250Z"
   },
   {
    "duration": 3,
    "start_time": "2024-12-17T17:00:15.255Z"
   },
   {
    "duration": 10,
    "start_time": "2024-12-17T17:00:15.260Z"
   },
   {
    "duration": 5,
    "start_time": "2024-12-17T17:00:15.271Z"
   },
   {
    "duration": 7,
    "start_time": "2024-12-17T17:00:15.277Z"
   },
   {
    "duration": 8,
    "start_time": "2024-12-17T17:00:15.286Z"
   },
   {
    "duration": 53,
    "start_time": "2024-12-17T17:00:15.296Z"
   },
   {
    "duration": 6,
    "start_time": "2024-12-17T17:00:15.351Z"
   },
   {
    "duration": 4,
    "start_time": "2024-12-17T17:00:15.359Z"
   },
   {
    "duration": 4,
    "start_time": "2024-12-17T17:00:15.364Z"
   },
   {
    "duration": 3,
    "start_time": "2024-12-17T17:00:15.371Z"
   },
   {
    "duration": 9,
    "start_time": "2024-12-17T17:00:15.375Z"
   },
   {
    "duration": 6,
    "start_time": "2024-12-17T17:00:15.389Z"
   },
   {
    "duration": 356,
    "start_time": "2024-12-17T17:00:15.397Z"
   },
   {
    "duration": 120,
    "start_time": "2024-12-17T17:00:15.755Z"
   },
   {
    "duration": 12,
    "start_time": "2024-12-17T17:00:15.877Z"
   },
   {
    "duration": 284,
    "start_time": "2024-12-17T17:00:15.892Z"
   },
   {
    "duration": 6,
    "start_time": "2024-12-17T17:00:16.178Z"
   },
   {
    "duration": 332,
    "start_time": "2024-12-17T17:00:16.186Z"
   },
   {
    "duration": 25,
    "start_time": "2024-12-17T17:00:16.520Z"
   },
   {
    "duration": 3,
    "start_time": "2024-12-17T17:00:16.547Z"
   },
   {
    "duration": 2,
    "start_time": "2024-12-17T17:00:16.552Z"
   },
   {
    "duration": 3,
    "start_time": "2024-12-17T17:00:16.555Z"
   },
   {
    "duration": 3,
    "start_time": "2024-12-17T17:00:16.560Z"
   },
   {
    "duration": 2,
    "start_time": "2024-12-17T17:00:16.565Z"
   },
   {
    "duration": 4,
    "start_time": "2024-12-17T17:00:16.568Z"
   },
   {
    "duration": 11,
    "start_time": "2024-12-17T22:27:37.202Z"
   },
   {
    "duration": 4,
    "start_time": "2024-12-17T22:27:52.436Z"
   },
   {
    "duration": 160,
    "start_time": "2024-12-17T22:28:05.595Z"
   },
   {
    "duration": 2700,
    "start_time": "2024-12-17T22:28:44.274Z"
   },
   {
    "duration": 0,
    "start_time": "2024-12-17T22:28:46.978Z"
   },
   {
    "duration": 0,
    "start_time": "2024-12-17T22:28:46.979Z"
   },
   {
    "duration": 0,
    "start_time": "2024-12-17T22:28:46.980Z"
   },
   {
    "duration": 0,
    "start_time": "2024-12-17T22:28:46.982Z"
   },
   {
    "duration": 0,
    "start_time": "2024-12-17T22:28:46.983Z"
   },
   {
    "duration": 0,
    "start_time": "2024-12-17T22:28:46.984Z"
   },
   {
    "duration": 0,
    "start_time": "2024-12-17T22:28:46.985Z"
   },
   {
    "duration": 0,
    "start_time": "2024-12-17T22:28:46.986Z"
   },
   {
    "duration": 0,
    "start_time": "2024-12-17T22:28:46.987Z"
   },
   {
    "duration": 0,
    "start_time": "2024-12-17T22:28:46.988Z"
   },
   {
    "duration": 0,
    "start_time": "2024-12-17T22:28:46.989Z"
   },
   {
    "duration": 0,
    "start_time": "2024-12-17T22:28:46.991Z"
   },
   {
    "duration": 0,
    "start_time": "2024-12-17T22:28:46.991Z"
   },
   {
    "duration": 0,
    "start_time": "2024-12-17T22:28:46.992Z"
   },
   {
    "duration": 0,
    "start_time": "2024-12-17T22:28:46.996Z"
   },
   {
    "duration": 0,
    "start_time": "2024-12-17T22:28:46.996Z"
   },
   {
    "duration": 0,
    "start_time": "2024-12-17T22:28:46.997Z"
   },
   {
    "duration": 0,
    "start_time": "2024-12-17T22:28:47.024Z"
   },
   {
    "duration": 0,
    "start_time": "2024-12-17T22:28:47.025Z"
   },
   {
    "duration": 0,
    "start_time": "2024-12-17T22:28:47.026Z"
   },
   {
    "duration": 0,
    "start_time": "2024-12-17T22:28:47.027Z"
   },
   {
    "duration": 0,
    "start_time": "2024-12-17T22:28:47.029Z"
   },
   {
    "duration": 0,
    "start_time": "2024-12-17T22:28:47.030Z"
   },
   {
    "duration": 0,
    "start_time": "2024-12-17T22:28:47.031Z"
   },
   {
    "duration": 0,
    "start_time": "2024-12-17T22:28:47.032Z"
   },
   {
    "duration": 0,
    "start_time": "2024-12-17T22:28:47.033Z"
   },
   {
    "duration": 0,
    "start_time": "2024-12-17T22:28:47.034Z"
   },
   {
    "duration": 0,
    "start_time": "2024-12-17T22:28:47.035Z"
   },
   {
    "duration": 0,
    "start_time": "2024-12-17T22:28:47.036Z"
   },
   {
    "duration": 0,
    "start_time": "2024-12-17T22:28:47.037Z"
   },
   {
    "duration": 0,
    "start_time": "2024-12-17T22:28:47.038Z"
   },
   {
    "duration": 0,
    "start_time": "2024-12-17T22:28:47.039Z"
   },
   {
    "duration": 0,
    "start_time": "2024-12-17T22:28:47.040Z"
   },
   {
    "duration": 0,
    "start_time": "2024-12-17T22:28:47.042Z"
   },
   {
    "duration": 0,
    "start_time": "2024-12-17T22:28:47.043Z"
   },
   {
    "duration": 0,
    "start_time": "2024-12-17T22:28:47.044Z"
   },
   {
    "duration": 0,
    "start_time": "2024-12-17T22:28:47.044Z"
   },
   {
    "duration": 0,
    "start_time": "2024-12-17T22:28:47.045Z"
   },
   {
    "duration": 0,
    "start_time": "2024-12-17T22:28:47.046Z"
   },
   {
    "duration": 0,
    "start_time": "2024-12-17T22:28:47.046Z"
   },
   {
    "duration": 0,
    "start_time": "2024-12-17T22:28:47.047Z"
   },
   {
    "duration": 3,
    "start_time": "2024-12-17T22:29:03.767Z"
   },
   {
    "duration": 775,
    "start_time": "2024-12-17T22:29:09.793Z"
   },
   {
    "duration": 412,
    "start_time": "2024-12-17T22:29:10.570Z"
   },
   {
    "duration": 40,
    "start_time": "2024-12-17T22:29:10.983Z"
   },
   {
    "duration": 9,
    "start_time": "2024-12-17T22:29:11.025Z"
   },
   {
    "duration": 3,
    "start_time": "2024-12-17T22:29:11.037Z"
   },
   {
    "duration": 4,
    "start_time": "2024-12-17T22:29:11.042Z"
   },
   {
    "duration": 4,
    "start_time": "2024-12-17T22:29:11.047Z"
   },
   {
    "duration": 76,
    "start_time": "2024-12-17T22:29:11.052Z"
   },
   {
    "duration": 57,
    "start_time": "2024-12-17T22:29:11.130Z"
   },
   {
    "duration": 17,
    "start_time": "2024-12-17T22:29:11.189Z"
   },
   {
    "duration": 74,
    "start_time": "2024-12-17T22:29:11.208Z"
   },
   {
    "duration": 19,
    "start_time": "2024-12-17T22:29:11.283Z"
   },
   {
    "duration": 27,
    "start_time": "2024-12-17T22:29:11.303Z"
   },
   {
    "duration": 6,
    "start_time": "2024-12-17T22:29:11.333Z"
   },
   {
    "duration": 4,
    "start_time": "2024-12-17T22:29:11.340Z"
   },
   {
    "duration": 3,
    "start_time": "2024-12-17T22:29:11.347Z"
   },
   {
    "duration": 3,
    "start_time": "2024-12-17T22:29:11.351Z"
   },
   {
    "duration": 9,
    "start_time": "2024-12-17T22:29:11.356Z"
   },
   {
    "duration": 5,
    "start_time": "2024-12-17T22:29:11.366Z"
   },
   {
    "duration": 7,
    "start_time": "2024-12-17T22:29:11.373Z"
   },
   {
    "duration": 49,
    "start_time": "2024-12-17T22:29:11.382Z"
   },
   {
    "duration": 7,
    "start_time": "2024-12-17T22:29:11.432Z"
   },
   {
    "duration": 7,
    "start_time": "2024-12-17T22:29:11.441Z"
   },
   {
    "duration": 3,
    "start_time": "2024-12-17T22:29:11.450Z"
   },
   {
    "duration": 4,
    "start_time": "2024-12-17T22:29:11.455Z"
   },
   {
    "duration": 3,
    "start_time": "2024-12-17T22:29:11.461Z"
   },
   {
    "duration": 7,
    "start_time": "2024-12-17T22:29:11.466Z"
   },
   {
    "duration": 50,
    "start_time": "2024-12-17T22:29:11.475Z"
   },
   {
    "duration": 321,
    "start_time": "2024-12-17T22:29:11.526Z"
   },
   {
    "duration": 170,
    "start_time": "2024-12-17T22:29:11.848Z"
   },
   {
    "duration": 15,
    "start_time": "2024-12-17T22:29:12.020Z"
   },
   {
    "duration": 140,
    "start_time": "2024-12-17T22:29:12.037Z"
   },
   {
    "duration": 6,
    "start_time": "2024-12-17T22:29:12.179Z"
   },
   {
    "duration": 325,
    "start_time": "2024-12-17T22:29:12.187Z"
   },
   {
    "duration": 32,
    "start_time": "2024-12-17T22:29:12.514Z"
   },
   {
    "duration": 587,
    "start_time": "2024-12-17T22:29:12.549Z"
   },
   {
    "duration": 0,
    "start_time": "2024-12-17T22:29:13.139Z"
   },
   {
    "duration": 0,
    "start_time": "2024-12-17T22:29:13.140Z"
   },
   {
    "duration": 0,
    "start_time": "2024-12-17T22:29:13.141Z"
   },
   {
    "duration": 0,
    "start_time": "2024-12-17T22:29:13.143Z"
   },
   {
    "duration": 0,
    "start_time": "2024-12-17T22:29:13.144Z"
   },
   {
    "duration": 0,
    "start_time": "2024-12-17T22:29:13.146Z"
   },
   {
    "duration": 54,
    "start_time": "2024-12-17T22:30:43.604Z"
   },
   {
    "duration": 23,
    "start_time": "2024-12-17T22:30:57.840Z"
   },
   {
    "duration": 4,
    "start_time": "2024-12-17T22:31:00.414Z"
   },
   {
    "duration": 15,
    "start_time": "2024-12-17T22:31:33.316Z"
   },
   {
    "duration": 3,
    "start_time": "2024-12-17T22:33:18.262Z"
   },
   {
    "duration": 2494,
    "start_time": "2024-12-18T13:45:35.535Z"
   },
   {
    "duration": 426,
    "start_time": "2024-12-18T13:45:38.032Z"
   },
   {
    "duration": 39,
    "start_time": "2024-12-18T13:45:38.459Z"
   },
   {
    "duration": 9,
    "start_time": "2024-12-18T13:45:38.500Z"
   },
   {
    "duration": 3,
    "start_time": "2024-12-18T13:45:38.512Z"
   },
   {
    "duration": 3,
    "start_time": "2024-12-18T13:45:38.517Z"
   },
   {
    "duration": 3,
    "start_time": "2024-12-18T13:45:38.522Z"
   },
   {
    "duration": 94,
    "start_time": "2024-12-18T13:45:38.527Z"
   },
   {
    "duration": 64,
    "start_time": "2024-12-18T13:45:38.623Z"
   },
   {
    "duration": 15,
    "start_time": "2024-12-18T13:45:38.689Z"
   },
   {
    "duration": 60,
    "start_time": "2024-12-18T13:45:38.705Z"
   },
   {
    "duration": 20,
    "start_time": "2024-12-18T13:45:38.788Z"
   },
   {
    "duration": 12,
    "start_time": "2024-12-18T13:45:38.810Z"
   },
   {
    "duration": 8,
    "start_time": "2024-12-18T13:45:38.826Z"
   },
   {
    "duration": 4,
    "start_time": "2024-12-18T13:45:38.836Z"
   },
   {
    "duration": 3,
    "start_time": "2024-12-18T13:45:38.841Z"
   },
   {
    "duration": 2,
    "start_time": "2024-12-18T13:45:38.846Z"
   },
   {
    "duration": 9,
    "start_time": "2024-12-18T13:45:38.888Z"
   },
   {
    "duration": 4,
    "start_time": "2024-12-18T13:45:38.899Z"
   },
   {
    "duration": 7,
    "start_time": "2024-12-18T13:45:38.905Z"
   },
   {
    "duration": 8,
    "start_time": "2024-12-18T13:45:38.913Z"
   },
   {
    "duration": 8,
    "start_time": "2024-12-18T13:45:38.922Z"
   },
   {
    "duration": 6,
    "start_time": "2024-12-18T13:45:38.931Z"
   },
   {
    "duration": 3,
    "start_time": "2024-12-18T13:45:38.939Z"
   },
   {
    "duration": 4,
    "start_time": "2024-12-18T13:45:38.944Z"
   },
   {
    "duration": 41,
    "start_time": "2024-12-18T13:45:38.949Z"
   },
   {
    "duration": 9,
    "start_time": "2024-12-18T13:45:38.992Z"
   },
   {
    "duration": 10,
    "start_time": "2024-12-18T13:45:39.002Z"
   },
   {
    "duration": 345,
    "start_time": "2024-12-18T13:45:39.014Z"
   },
   {
    "duration": 163,
    "start_time": "2024-12-18T13:45:39.361Z"
   },
   {
    "duration": 11,
    "start_time": "2024-12-18T13:45:39.526Z"
   },
   {
    "duration": 139,
    "start_time": "2024-12-18T13:45:39.539Z"
   },
   {
    "duration": 9,
    "start_time": "2024-12-18T13:45:39.680Z"
   },
   {
    "duration": 322,
    "start_time": "2024-12-18T13:45:39.691Z"
   },
   {
    "duration": 26,
    "start_time": "2024-12-18T13:45:40.015Z"
   },
   {
    "duration": 595,
    "start_time": "2024-12-18T13:45:40.043Z"
   },
   {
    "duration": 0,
    "start_time": "2024-12-18T13:45:40.640Z"
   },
   {
    "duration": 0,
    "start_time": "2024-12-18T13:45:40.641Z"
   },
   {
    "duration": 0,
    "start_time": "2024-12-18T13:45:40.642Z"
   },
   {
    "duration": 0,
    "start_time": "2024-12-18T13:45:40.644Z"
   },
   {
    "duration": 0,
    "start_time": "2024-12-18T13:45:40.644Z"
   },
   {
    "duration": 0,
    "start_time": "2024-12-18T13:45:40.646Z"
   },
   {
    "duration": 0,
    "start_time": "2024-12-18T13:45:40.647Z"
   },
   {
    "duration": 71,
    "start_time": "2024-12-18T14:00:47.870Z"
   },
   {
    "duration": 56,
    "start_time": "2024-12-18T14:40:53.478Z"
   },
   {
    "duration": 816,
    "start_time": "2024-12-18T14:41:15.295Z"
   },
   {
    "duration": 403,
    "start_time": "2024-12-18T14:41:16.114Z"
   },
   {
    "duration": 39,
    "start_time": "2024-12-18T14:41:16.518Z"
   },
   {
    "duration": 8,
    "start_time": "2024-12-18T14:41:16.561Z"
   },
   {
    "duration": 15,
    "start_time": "2024-12-18T14:41:16.571Z"
   },
   {
    "duration": 3,
    "start_time": "2024-12-18T14:41:16.588Z"
   },
   {
    "duration": 2,
    "start_time": "2024-12-18T14:41:16.593Z"
   },
   {
    "duration": 55,
    "start_time": "2024-12-18T14:41:16.597Z"
   },
   {
    "duration": 70,
    "start_time": "2024-12-18T14:41:16.654Z"
   },
   {
    "duration": 15,
    "start_time": "2024-12-18T14:41:16.727Z"
   },
   {
    "duration": 78,
    "start_time": "2024-12-18T14:41:16.744Z"
   },
   {
    "duration": 18,
    "start_time": "2024-12-18T14:41:16.824Z"
   },
   {
    "duration": 9,
    "start_time": "2024-12-18T14:41:16.844Z"
   },
   {
    "duration": 7,
    "start_time": "2024-12-18T14:41:16.855Z"
   },
   {
    "duration": 23,
    "start_time": "2024-12-18T14:41:16.864Z"
   },
   {
    "duration": 3,
    "start_time": "2024-12-18T14:41:16.889Z"
   },
   {
    "duration": 3,
    "start_time": "2024-12-18T14:41:16.894Z"
   },
   {
    "duration": 10,
    "start_time": "2024-12-18T14:41:16.898Z"
   },
   {
    "duration": 4,
    "start_time": "2024-12-18T14:41:16.910Z"
   },
   {
    "duration": 8,
    "start_time": "2024-12-18T14:41:16.916Z"
   },
   {
    "duration": 8,
    "start_time": "2024-12-18T14:41:16.925Z"
   },
   {
    "duration": 8,
    "start_time": "2024-12-18T14:41:16.935Z"
   },
   {
    "duration": 47,
    "start_time": "2024-12-18T14:41:16.944Z"
   },
   {
    "duration": 3,
    "start_time": "2024-12-18T14:41:16.993Z"
   },
   {
    "duration": 5,
    "start_time": "2024-12-18T14:41:16.999Z"
   },
   {
    "duration": 5,
    "start_time": "2024-12-18T14:41:17.005Z"
   },
   {
    "duration": 9,
    "start_time": "2024-12-18T14:41:17.012Z"
   },
   {
    "duration": 7,
    "start_time": "2024-12-18T14:41:17.027Z"
   },
   {
    "duration": 360,
    "start_time": "2024-12-18T14:41:17.036Z"
   },
   {
    "duration": 163,
    "start_time": "2024-12-18T14:41:17.398Z"
   },
   {
    "duration": 11,
    "start_time": "2024-12-18T14:41:17.563Z"
   },
   {
    "duration": 124,
    "start_time": "2024-12-18T14:41:17.586Z"
   },
   {
    "duration": 5,
    "start_time": "2024-12-18T14:41:17.712Z"
   },
   {
    "duration": 345,
    "start_time": "2024-12-18T14:41:17.718Z"
   },
   {
    "duration": 100,
    "start_time": "2024-12-18T14:41:18.065Z"
   },
   {
    "duration": 583,
    "start_time": "2024-12-18T14:41:18.167Z"
   },
   {
    "duration": 0,
    "start_time": "2024-12-18T14:41:18.752Z"
   },
   {
    "duration": 0,
    "start_time": "2024-12-18T14:41:18.753Z"
   },
   {
    "duration": 0,
    "start_time": "2024-12-18T14:41:18.755Z"
   },
   {
    "duration": 0,
    "start_time": "2024-12-18T14:41:18.756Z"
   },
   {
    "duration": 0,
    "start_time": "2024-12-18T14:41:18.757Z"
   },
   {
    "duration": 0,
    "start_time": "2024-12-18T14:41:18.758Z"
   },
   {
    "duration": 0,
    "start_time": "2024-12-18T14:41:18.759Z"
   },
   {
    "duration": 55,
    "start_time": "2024-12-18T14:42:30.350Z"
   },
   {
    "duration": 54,
    "start_time": "2024-12-18T14:42:51.789Z"
   },
   {
    "duration": 12,
    "start_time": "2024-12-18T14:43:02.996Z"
   },
   {
    "duration": 61,
    "start_time": "2024-12-18T14:44:51.628Z"
   },
   {
    "duration": 13,
    "start_time": "2024-12-18T14:44:56.949Z"
   },
   {
    "duration": 9,
    "start_time": "2024-12-18T14:48:07.812Z"
   },
   {
    "duration": 144,
    "start_time": "2024-12-18T14:54:02.644Z"
   },
   {
    "duration": 53,
    "start_time": "2024-12-18T14:54:43.909Z"
   },
   {
    "duration": 101,
    "start_time": "2024-12-18T14:55:37.363Z"
   },
   {
    "duration": 16,
    "start_time": "2024-12-18T14:55:44.574Z"
   },
   {
    "duration": 6,
    "start_time": "2024-12-18T14:56:59.128Z"
   },
   {
    "duration": 17,
    "start_time": "2024-12-18T14:59:11.001Z"
   },
   {
    "duration": 55,
    "start_time": "2024-12-18T15:01:04.661Z"
   },
   {
    "duration": 834,
    "start_time": "2024-12-18T15:01:29.574Z"
   },
   {
    "duration": 380,
    "start_time": "2024-12-18T15:01:30.410Z"
   },
   {
    "duration": 38,
    "start_time": "2024-12-18T15:01:30.792Z"
   },
   {
    "duration": 9,
    "start_time": "2024-12-18T15:01:30.833Z"
   },
   {
    "duration": 4,
    "start_time": "2024-12-18T15:01:30.843Z"
   },
   {
    "duration": 3,
    "start_time": "2024-12-18T15:01:30.848Z"
   },
   {
    "duration": 5,
    "start_time": "2024-12-18T15:01:30.853Z"
   },
   {
    "duration": 79,
    "start_time": "2024-12-18T15:01:30.860Z"
   },
   {
    "duration": 63,
    "start_time": "2024-12-18T15:01:30.941Z"
   },
   {
    "duration": 15,
    "start_time": "2024-12-18T15:01:31.007Z"
   },
   {
    "duration": 74,
    "start_time": "2024-12-18T15:01:31.023Z"
   },
   {
    "duration": 19,
    "start_time": "2024-12-18T15:01:31.099Z"
   },
   {
    "duration": 9,
    "start_time": "2024-12-18T15:01:31.120Z"
   },
   {
    "duration": 8,
    "start_time": "2024-12-18T15:01:31.130Z"
   },
   {
    "duration": 4,
    "start_time": "2024-12-18T15:01:31.139Z"
   },
   {
    "duration": 3,
    "start_time": "2024-12-18T15:01:31.145Z"
   },
   {
    "duration": 37,
    "start_time": "2024-12-18T15:01:31.150Z"
   },
   {
    "duration": 10,
    "start_time": "2024-12-18T15:01:31.189Z"
   },
   {
    "duration": 5,
    "start_time": "2024-12-18T15:01:31.200Z"
   },
   {
    "duration": 7,
    "start_time": "2024-12-18T15:01:31.206Z"
   },
   {
    "duration": 7,
    "start_time": "2024-12-18T15:01:31.215Z"
   },
   {
    "duration": 8,
    "start_time": "2024-12-18T15:01:31.223Z"
   },
   {
    "duration": 6,
    "start_time": "2024-12-18T15:01:31.232Z"
   },
   {
    "duration": 47,
    "start_time": "2024-12-18T15:01:31.240Z"
   },
   {
    "duration": 6,
    "start_time": "2024-12-18T15:01:31.288Z"
   },
   {
    "duration": 4,
    "start_time": "2024-12-18T15:01:31.296Z"
   },
   {
    "duration": 7,
    "start_time": "2024-12-18T15:01:31.302Z"
   },
   {
    "duration": 6,
    "start_time": "2024-12-18T15:01:31.314Z"
   },
   {
    "duration": 354,
    "start_time": "2024-12-18T15:01:31.322Z"
   },
   {
    "duration": 170,
    "start_time": "2024-12-18T15:01:31.678Z"
   },
   {
    "duration": 12,
    "start_time": "2024-12-18T15:01:31.849Z"
   },
   {
    "duration": 137,
    "start_time": "2024-12-18T15:01:31.863Z"
   },
   {
    "duration": 7,
    "start_time": "2024-12-18T15:01:32.002Z"
   },
   {
    "duration": 335,
    "start_time": "2024-12-18T15:01:32.011Z"
   },
   {
    "duration": 651,
    "start_time": "2024-12-18T15:01:32.348Z"
   },
   {
    "duration": 0,
    "start_time": "2024-12-18T15:01:33.001Z"
   },
   {
    "duration": 1,
    "start_time": "2024-12-18T15:01:33.001Z"
   },
   {
    "duration": 0,
    "start_time": "2024-12-18T15:01:33.003Z"
   },
   {
    "duration": 0,
    "start_time": "2024-12-18T15:01:33.004Z"
   },
   {
    "duration": 0,
    "start_time": "2024-12-18T15:01:33.005Z"
   },
   {
    "duration": 0,
    "start_time": "2024-12-18T15:01:33.005Z"
   },
   {
    "duration": 0,
    "start_time": "2024-12-18T15:01:33.006Z"
   },
   {
    "duration": 0,
    "start_time": "2024-12-18T15:01:33.008Z"
   },
   {
    "duration": 0,
    "start_time": "2024-12-18T15:01:33.009Z"
   },
   {
    "duration": 0,
    "start_time": "2024-12-18T15:01:33.010Z"
   },
   {
    "duration": 0,
    "start_time": "2024-12-18T15:01:33.011Z"
   },
   {
    "duration": 43,
    "start_time": "2024-12-18T15:02:51.870Z"
   },
   {
    "duration": 12,
    "start_time": "2024-12-18T15:02:58.313Z"
   },
   {
    "duration": 135,
    "start_time": "2024-12-18T15:03:54.419Z"
   },
   {
    "duration": 260,
    "start_time": "2024-12-18T15:04:35.025Z"
   },
   {
    "duration": 13,
    "start_time": "2024-12-18T15:05:06.006Z"
   },
   {
    "duration": 12,
    "start_time": "2024-12-18T15:05:31.459Z"
   },
   {
    "duration": 52,
    "start_time": "2024-12-18T15:05:41.138Z"
   },
   {
    "duration": 54,
    "start_time": "2024-12-18T15:05:49.610Z"
   },
   {
    "duration": 95,
    "start_time": "2024-12-18T15:06:51.370Z"
   },
   {
    "duration": 54,
    "start_time": "2024-12-18T15:07:14.307Z"
   },
   {
    "duration": 6,
    "start_time": "2024-12-18T15:07:27.805Z"
   },
   {
    "duration": 16,
    "start_time": "2024-12-18T15:07:36.800Z"
   },
   {
    "duration": 58,
    "start_time": "2024-12-18T15:08:52.647Z"
   },
   {
    "duration": 6,
    "start_time": "2024-12-18T15:08:59.329Z"
   },
   {
    "duration": 15,
    "start_time": "2024-12-18T15:09:04.035Z"
   },
   {
    "duration": 819,
    "start_time": "2024-12-18T15:27:06.476Z"
   },
   {
    "duration": 378,
    "start_time": "2024-12-18T15:27:07.298Z"
   },
   {
    "duration": 42,
    "start_time": "2024-12-18T15:27:07.678Z"
   },
   {
    "duration": 9,
    "start_time": "2024-12-18T15:27:07.722Z"
   },
   {
    "duration": 3,
    "start_time": "2024-12-18T15:27:07.733Z"
   },
   {
    "duration": 3,
    "start_time": "2024-12-18T15:27:07.738Z"
   },
   {
    "duration": 3,
    "start_time": "2024-12-18T15:27:07.744Z"
   },
   {
    "duration": 76,
    "start_time": "2024-12-18T15:27:07.749Z"
   },
   {
    "duration": 81,
    "start_time": "2024-12-18T15:27:07.827Z"
   },
   {
    "duration": 16,
    "start_time": "2024-12-18T15:27:07.911Z"
   },
   {
    "duration": 78,
    "start_time": "2024-12-18T15:27:07.929Z"
   },
   {
    "duration": 18,
    "start_time": "2024-12-18T15:27:08.009Z"
   },
   {
    "duration": 9,
    "start_time": "2024-12-18T15:27:08.029Z"
   },
   {
    "duration": 6,
    "start_time": "2024-12-18T15:27:08.039Z"
   },
   {
    "duration": 4,
    "start_time": "2024-12-18T15:27:08.047Z"
   },
   {
    "duration": 3,
    "start_time": "2024-12-18T15:27:08.052Z"
   },
   {
    "duration": 2,
    "start_time": "2024-12-18T15:27:08.087Z"
   },
   {
    "duration": 9,
    "start_time": "2024-12-18T15:27:08.091Z"
   },
   {
    "duration": 4,
    "start_time": "2024-12-18T15:27:08.102Z"
   },
   {
    "duration": 8,
    "start_time": "2024-12-18T15:27:08.107Z"
   },
   {
    "duration": 8,
    "start_time": "2024-12-18T15:27:08.116Z"
   },
   {
    "duration": 11,
    "start_time": "2024-12-18T15:27:08.127Z"
   },
   {
    "duration": 7,
    "start_time": "2024-12-18T15:27:08.141Z"
   },
   {
    "duration": 4,
    "start_time": "2024-12-18T15:27:08.186Z"
   },
   {
    "duration": 5,
    "start_time": "2024-12-18T15:27:08.191Z"
   },
   {
    "duration": 5,
    "start_time": "2024-12-18T15:27:08.198Z"
   },
   {
    "duration": 11,
    "start_time": "2024-12-18T15:27:08.204Z"
   },
   {
    "duration": 7,
    "start_time": "2024-12-18T15:27:08.220Z"
   },
   {
    "duration": 360,
    "start_time": "2024-12-18T15:27:08.230Z"
   },
   {
    "duration": 159,
    "start_time": "2024-12-18T15:27:08.592Z"
   },
   {
    "duration": 12,
    "start_time": "2024-12-18T15:27:08.753Z"
   },
   {
    "duration": 148,
    "start_time": "2024-12-18T15:27:08.766Z"
   },
   {
    "duration": 7,
    "start_time": "2024-12-18T15:27:08.916Z"
   },
   {
    "duration": 343,
    "start_time": "2024-12-18T15:27:08.924Z"
   },
   {
    "duration": 102,
    "start_time": "2024-12-18T15:27:09.269Z"
   },
   {
    "duration": 14,
    "start_time": "2024-12-18T15:27:09.373Z"
   },
   {
    "duration": 14,
    "start_time": "2024-12-18T15:27:09.388Z"
   },
   {
    "duration": 9,
    "start_time": "2024-12-18T15:27:09.404Z"
   },
   {
    "duration": 260,
    "start_time": "2024-12-18T15:27:09.415Z"
   },
   {
    "duration": 0,
    "start_time": "2024-12-18T15:27:09.677Z"
   },
   {
    "duration": 0,
    "start_time": "2024-12-18T15:27:09.678Z"
   },
   {
    "duration": 0,
    "start_time": "2024-12-18T15:27:09.686Z"
   },
   {
    "duration": 0,
    "start_time": "2024-12-18T15:27:09.687Z"
   },
   {
    "duration": 0,
    "start_time": "2024-12-18T15:27:09.688Z"
   },
   {
    "duration": 0,
    "start_time": "2024-12-18T15:27:09.689Z"
   },
   {
    "duration": 0,
    "start_time": "2024-12-18T15:27:09.690Z"
   },
   {
    "duration": 26,
    "start_time": "2024-12-18T15:54:48.790Z"
   },
   {
    "duration": 186,
    "start_time": "2024-12-18T15:54:57.175Z"
   },
   {
    "duration": 20,
    "start_time": "2024-12-18T15:55:49.484Z"
   },
   {
    "duration": 20,
    "start_time": "2024-12-18T15:58:58.499Z"
   },
   {
    "duration": 15,
    "start_time": "2024-12-18T15:59:05.945Z"
   },
   {
    "duration": 18,
    "start_time": "2024-12-18T16:05:20.767Z"
   },
   {
    "duration": 20,
    "start_time": "2024-12-18T16:05:33.777Z"
   },
   {
    "duration": 20,
    "start_time": "2024-12-18T16:05:41.825Z"
   },
   {
    "duration": 3,
    "start_time": "2024-12-18T16:07:53.341Z"
   },
   {
    "duration": 292,
    "start_time": "2024-12-18T16:08:06.440Z"
   },
   {
    "duration": 26,
    "start_time": "2024-12-18T16:20:47.539Z"
   },
   {
    "duration": 193,
    "start_time": "2024-12-18T16:21:16.730Z"
   },
   {
    "duration": 25,
    "start_time": "2024-12-18T16:21:45.675Z"
   },
   {
    "duration": 49,
    "start_time": "2024-12-18T16:22:01.621Z"
   },
   {
    "duration": 43,
    "start_time": "2024-12-18T16:40:37.455Z"
   },
   {
    "duration": 165,
    "start_time": "2024-12-18T18:50:03.270Z"
   },
   {
    "duration": 2577,
    "start_time": "2024-12-18T18:50:18.643Z"
   },
   {
    "duration": 433,
    "start_time": "2024-12-18T18:50:21.222Z"
   },
   {
    "duration": 41,
    "start_time": "2024-12-18T18:50:21.656Z"
   },
   {
    "duration": 9,
    "start_time": "2024-12-18T18:50:21.699Z"
   },
   {
    "duration": 4,
    "start_time": "2024-12-18T18:50:21.710Z"
   },
   {
    "duration": 3,
    "start_time": "2024-12-18T18:50:21.716Z"
   },
   {
    "duration": 2,
    "start_time": "2024-12-18T18:50:21.721Z"
   },
   {
    "duration": 60,
    "start_time": "2024-12-18T18:50:21.725Z"
   },
   {
    "duration": 73,
    "start_time": "2024-12-18T18:50:21.787Z"
   },
   {
    "duration": 15,
    "start_time": "2024-12-18T18:50:21.862Z"
   },
   {
    "duration": 80,
    "start_time": "2024-12-18T18:50:21.878Z"
   },
   {
    "duration": 19,
    "start_time": "2024-12-18T18:50:21.960Z"
   },
   {
    "duration": 9,
    "start_time": "2024-12-18T18:50:21.980Z"
   },
   {
    "duration": 7,
    "start_time": "2024-12-18T18:50:22.012Z"
   },
   {
    "duration": 4,
    "start_time": "2024-12-18T18:50:22.021Z"
   },
   {
    "duration": 4,
    "start_time": "2024-12-18T18:50:22.026Z"
   },
   {
    "duration": 3,
    "start_time": "2024-12-18T18:50:22.032Z"
   },
   {
    "duration": 10,
    "start_time": "2024-12-18T18:50:22.037Z"
   },
   {
    "duration": 5,
    "start_time": "2024-12-18T18:50:22.048Z"
   },
   {
    "duration": 7,
    "start_time": "2024-12-18T18:50:22.055Z"
   },
   {
    "duration": 45,
    "start_time": "2024-12-18T18:50:22.065Z"
   },
   {
    "duration": 8,
    "start_time": "2024-12-18T18:50:22.112Z"
   },
   {
    "duration": 6,
    "start_time": "2024-12-18T18:50:22.121Z"
   },
   {
    "duration": 4,
    "start_time": "2024-12-18T18:50:22.128Z"
   },
   {
    "duration": 4,
    "start_time": "2024-12-18T18:50:22.134Z"
   },
   {
    "duration": 4,
    "start_time": "2024-12-18T18:50:22.139Z"
   },
   {
    "duration": 8,
    "start_time": "2024-12-18T18:50:22.145Z"
   },
   {
    "duration": 8,
    "start_time": "2024-12-18T18:50:22.154Z"
   },
   {
    "duration": 372,
    "start_time": "2024-12-18T18:50:22.163Z"
   },
   {
    "duration": 124,
    "start_time": "2024-12-18T18:50:22.537Z"
   },
   {
    "duration": 12,
    "start_time": "2024-12-18T18:50:22.663Z"
   },
   {
    "duration": 138,
    "start_time": "2024-12-18T18:50:22.677Z"
   },
   {
    "duration": 5,
    "start_time": "2024-12-18T18:50:22.817Z"
   },
   {
    "duration": 338,
    "start_time": "2024-12-18T18:50:22.824Z"
   },
   {
    "duration": 111,
    "start_time": "2024-12-18T18:50:23.164Z"
   },
   {
    "duration": 5,
    "start_time": "2024-12-18T18:50:23.277Z"
   },
   {
    "duration": 26,
    "start_time": "2024-12-18T18:50:23.285Z"
   },
   {
    "duration": 4,
    "start_time": "2024-12-18T18:50:23.313Z"
   },
   {
    "duration": 8,
    "start_time": "2024-12-18T18:50:23.318Z"
   },
   {
    "duration": 417,
    "start_time": "2024-12-18T18:50:23.328Z"
   },
   {
    "duration": 0,
    "start_time": "2024-12-18T18:50:23.747Z"
   },
   {
    "duration": 0,
    "start_time": "2024-12-18T18:50:23.749Z"
   },
   {
    "duration": 0,
    "start_time": "2024-12-18T18:50:23.751Z"
   },
   {
    "duration": 0,
    "start_time": "2024-12-18T18:50:23.752Z"
   },
   {
    "duration": 379,
    "start_time": "2024-12-18T18:50:38.103Z"
   },
   {
    "duration": 22,
    "start_time": "2024-12-18T18:51:21.463Z"
   },
   {
    "duration": 23,
    "start_time": "2024-12-18T18:51:38.702Z"
   },
   {
    "duration": 816,
    "start_time": "2024-12-18T18:52:43.220Z"
   },
   {
    "duration": 368,
    "start_time": "2024-12-18T18:52:44.038Z"
   },
   {
    "duration": 44,
    "start_time": "2024-12-18T18:52:44.407Z"
   },
   {
    "duration": 8,
    "start_time": "2024-12-18T18:52:44.454Z"
   },
   {
    "duration": 4,
    "start_time": "2024-12-18T18:52:44.463Z"
   },
   {
    "duration": 2,
    "start_time": "2024-12-18T18:52:44.470Z"
   },
   {
    "duration": 4,
    "start_time": "2024-12-18T18:52:44.474Z"
   },
   {
    "duration": 84,
    "start_time": "2024-12-18T18:52:44.479Z"
   },
   {
    "duration": 65,
    "start_time": "2024-12-18T18:52:44.565Z"
   },
   {
    "duration": 15,
    "start_time": "2024-12-18T18:52:44.634Z"
   },
   {
    "duration": 77,
    "start_time": "2024-12-18T18:52:44.650Z"
   },
   {
    "duration": 18,
    "start_time": "2024-12-18T18:52:44.729Z"
   },
   {
    "duration": 9,
    "start_time": "2024-12-18T18:52:44.749Z"
   },
   {
    "duration": 9,
    "start_time": "2024-12-18T18:52:44.760Z"
   },
   {
    "duration": 4,
    "start_time": "2024-12-18T18:52:44.770Z"
   },
   {
    "duration": 11,
    "start_time": "2024-12-18T18:52:44.777Z"
   },
   {
    "duration": 3,
    "start_time": "2024-12-18T18:52:44.809Z"
   },
   {
    "duration": 9,
    "start_time": "2024-12-18T18:52:44.814Z"
   },
   {
    "duration": 6,
    "start_time": "2024-12-18T18:52:44.825Z"
   },
   {
    "duration": 7,
    "start_time": "2024-12-18T18:52:44.833Z"
   },
   {
    "duration": 8,
    "start_time": "2024-12-18T18:52:44.842Z"
   },
   {
    "duration": 8,
    "start_time": "2024-12-18T18:52:44.851Z"
   },
   {
    "duration": 7,
    "start_time": "2024-12-18T18:52:44.860Z"
   },
   {
    "duration": 41,
    "start_time": "2024-12-18T18:52:44.868Z"
   },
   {
    "duration": 5,
    "start_time": "2024-12-18T18:52:44.910Z"
   },
   {
    "duration": 5,
    "start_time": "2024-12-18T18:52:44.917Z"
   },
   {
    "duration": 8,
    "start_time": "2024-12-18T18:52:44.923Z"
   },
   {
    "duration": 7,
    "start_time": "2024-12-18T18:52:44.936Z"
   },
   {
    "duration": 350,
    "start_time": "2024-12-18T18:52:44.944Z"
   },
   {
    "duration": 166,
    "start_time": "2024-12-18T18:52:45.296Z"
   },
   {
    "duration": 11,
    "start_time": "2024-12-18T18:52:45.464Z"
   },
   {
    "duration": 134,
    "start_time": "2024-12-18T18:52:45.477Z"
   },
   {
    "duration": 5,
    "start_time": "2024-12-18T18:52:45.613Z"
   },
   {
    "duration": 337,
    "start_time": "2024-12-18T18:52:45.620Z"
   },
   {
    "duration": 109,
    "start_time": "2024-12-18T18:52:45.959Z"
   },
   {
    "duration": 7,
    "start_time": "2024-12-18T18:52:46.069Z"
   },
   {
    "duration": 14,
    "start_time": "2024-12-18T18:52:46.077Z"
   },
   {
    "duration": 18,
    "start_time": "2024-12-18T18:52:46.092Z"
   },
   {
    "duration": 566,
    "start_time": "2024-12-18T18:52:46.111Z"
   },
   {
    "duration": 0,
    "start_time": "2024-12-18T18:52:46.678Z"
   },
   {
    "duration": 0,
    "start_time": "2024-12-18T18:52:46.679Z"
   },
   {
    "duration": 0,
    "start_time": "2024-12-18T18:52:46.681Z"
   },
   {
    "duration": 0,
    "start_time": "2024-12-18T18:52:46.682Z"
   },
   {
    "duration": 0,
    "start_time": "2024-12-18T18:52:46.684Z"
   },
   {
    "duration": 0,
    "start_time": "2024-12-18T18:52:46.685Z"
   },
   {
    "duration": 6,
    "start_time": "2024-12-18T18:53:10.768Z"
   },
   {
    "duration": 17,
    "start_time": "2024-12-18T19:33:34.671Z"
   },
   {
    "duration": 5,
    "start_time": "2024-12-18T19:33:44.603Z"
   },
   {
    "duration": 4,
    "start_time": "2024-12-18T19:33:45.782Z"
   },
   {
    "duration": 29,
    "start_time": "2024-12-18T19:34:27.194Z"
   },
   {
    "duration": 10,
    "start_time": "2024-12-18T19:34:50.807Z"
   },
   {
    "duration": 5,
    "start_time": "2024-12-18T19:35:11.092Z"
   },
   {
    "duration": 8,
    "start_time": "2024-12-18T19:36:16.783Z"
   },
   {
    "duration": 8,
    "start_time": "2024-12-18T19:39:45.909Z"
   },
   {
    "duration": 7,
    "start_time": "2024-12-18T19:39:59.528Z"
   },
   {
    "duration": 130,
    "start_time": "2024-12-18T19:40:52.151Z"
   },
   {
    "duration": 27,
    "start_time": "2024-12-18T19:42:08.672Z"
   },
   {
    "duration": 52,
    "start_time": "2024-12-18T19:42:50.880Z"
   },
   {
    "duration": 67,
    "start_time": "2024-12-18T19:43:26.109Z"
   },
   {
    "duration": 17,
    "start_time": "2024-12-18T19:43:55.626Z"
   },
   {
    "duration": 832,
    "start_time": "2024-12-18T19:45:55.093Z"
   },
   {
    "duration": 375,
    "start_time": "2024-12-18T19:45:55.927Z"
   },
   {
    "duration": 43,
    "start_time": "2024-12-18T19:45:56.303Z"
   },
   {
    "duration": 9,
    "start_time": "2024-12-18T19:45:56.349Z"
   },
   {
    "duration": 4,
    "start_time": "2024-12-18T19:45:56.360Z"
   },
   {
    "duration": 3,
    "start_time": "2024-12-18T19:45:56.366Z"
   },
   {
    "duration": 4,
    "start_time": "2024-12-18T19:45:56.371Z"
   },
   {
    "duration": 78,
    "start_time": "2024-12-18T19:45:56.377Z"
   },
   {
    "duration": 64,
    "start_time": "2024-12-18T19:45:56.457Z"
   },
   {
    "duration": 20,
    "start_time": "2024-12-18T19:45:56.525Z"
   },
   {
    "duration": 79,
    "start_time": "2024-12-18T19:45:56.548Z"
   },
   {
    "duration": 19,
    "start_time": "2024-12-18T19:45:56.629Z"
   },
   {
    "duration": 10,
    "start_time": "2024-12-18T19:45:56.650Z"
   },
   {
    "duration": 6,
    "start_time": "2024-12-18T19:45:56.661Z"
   },
   {
    "duration": 3,
    "start_time": "2024-12-18T19:45:56.671Z"
   },
   {
    "duration": 3,
    "start_time": "2024-12-18T19:45:56.676Z"
   },
   {
    "duration": 29,
    "start_time": "2024-12-18T19:45:56.681Z"
   },
   {
    "duration": 13,
    "start_time": "2024-12-18T19:45:56.712Z"
   },
   {
    "duration": 4,
    "start_time": "2024-12-18T19:45:56.727Z"
   },
   {
    "duration": 8,
    "start_time": "2024-12-18T19:45:56.733Z"
   },
   {
    "duration": 8,
    "start_time": "2024-12-18T19:45:56.742Z"
   },
   {
    "duration": 7,
    "start_time": "2024-12-18T19:45:56.752Z"
   },
   {
    "duration": 6,
    "start_time": "2024-12-18T19:45:56.761Z"
   },
   {
    "duration": 40,
    "start_time": "2024-12-18T19:45:56.769Z"
   },
   {
    "duration": 4,
    "start_time": "2024-12-18T19:45:56.811Z"
   },
   {
    "duration": 4,
    "start_time": "2024-12-18T19:45:56.817Z"
   },
   {
    "duration": 9,
    "start_time": "2024-12-18T19:45:56.822Z"
   },
   {
    "duration": 8,
    "start_time": "2024-12-18T19:45:56.836Z"
   },
   {
    "duration": 388,
    "start_time": "2024-12-18T19:45:56.845Z"
   },
   {
    "duration": 189,
    "start_time": "2024-12-18T19:45:57.234Z"
   },
   {
    "duration": 13,
    "start_time": "2024-12-18T19:45:57.425Z"
   },
   {
    "duration": 156,
    "start_time": "2024-12-18T19:45:57.440Z"
   },
   {
    "duration": 14,
    "start_time": "2024-12-18T19:45:57.598Z"
   },
   {
    "duration": 350,
    "start_time": "2024-12-18T19:45:57.615Z"
   },
   {
    "duration": 129,
    "start_time": "2024-12-18T19:45:57.966Z"
   },
   {
    "duration": 13,
    "start_time": "2024-12-18T19:45:58.097Z"
   },
   {
    "duration": 16,
    "start_time": "2024-12-18T19:45:58.111Z"
   },
   {
    "duration": 4,
    "start_time": "2024-12-18T19:45:58.131Z"
   },
   {
    "duration": 4,
    "start_time": "2024-12-18T19:45:58.137Z"
   },
   {
    "duration": 2,
    "start_time": "2024-12-18T19:45:58.144Z"
   },
   {
    "duration": 9,
    "start_time": "2024-12-18T19:45:58.149Z"
   },
   {
    "duration": 5,
    "start_time": "2024-12-18T19:45:58.160Z"
   },
   {
    "duration": 329,
    "start_time": "2024-12-18T19:45:58.167Z"
   },
   {
    "duration": 0,
    "start_time": "2024-12-18T19:45:58.499Z"
   },
   {
    "duration": 0,
    "start_time": "2024-12-18T19:45:58.508Z"
   },
   {
    "duration": 0,
    "start_time": "2024-12-18T19:45:58.510Z"
   },
   {
    "duration": 0,
    "start_time": "2024-12-18T19:45:58.511Z"
   },
   {
    "duration": 258,
    "start_time": "2024-12-18T19:46:27.146Z"
   },
   {
    "duration": 298,
    "start_time": "2024-12-18T20:21:31.186Z"
   },
   {
    "duration": 7,
    "start_time": "2024-12-18T20:21:48.654Z"
   },
   {
    "duration": 15,
    "start_time": "2024-12-18T20:22:00.578Z"
   },
   {
    "duration": 319,
    "start_time": "2024-12-18T20:26:36.440Z"
   },
   {
    "duration": 877,
    "start_time": "2024-12-18T20:27:09.050Z"
   },
   {
    "duration": 383,
    "start_time": "2024-12-18T20:27:09.931Z"
   },
   {
    "duration": 45,
    "start_time": "2024-12-18T20:27:10.316Z"
   },
   {
    "duration": 9,
    "start_time": "2024-12-18T20:27:10.365Z"
   },
   {
    "duration": 3,
    "start_time": "2024-12-18T20:27:10.377Z"
   },
   {
    "duration": 4,
    "start_time": "2024-12-18T20:27:10.382Z"
   },
   {
    "duration": 22,
    "start_time": "2024-12-18T20:27:10.388Z"
   },
   {
    "duration": 62,
    "start_time": "2024-12-18T20:27:10.411Z"
   },
   {
    "duration": 67,
    "start_time": "2024-12-18T20:27:10.475Z"
   },
   {
    "duration": 16,
    "start_time": "2024-12-18T20:27:10.546Z"
   },
   {
    "duration": 76,
    "start_time": "2024-12-18T20:27:10.564Z"
   },
   {
    "duration": 19,
    "start_time": "2024-12-18T20:27:10.642Z"
   },
   {
    "duration": 13,
    "start_time": "2024-12-18T20:27:10.666Z"
   },
   {
    "duration": 9,
    "start_time": "2024-12-18T20:27:10.680Z"
   },
   {
    "duration": 19,
    "start_time": "2024-12-18T20:27:10.691Z"
   },
   {
    "duration": 3,
    "start_time": "2024-12-18T20:27:10.713Z"
   },
   {
    "duration": 4,
    "start_time": "2024-12-18T20:27:10.719Z"
   },
   {
    "duration": 12,
    "start_time": "2024-12-18T20:27:10.724Z"
   },
   {
    "duration": 5,
    "start_time": "2024-12-18T20:27:10.738Z"
   },
   {
    "duration": 10,
    "start_time": "2024-12-18T20:27:10.744Z"
   },
   {
    "duration": 8,
    "start_time": "2024-12-18T20:27:10.756Z"
   },
   {
    "duration": 10,
    "start_time": "2024-12-18T20:27:10.767Z"
   },
   {
    "duration": 9,
    "start_time": "2024-12-18T20:27:10.809Z"
   },
   {
    "duration": 3,
    "start_time": "2024-12-18T20:27:10.820Z"
   },
   {
    "duration": 4,
    "start_time": "2024-12-18T20:27:10.825Z"
   },
   {
    "duration": 4,
    "start_time": "2024-12-18T20:27:10.830Z"
   },
   {
    "duration": 8,
    "start_time": "2024-12-18T20:27:10.836Z"
   },
   {
    "duration": 6,
    "start_time": "2024-12-18T20:27:10.849Z"
   },
   {
    "duration": 366,
    "start_time": "2024-12-18T20:27:10.857Z"
   },
   {
    "duration": 182,
    "start_time": "2024-12-18T20:27:11.224Z"
   },
   {
    "duration": 13,
    "start_time": "2024-12-18T20:27:11.409Z"
   },
   {
    "duration": 140,
    "start_time": "2024-12-18T20:27:11.424Z"
   },
   {
    "duration": 6,
    "start_time": "2024-12-18T20:27:11.566Z"
   },
   {
    "duration": 349,
    "start_time": "2024-12-18T20:27:11.574Z"
   },
   {
    "duration": 120,
    "start_time": "2024-12-18T20:27:11.925Z"
   },
   {
    "duration": 5,
    "start_time": "2024-12-18T20:27:12.046Z"
   },
   {
    "duration": 14,
    "start_time": "2024-12-18T20:27:12.053Z"
   },
   {
    "duration": 3,
    "start_time": "2024-12-18T20:27:12.069Z"
   },
   {
    "duration": 4,
    "start_time": "2024-12-18T20:27:12.075Z"
   },
   {
    "duration": 26,
    "start_time": "2024-12-18T20:27:12.083Z"
   },
   {
    "duration": 9,
    "start_time": "2024-12-18T20:27:12.112Z"
   },
   {
    "duration": 6,
    "start_time": "2024-12-18T20:27:12.122Z"
   },
   {
    "duration": 346,
    "start_time": "2024-12-18T20:27:12.129Z"
   },
   {
    "duration": 0,
    "start_time": "2024-12-18T20:27:12.477Z"
   },
   {
    "duration": 0,
    "start_time": "2024-12-18T20:27:12.478Z"
   },
   {
    "duration": 0,
    "start_time": "2024-12-18T20:27:12.479Z"
   },
   {
    "duration": 0,
    "start_time": "2024-12-18T20:27:12.480Z"
   },
   {
    "duration": 0,
    "start_time": "2024-12-18T20:27:12.481Z"
   },
   {
    "duration": 0,
    "start_time": "2024-12-18T20:27:12.482Z"
   },
   {
    "duration": 16,
    "start_time": "2024-12-18T20:27:20.322Z"
   },
   {
    "duration": 465,
    "start_time": "2024-12-18T20:27:24.308Z"
   },
   {
    "duration": 158,
    "start_time": "2024-12-18T20:28:36.440Z"
   },
   {
    "duration": 56,
    "start_time": "2024-12-18T20:30:57.557Z"
   },
   {
    "duration": 73,
    "start_time": "2024-12-18T20:31:13.656Z"
   },
   {
    "duration": 2609,
    "start_time": "2024-12-18T21:43:09.560Z"
   },
   {
    "duration": 421,
    "start_time": "2024-12-18T21:43:12.171Z"
   },
   {
    "duration": 40,
    "start_time": "2024-12-18T21:43:12.593Z"
   },
   {
    "duration": 9,
    "start_time": "2024-12-18T21:43:12.635Z"
   },
   {
    "duration": 4,
    "start_time": "2024-12-18T21:43:12.646Z"
   },
   {
    "duration": 3,
    "start_time": "2024-12-18T21:43:12.651Z"
   },
   {
    "duration": 3,
    "start_time": "2024-12-18T21:43:12.656Z"
   },
   {
    "duration": 83,
    "start_time": "2024-12-18T21:43:12.660Z"
   },
   {
    "duration": 55,
    "start_time": "2024-12-18T21:43:12.744Z"
   },
   {
    "duration": 24,
    "start_time": "2024-12-18T21:43:12.800Z"
   },
   {
    "duration": 70,
    "start_time": "2024-12-18T21:43:12.826Z"
   },
   {
    "duration": 19,
    "start_time": "2024-12-18T21:43:12.909Z"
   },
   {
    "duration": 9,
    "start_time": "2024-12-18T21:43:12.930Z"
   },
   {
    "duration": 7,
    "start_time": "2024-12-18T21:43:12.942Z"
   },
   {
    "duration": 3,
    "start_time": "2024-12-18T21:43:12.951Z"
   },
   {
    "duration": 3,
    "start_time": "2024-12-18T21:43:12.956Z"
   },
   {
    "duration": 4,
    "start_time": "2024-12-18T21:43:12.960Z"
   },
   {
    "duration": 47,
    "start_time": "2024-12-18T21:43:12.966Z"
   },
   {
    "duration": 4,
    "start_time": "2024-12-18T21:43:13.015Z"
   },
   {
    "duration": 8,
    "start_time": "2024-12-18T21:43:13.021Z"
   },
   {
    "duration": 9,
    "start_time": "2024-12-18T21:43:13.030Z"
   },
   {
    "duration": 8,
    "start_time": "2024-12-18T21:43:13.040Z"
   },
   {
    "duration": 7,
    "start_time": "2024-12-18T21:43:13.050Z"
   },
   {
    "duration": 3,
    "start_time": "2024-12-18T21:43:13.059Z"
   },
   {
    "duration": 5,
    "start_time": "2024-12-18T21:43:13.063Z"
   },
   {
    "duration": 5,
    "start_time": "2024-12-18T21:43:13.108Z"
   },
   {
    "duration": 8,
    "start_time": "2024-12-18T21:43:13.115Z"
   },
   {
    "duration": 7,
    "start_time": "2024-12-18T21:43:13.124Z"
   },
   {
    "duration": 341,
    "start_time": "2024-12-18T21:43:13.133Z"
   },
   {
    "duration": 123,
    "start_time": "2024-12-18T21:43:13.477Z"
   },
   {
    "duration": 17,
    "start_time": "2024-12-18T21:43:13.602Z"
   },
   {
    "duration": 134,
    "start_time": "2024-12-18T21:43:13.621Z"
   },
   {
    "duration": 6,
    "start_time": "2024-12-18T21:43:13.757Z"
   },
   {
    "duration": 394,
    "start_time": "2024-12-18T21:43:13.768Z"
   },
   {
    "duration": 110,
    "start_time": "2024-12-18T21:43:14.164Z"
   },
   {
    "duration": 5,
    "start_time": "2024-12-18T21:43:14.276Z"
   },
   {
    "duration": 26,
    "start_time": "2024-12-18T21:43:14.283Z"
   },
   {
    "duration": 4,
    "start_time": "2024-12-18T21:43:14.311Z"
   },
   {
    "duration": 4,
    "start_time": "2024-12-18T21:43:14.317Z"
   },
   {
    "duration": 2,
    "start_time": "2024-12-18T21:43:14.323Z"
   },
   {
    "duration": 8,
    "start_time": "2024-12-18T21:43:14.330Z"
   },
   {
    "duration": 5,
    "start_time": "2024-12-18T21:43:14.339Z"
   },
   {
    "duration": 364,
    "start_time": "2024-12-18T21:43:14.346Z"
   },
   {
    "duration": 0,
    "start_time": "2024-12-18T21:43:14.711Z"
   },
   {
    "duration": 0,
    "start_time": "2024-12-18T21:43:14.712Z"
   },
   {
    "duration": 0,
    "start_time": "2024-12-18T21:43:14.713Z"
   },
   {
    "duration": 0,
    "start_time": "2024-12-18T21:43:14.714Z"
   },
   {
    "duration": 0,
    "start_time": "2024-12-18T21:43:14.716Z"
   },
   {
    "duration": 0,
    "start_time": "2024-12-18T21:43:14.718Z"
   },
   {
    "duration": 14,
    "start_time": "2024-12-18T21:43:20.799Z"
   },
   {
    "duration": 8,
    "start_time": "2024-12-18T21:44:07.000Z"
   },
   {
    "duration": 128,
    "start_time": "2024-12-18T21:44:34.574Z"
   },
   {
    "duration": 133,
    "start_time": "2024-12-18T21:45:06.323Z"
   },
   {
    "duration": 17,
    "start_time": "2024-12-18T21:48:32.324Z"
   },
   {
    "duration": 15,
    "start_time": "2024-12-18T21:48:39.407Z"
   },
   {
    "duration": 15,
    "start_time": "2024-12-18T21:48:52.420Z"
   },
   {
    "duration": 452,
    "start_time": "2024-12-18T21:48:57.939Z"
   },
   {
    "duration": 56,
    "start_time": "2024-12-18T21:50:05.393Z"
   },
   {
    "duration": 35,
    "start_time": "2024-12-18T21:59:01.368Z"
   },
   {
    "duration": 119,
    "start_time": "2024-12-18T21:59:25.239Z"
   },
   {
    "duration": 251,
    "start_time": "2024-12-18T22:00:22.065Z"
   },
   {
    "duration": 60,
    "start_time": "2024-12-18T22:00:47.614Z"
   },
   {
    "duration": 56,
    "start_time": "2024-12-18T22:01:29.794Z"
   },
   {
    "duration": 51,
    "start_time": "2024-12-18T22:04:28.881Z"
   },
   {
    "duration": 15,
    "start_time": "2024-12-18T22:06:47.018Z"
   },
   {
    "duration": 53,
    "start_time": "2024-12-18T22:06:52.237Z"
   },
   {
    "duration": 14,
    "start_time": "2024-12-18T22:07:20.987Z"
   },
   {
    "duration": 55,
    "start_time": "2024-12-18T22:07:50.931Z"
   },
   {
    "duration": 7,
    "start_time": "2024-12-18T22:09:05.775Z"
   },
   {
    "duration": 13,
    "start_time": "2024-12-18T22:09:12.811Z"
   },
   {
    "duration": 2574,
    "start_time": "2024-12-19T13:54:09.131Z"
   },
   {
    "duration": 421,
    "start_time": "2024-12-19T13:54:11.706Z"
   },
   {
    "duration": 38,
    "start_time": "2024-12-19T13:54:12.129Z"
   },
   {
    "duration": 9,
    "start_time": "2024-12-19T13:54:12.170Z"
   },
   {
    "duration": 4,
    "start_time": "2024-12-19T13:54:12.180Z"
   },
   {
    "duration": 3,
    "start_time": "2024-12-19T13:54:12.186Z"
   },
   {
    "duration": 2,
    "start_time": "2024-12-19T13:54:12.191Z"
   },
   {
    "duration": 87,
    "start_time": "2024-12-19T13:54:12.195Z"
   },
   {
    "duration": 63,
    "start_time": "2024-12-19T13:54:12.284Z"
   },
   {
    "duration": 14,
    "start_time": "2024-12-19T13:54:12.351Z"
   },
   {
    "duration": 63,
    "start_time": "2024-12-19T13:54:12.367Z"
   },
   {
    "duration": 19,
    "start_time": "2024-12-19T13:54:12.443Z"
   },
   {
    "duration": 9,
    "start_time": "2024-12-19T13:54:12.464Z"
   },
   {
    "duration": 6,
    "start_time": "2024-12-19T13:54:12.474Z"
   },
   {
    "duration": 4,
    "start_time": "2024-12-19T13:54:12.482Z"
   },
   {
    "duration": 3,
    "start_time": "2024-12-19T13:54:12.488Z"
   },
   {
    "duration": 3,
    "start_time": "2024-12-19T13:54:12.492Z"
   },
   {
    "duration": 9,
    "start_time": "2024-12-19T13:54:12.497Z"
   },
   {
    "duration": 4,
    "start_time": "2024-12-19T13:54:12.543Z"
   },
   {
    "duration": 7,
    "start_time": "2024-12-19T13:54:12.549Z"
   },
   {
    "duration": 7,
    "start_time": "2024-12-19T13:54:12.558Z"
   },
   {
    "duration": 8,
    "start_time": "2024-12-19T13:54:12.566Z"
   },
   {
    "duration": 6,
    "start_time": "2024-12-19T13:54:12.576Z"
   },
   {
    "duration": 4,
    "start_time": "2024-12-19T13:54:12.584Z"
   },
   {
    "duration": 4,
    "start_time": "2024-12-19T13:54:12.589Z"
   },
   {
    "duration": 47,
    "start_time": "2024-12-19T13:54:12.595Z"
   },
   {
    "duration": 7,
    "start_time": "2024-12-19T13:54:12.644Z"
   },
   {
    "duration": 7,
    "start_time": "2024-12-19T13:54:12.655Z"
   },
   {
    "duration": 339,
    "start_time": "2024-12-19T13:54:12.664Z"
   },
   {
    "duration": 117,
    "start_time": "2024-12-19T13:54:13.004Z"
   },
   {
    "duration": 20,
    "start_time": "2024-12-19T13:54:13.123Z"
   },
   {
    "duration": 124,
    "start_time": "2024-12-19T13:54:13.144Z"
   },
   {
    "duration": 6,
    "start_time": "2024-12-19T13:54:13.270Z"
   },
   {
    "duration": 331,
    "start_time": "2024-12-19T13:54:13.278Z"
   },
   {
    "duration": 106,
    "start_time": "2024-12-19T13:54:13.611Z"
   },
   {
    "duration": 5,
    "start_time": "2024-12-19T13:54:13.718Z"
   },
   {
    "duration": 22,
    "start_time": "2024-12-19T13:54:13.725Z"
   },
   {
    "duration": 4,
    "start_time": "2024-12-19T13:54:13.749Z"
   },
   {
    "duration": 5,
    "start_time": "2024-12-19T13:54:13.754Z"
   },
   {
    "duration": 3,
    "start_time": "2024-12-19T13:54:13.760Z"
   },
   {
    "duration": 8,
    "start_time": "2024-12-19T13:54:13.765Z"
   },
   {
    "duration": 6,
    "start_time": "2024-12-19T13:54:13.775Z"
   },
   {
    "duration": 407,
    "start_time": "2024-12-19T13:54:13.782Z"
   },
   {
    "duration": 0,
    "start_time": "2024-12-19T13:54:14.191Z"
   },
   {
    "duration": 0,
    "start_time": "2024-12-19T13:54:14.193Z"
   },
   {
    "duration": 0,
    "start_time": "2024-12-19T13:54:14.194Z"
   },
   {
    "duration": 0,
    "start_time": "2024-12-19T13:54:14.195Z"
   },
   {
    "duration": 0,
    "start_time": "2024-12-19T13:54:14.196Z"
   },
   {
    "duration": 0,
    "start_time": "2024-12-19T13:54:14.197Z"
   },
   {
    "duration": 0,
    "start_time": "2024-12-19T13:54:14.198Z"
   },
   {
    "duration": 0,
    "start_time": "2024-12-19T13:54:14.199Z"
   },
   {
    "duration": 0,
    "start_time": "2024-12-19T13:54:14.200Z"
   },
   {
    "duration": 0,
    "start_time": "2024-12-19T13:54:14.201Z"
   },
   {
    "duration": 13,
    "start_time": "2024-12-19T13:54:48.293Z"
   },
   {
    "duration": 444,
    "start_time": "2024-12-19T13:54:52.747Z"
   },
   {
    "duration": 9,
    "start_time": "2024-12-19T13:55:08.349Z"
   },
   {
    "duration": 131,
    "start_time": "2024-12-19T13:55:09.434Z"
   },
   {
    "duration": 10,
    "start_time": "2024-12-19T14:17:53.289Z"
   },
   {
    "duration": 8,
    "start_time": "2024-12-19T14:18:19.851Z"
   },
   {
    "duration": 6,
    "start_time": "2024-12-19T14:18:53.793Z"
   },
   {
    "duration": 129,
    "start_time": "2024-12-19T14:21:18.708Z"
   },
   {
    "duration": 53,
    "start_time": "2024-12-19T14:22:06.886Z"
   },
   {
    "duration": 8,
    "start_time": "2024-12-19T14:22:36.330Z"
   },
   {
    "duration": 44,
    "start_time": "2024-12-19T14:23:28.647Z"
   },
   {
    "duration": 43,
    "start_time": "2024-12-19T14:23:55.953Z"
   },
   {
    "duration": 52,
    "start_time": "2024-12-19T14:24:10.184Z"
   },
   {
    "duration": 52,
    "start_time": "2024-12-19T14:26:21.554Z"
   },
   {
    "duration": 52,
    "start_time": "2024-12-19T14:26:43.453Z"
   },
   {
    "duration": 48,
    "start_time": "2024-12-19T14:29:16.052Z"
   },
   {
    "duration": 47,
    "start_time": "2024-12-19T14:30:13.669Z"
   },
   {
    "duration": 7,
    "start_time": "2024-12-19T14:30:49.076Z"
   },
   {
    "duration": 38,
    "start_time": "2024-12-19T14:38:37.797Z"
   },
   {
    "duration": 118,
    "start_time": "2024-12-19T14:38:54.195Z"
   },
   {
    "duration": 201,
    "start_time": "2024-12-19T14:39:00.331Z"
   },
   {
    "duration": 43,
    "start_time": "2024-12-19T14:40:05.668Z"
   },
   {
    "duration": 20,
    "start_time": "2024-12-19T14:41:02.742Z"
   },
   {
    "duration": 796,
    "start_time": "2024-12-19T14:42:03.191Z"
   },
   {
    "duration": 360,
    "start_time": "2024-12-19T14:42:03.989Z"
   },
   {
    "duration": 38,
    "start_time": "2024-12-19T14:42:04.351Z"
   },
   {
    "duration": 8,
    "start_time": "2024-12-19T14:42:04.392Z"
   },
   {
    "duration": 4,
    "start_time": "2024-12-19T14:42:04.401Z"
   },
   {
    "duration": 3,
    "start_time": "2024-12-19T14:42:04.407Z"
   },
   {
    "duration": 3,
    "start_time": "2024-12-19T14:42:04.412Z"
   },
   {
    "duration": 78,
    "start_time": "2024-12-19T14:42:04.416Z"
   },
   {
    "duration": 62,
    "start_time": "2024-12-19T14:42:04.497Z"
   },
   {
    "duration": 15,
    "start_time": "2024-12-19T14:42:04.562Z"
   },
   {
    "duration": 75,
    "start_time": "2024-12-19T14:42:04.579Z"
   },
   {
    "duration": 20,
    "start_time": "2024-12-19T14:42:04.655Z"
   },
   {
    "duration": 10,
    "start_time": "2024-12-19T14:42:04.676Z"
   },
   {
    "duration": 7,
    "start_time": "2024-12-19T14:42:04.688Z"
   },
   {
    "duration": 4,
    "start_time": "2024-12-19T14:42:04.696Z"
   },
   {
    "duration": 2,
    "start_time": "2024-12-19T14:42:04.702Z"
   },
   {
    "duration": 3,
    "start_time": "2024-12-19T14:42:04.705Z"
   },
   {
    "duration": 10,
    "start_time": "2024-12-19T14:42:04.742Z"
   },
   {
    "duration": 5,
    "start_time": "2024-12-19T14:42:04.754Z"
   },
   {
    "duration": 8,
    "start_time": "2024-12-19T14:42:04.760Z"
   },
   {
    "duration": 8,
    "start_time": "2024-12-19T14:42:04.769Z"
   },
   {
    "duration": 8,
    "start_time": "2024-12-19T14:42:04.779Z"
   },
   {
    "duration": 6,
    "start_time": "2024-12-19T14:42:04.788Z"
   },
   {
    "duration": 4,
    "start_time": "2024-12-19T14:42:04.795Z"
   },
   {
    "duration": 44,
    "start_time": "2024-12-19T14:42:04.801Z"
   },
   {
    "duration": 5,
    "start_time": "2024-12-19T14:42:04.846Z"
   },
   {
    "duration": 14,
    "start_time": "2024-12-19T14:42:04.853Z"
   },
   {
    "duration": 14,
    "start_time": "2024-12-19T14:42:04.871Z"
   },
   {
    "duration": 338,
    "start_time": "2024-12-19T14:42:04.887Z"
   },
   {
    "duration": 172,
    "start_time": "2024-12-19T14:42:05.226Z"
   },
   {
    "duration": 11,
    "start_time": "2024-12-19T14:42:05.400Z"
   },
   {
    "duration": 139,
    "start_time": "2024-12-19T14:42:05.413Z"
   },
   {
    "duration": 6,
    "start_time": "2024-12-19T14:42:05.553Z"
   },
   {
    "duration": 332,
    "start_time": "2024-12-19T14:42:05.560Z"
   },
   {
    "duration": 107,
    "start_time": "2024-12-19T14:42:05.894Z"
   },
   {
    "duration": 5,
    "start_time": "2024-12-19T14:42:06.003Z"
   },
   {
    "duration": 14,
    "start_time": "2024-12-19T14:42:06.010Z"
   },
   {
    "duration": 20,
    "start_time": "2024-12-19T14:42:06.025Z"
   },
   {
    "duration": 4,
    "start_time": "2024-12-19T14:42:06.047Z"
   },
   {
    "duration": 2,
    "start_time": "2024-12-19T14:42:06.053Z"
   },
   {
    "duration": 8,
    "start_time": "2024-12-19T14:42:06.057Z"
   },
   {
    "duration": 6,
    "start_time": "2024-12-19T14:42:06.066Z"
   },
   {
    "duration": 183,
    "start_time": "2024-12-19T14:42:06.073Z"
   },
   {
    "duration": 0,
    "start_time": "2024-12-19T14:42:06.258Z"
   },
   {
    "duration": 0,
    "start_time": "2024-12-19T14:42:06.259Z"
   },
   {
    "duration": 0,
    "start_time": "2024-12-19T14:42:06.261Z"
   },
   {
    "duration": 0,
    "start_time": "2024-12-19T14:42:06.261Z"
   },
   {
    "duration": 0,
    "start_time": "2024-12-19T14:42:06.263Z"
   },
   {
    "duration": 0,
    "start_time": "2024-12-19T14:42:06.264Z"
   },
   {
    "duration": 0,
    "start_time": "2024-12-19T14:42:06.265Z"
   },
   {
    "duration": 0,
    "start_time": "2024-12-19T14:42:06.266Z"
   },
   {
    "duration": 0,
    "start_time": "2024-12-19T14:42:06.267Z"
   },
   {
    "duration": 0,
    "start_time": "2024-12-19T14:42:06.268Z"
   },
   {
    "duration": 0,
    "start_time": "2024-12-19T14:42:06.269Z"
   },
   {
    "duration": 0,
    "start_time": "2024-12-19T14:42:06.269Z"
   },
   {
    "duration": 0,
    "start_time": "2024-12-19T14:42:06.270Z"
   },
   {
    "duration": 108,
    "start_time": "2024-12-19T14:42:17.945Z"
   },
   {
    "duration": 45,
    "start_time": "2024-12-19T14:47:59.493Z"
   },
   {
    "duration": 16,
    "start_time": "2024-12-19T14:48:03.957Z"
   },
   {
    "duration": 10,
    "start_time": "2024-12-19T14:48:14.917Z"
   },
   {
    "duration": 9,
    "start_time": "2024-12-19T14:48:15.068Z"
   },
   {
    "duration": 6,
    "start_time": "2024-12-19T14:51:20.423Z"
   },
   {
    "duration": 13,
    "start_time": "2024-12-19T14:51:28.620Z"
   },
   {
    "duration": 5,
    "start_time": "2024-12-19T14:51:34.792Z"
   },
   {
    "duration": 6,
    "start_time": "2024-12-19T14:51:35.365Z"
   },
   {
    "duration": 5,
    "start_time": "2024-12-19T14:52:05.113Z"
   },
   {
    "duration": 6,
    "start_time": "2024-12-19T14:52:05.930Z"
   },
   {
    "duration": 7,
    "start_time": "2024-12-19T14:52:26.561Z"
   },
   {
    "duration": 16,
    "start_time": "2024-12-19T14:53:47.501Z"
   },
   {
    "duration": 18,
    "start_time": "2024-12-19T14:59:12.369Z"
   },
   {
    "duration": 10,
    "start_time": "2024-12-19T15:00:54.242Z"
   },
   {
    "duration": 15,
    "start_time": "2024-12-19T15:01:38.764Z"
   },
   {
    "duration": 848,
    "start_time": "2024-12-19T15:03:48.870Z"
   },
   {
    "duration": 348,
    "start_time": "2024-12-19T15:03:49.720Z"
   },
   {
    "duration": 38,
    "start_time": "2024-12-19T15:03:50.070Z"
   },
   {
    "duration": 9,
    "start_time": "2024-12-19T15:03:50.111Z"
   },
   {
    "duration": 4,
    "start_time": "2024-12-19T15:03:50.122Z"
   },
   {
    "duration": 3,
    "start_time": "2024-12-19T15:03:50.143Z"
   },
   {
    "duration": 3,
    "start_time": "2024-12-19T15:03:50.147Z"
   },
   {
    "duration": 56,
    "start_time": "2024-12-19T15:03:50.151Z"
   },
   {
    "duration": 71,
    "start_time": "2024-12-19T15:03:50.208Z"
   },
   {
    "duration": 15,
    "start_time": "2024-12-19T15:03:50.282Z"
   },
   {
    "duration": 76,
    "start_time": "2024-12-19T15:03:50.298Z"
   },
   {
    "duration": 19,
    "start_time": "2024-12-19T15:03:50.376Z"
   },
   {
    "duration": 8,
    "start_time": "2024-12-19T15:03:50.397Z"
   },
   {
    "duration": 6,
    "start_time": "2024-12-19T15:03:50.407Z"
   },
   {
    "duration": 4,
    "start_time": "2024-12-19T15:03:50.414Z"
   },
   {
    "duration": 3,
    "start_time": "2024-12-19T15:03:50.442Z"
   },
   {
    "duration": 3,
    "start_time": "2024-12-19T15:03:50.447Z"
   },
   {
    "duration": 10,
    "start_time": "2024-12-19T15:03:50.452Z"
   },
   {
    "duration": 4,
    "start_time": "2024-12-19T15:03:50.464Z"
   },
   {
    "duration": 8,
    "start_time": "2024-12-19T15:03:50.470Z"
   },
   {
    "duration": 11,
    "start_time": "2024-12-19T15:03:50.481Z"
   },
   {
    "duration": 11,
    "start_time": "2024-12-19T15:03:50.494Z"
   },
   {
    "duration": 40,
    "start_time": "2024-12-19T15:03:50.506Z"
   },
   {
    "duration": 4,
    "start_time": "2024-12-19T15:03:50.548Z"
   },
   {
    "duration": 5,
    "start_time": "2024-12-19T15:03:50.553Z"
   },
   {
    "duration": 5,
    "start_time": "2024-12-19T15:03:50.560Z"
   },
   {
    "duration": 14,
    "start_time": "2024-12-19T15:03:50.566Z"
   },
   {
    "duration": 7,
    "start_time": "2024-12-19T15:03:50.585Z"
   },
   {
    "duration": 350,
    "start_time": "2024-12-19T15:03:50.594Z"
   },
   {
    "duration": 171,
    "start_time": "2024-12-19T15:03:50.946Z"
   },
   {
    "duration": 14,
    "start_time": "2024-12-19T15:03:51.120Z"
   },
   {
    "duration": 135,
    "start_time": "2024-12-19T15:03:51.137Z"
   },
   {
    "duration": 5,
    "start_time": "2024-12-19T15:03:51.274Z"
   },
   {
    "duration": 336,
    "start_time": "2024-12-19T15:03:51.280Z"
   },
   {
    "duration": 104,
    "start_time": "2024-12-19T15:03:51.618Z"
   },
   {
    "duration": 6,
    "start_time": "2024-12-19T15:03:51.724Z"
   },
   {
    "duration": 23,
    "start_time": "2024-12-19T15:03:51.732Z"
   },
   {
    "duration": 4,
    "start_time": "2024-12-19T15:03:51.756Z"
   },
   {
    "duration": 4,
    "start_time": "2024-12-19T15:03:51.762Z"
   },
   {
    "duration": 2,
    "start_time": "2024-12-19T15:03:51.768Z"
   },
   {
    "duration": 8,
    "start_time": "2024-12-19T15:03:51.772Z"
   },
   {
    "duration": 5,
    "start_time": "2024-12-19T15:03:51.782Z"
   },
   {
    "duration": 80,
    "start_time": "2024-12-19T15:03:51.789Z"
   },
   {
    "duration": 10,
    "start_time": "2024-12-19T15:03:51.870Z"
   },
   {
    "duration": 142,
    "start_time": "2024-12-19T15:03:51.881Z"
   },
   {
    "duration": 0,
    "start_time": "2024-12-19T15:03:52.024Z"
   },
   {
    "duration": 0,
    "start_time": "2024-12-19T15:03:52.026Z"
   },
   {
    "duration": 0,
    "start_time": "2024-12-19T15:03:52.027Z"
   },
   {
    "duration": 0,
    "start_time": "2024-12-19T15:03:52.029Z"
   },
   {
    "duration": 0,
    "start_time": "2024-12-19T15:03:52.043Z"
   },
   {
    "duration": 0,
    "start_time": "2024-12-19T15:03:52.044Z"
   },
   {
    "duration": 0,
    "start_time": "2024-12-19T15:03:52.046Z"
   },
   {
    "duration": 0,
    "start_time": "2024-12-19T15:03:52.047Z"
   },
   {
    "duration": 0,
    "start_time": "2024-12-19T15:03:52.048Z"
   },
   {
    "duration": 0,
    "start_time": "2024-12-19T15:03:52.049Z"
   },
   {
    "duration": 0,
    "start_time": "2024-12-19T15:03:52.050Z"
   },
   {
    "duration": 0,
    "start_time": "2024-12-19T15:03:52.051Z"
   },
   {
    "duration": 153,
    "start_time": "2024-12-19T15:04:19.912Z"
   },
   {
    "duration": 882,
    "start_time": "2024-12-19T15:04:27.160Z"
   },
   {
    "duration": 406,
    "start_time": "2024-12-19T15:04:28.045Z"
   },
   {
    "duration": 38,
    "start_time": "2024-12-19T15:04:28.453Z"
   },
   {
    "duration": 9,
    "start_time": "2024-12-19T15:04:28.493Z"
   },
   {
    "duration": 3,
    "start_time": "2024-12-19T15:04:28.504Z"
   },
   {
    "duration": 3,
    "start_time": "2024-12-19T15:04:28.509Z"
   },
   {
    "duration": 3,
    "start_time": "2024-12-19T15:04:28.514Z"
   },
   {
    "duration": 61,
    "start_time": "2024-12-19T15:04:28.543Z"
   },
   {
    "duration": 59,
    "start_time": "2024-12-19T15:04:28.605Z"
   },
   {
    "duration": 16,
    "start_time": "2024-12-19T15:04:28.666Z"
   },
   {
    "duration": 78,
    "start_time": "2024-12-19T15:04:28.684Z"
   },
   {
    "duration": 18,
    "start_time": "2024-12-19T15:04:28.764Z"
   },
   {
    "duration": 9,
    "start_time": "2024-12-19T15:04:28.784Z"
   },
   {
    "duration": 6,
    "start_time": "2024-12-19T15:04:28.798Z"
   },
   {
    "duration": 4,
    "start_time": "2024-12-19T15:04:28.805Z"
   },
   {
    "duration": 3,
    "start_time": "2024-12-19T15:04:28.811Z"
   },
   {
    "duration": 3,
    "start_time": "2024-12-19T15:04:28.842Z"
   },
   {
    "duration": 9,
    "start_time": "2024-12-19T15:04:28.847Z"
   },
   {
    "duration": 5,
    "start_time": "2024-12-19T15:04:28.858Z"
   },
   {
    "duration": 7,
    "start_time": "2024-12-19T15:04:28.865Z"
   },
   {
    "duration": 8,
    "start_time": "2024-12-19T15:04:28.873Z"
   },
   {
    "duration": 8,
    "start_time": "2024-12-19T15:04:28.882Z"
   },
   {
    "duration": 5,
    "start_time": "2024-12-19T15:04:28.892Z"
   },
   {
    "duration": 45,
    "start_time": "2024-12-19T15:04:28.900Z"
   },
   {
    "duration": 5,
    "start_time": "2024-12-19T15:04:28.946Z"
   },
   {
    "duration": 5,
    "start_time": "2024-12-19T15:04:28.952Z"
   },
   {
    "duration": 8,
    "start_time": "2024-12-19T15:04:28.958Z"
   },
   {
    "duration": 7,
    "start_time": "2024-12-19T15:04:28.967Z"
   },
   {
    "duration": 347,
    "start_time": "2024-12-19T15:04:28.975Z"
   },
   {
    "duration": 172,
    "start_time": "2024-12-19T15:04:29.326Z"
   },
   {
    "duration": 11,
    "start_time": "2024-12-19T15:04:29.500Z"
   },
   {
    "duration": 135,
    "start_time": "2024-12-19T15:04:29.513Z"
   },
   {
    "duration": 5,
    "start_time": "2024-12-19T15:04:29.650Z"
   },
   {
    "duration": 327,
    "start_time": "2024-12-19T15:04:29.656Z"
   },
   {
    "duration": 100,
    "start_time": "2024-12-19T15:04:29.985Z"
   },
   {
    "duration": 6,
    "start_time": "2024-12-19T15:04:30.087Z"
   },
   {
    "duration": 14,
    "start_time": "2024-12-19T15:04:30.095Z"
   },
   {
    "duration": 5,
    "start_time": "2024-12-19T15:04:30.110Z"
   },
   {
    "duration": 28,
    "start_time": "2024-12-19T15:04:30.116Z"
   },
   {
    "duration": 3,
    "start_time": "2024-12-19T15:04:30.146Z"
   },
   {
    "duration": 7,
    "start_time": "2024-12-19T15:04:30.155Z"
   },
   {
    "duration": 4,
    "start_time": "2024-12-19T15:04:30.165Z"
   },
   {
    "duration": 42,
    "start_time": "2024-12-19T15:04:30.172Z"
   },
   {
    "duration": 37,
    "start_time": "2024-12-19T15:04:30.216Z"
   },
   {
    "duration": 2536,
    "start_time": "2024-12-19T16:40:44.032Z"
   },
   {
    "duration": 439,
    "start_time": "2024-12-19T16:40:46.570Z"
   },
   {
    "duration": 44,
    "start_time": "2024-12-19T16:40:47.011Z"
   },
   {
    "duration": 9,
    "start_time": "2024-12-19T16:40:47.058Z"
   },
   {
    "duration": 4,
    "start_time": "2024-12-19T16:40:47.068Z"
   },
   {
    "duration": 3,
    "start_time": "2024-12-19T16:40:47.073Z"
   },
   {
    "duration": 3,
    "start_time": "2024-12-19T16:40:47.078Z"
   },
   {
    "duration": 58,
    "start_time": "2024-12-19T16:40:47.110Z"
   },
   {
    "duration": 84,
    "start_time": "2024-12-19T16:40:47.170Z"
   },
   {
    "duration": 21,
    "start_time": "2024-12-19T16:40:47.258Z"
   },
   {
    "duration": 89,
    "start_time": "2024-12-19T16:40:47.281Z"
   },
   {
    "duration": 19,
    "start_time": "2024-12-19T16:40:47.372Z"
   },
   {
    "duration": 17,
    "start_time": "2024-12-19T16:40:47.393Z"
   },
   {
    "duration": 8,
    "start_time": "2024-12-19T16:40:47.412Z"
   },
   {
    "duration": 4,
    "start_time": "2024-12-19T16:40:47.421Z"
   },
   {
    "duration": 3,
    "start_time": "2024-12-19T16:40:47.427Z"
   },
   {
    "duration": 3,
    "start_time": "2024-12-19T16:40:47.432Z"
   },
   {
    "duration": 9,
    "start_time": "2024-12-19T16:40:47.437Z"
   },
   {
    "duration": 4,
    "start_time": "2024-12-19T16:40:47.448Z"
   },
   {
    "duration": 8,
    "start_time": "2024-12-19T16:40:47.454Z"
   },
   {
    "duration": 52,
    "start_time": "2024-12-19T16:40:47.465Z"
   },
   {
    "duration": 8,
    "start_time": "2024-12-19T16:40:47.520Z"
   },
   {
    "duration": 7,
    "start_time": "2024-12-19T16:40:47.530Z"
   },
   {
    "duration": 4,
    "start_time": "2024-12-19T16:40:47.538Z"
   },
   {
    "duration": 4,
    "start_time": "2024-12-19T16:40:47.544Z"
   },
   {
    "duration": 4,
    "start_time": "2024-12-19T16:40:47.550Z"
   },
   {
    "duration": 8,
    "start_time": "2024-12-19T16:40:47.555Z"
   },
   {
    "duration": 13,
    "start_time": "2024-12-19T16:40:47.609Z"
   },
   {
    "duration": 337,
    "start_time": "2024-12-19T16:40:47.624Z"
   },
   {
    "duration": 122,
    "start_time": "2024-12-19T16:40:47.963Z"
   },
   {
    "duration": 21,
    "start_time": "2024-12-19T16:40:48.088Z"
   },
   {
    "duration": 134,
    "start_time": "2024-12-19T16:40:48.110Z"
   },
   {
    "duration": 6,
    "start_time": "2024-12-19T16:40:48.246Z"
   },
   {
    "duration": 391,
    "start_time": "2024-12-19T16:40:48.253Z"
   },
   {
    "duration": 101,
    "start_time": "2024-12-19T16:40:48.646Z"
   },
   {
    "duration": 5,
    "start_time": "2024-12-19T16:40:48.749Z"
   },
   {
    "duration": 14,
    "start_time": "2024-12-19T16:40:48.755Z"
   },
   {
    "duration": 5,
    "start_time": "2024-12-19T16:40:48.770Z"
   },
   {
    "duration": 4,
    "start_time": "2024-12-19T16:40:48.776Z"
   },
   {
    "duration": 3,
    "start_time": "2024-12-19T16:40:48.808Z"
   },
   {
    "duration": 8,
    "start_time": "2024-12-19T16:40:48.813Z"
   },
   {
    "duration": 6,
    "start_time": "2024-12-19T16:40:48.823Z"
   },
   {
    "duration": 46,
    "start_time": "2024-12-19T16:40:48.830Z"
   },
   {
    "duration": 36,
    "start_time": "2024-12-19T16:40:48.877Z"
   },
   {
    "duration": 156,
    "start_time": "2024-12-19T16:41:11.855Z"
   },
   {
    "duration": 12,
    "start_time": "2024-12-19T16:41:12.618Z"
   },
   {
    "duration": 799,
    "start_time": "2024-12-19T16:41:39.270Z"
   },
   {
    "duration": 430,
    "start_time": "2024-12-19T16:41:40.072Z"
   },
   {
    "duration": 40,
    "start_time": "2024-12-19T16:41:40.503Z"
   },
   {
    "duration": 8,
    "start_time": "2024-12-19T16:41:40.546Z"
   },
   {
    "duration": 4,
    "start_time": "2024-12-19T16:41:40.556Z"
   },
   {
    "duration": 3,
    "start_time": "2024-12-19T16:41:40.562Z"
   },
   {
    "duration": 4,
    "start_time": "2024-12-19T16:41:40.566Z"
   },
   {
    "duration": 81,
    "start_time": "2024-12-19T16:41:40.572Z"
   },
   {
    "duration": 59,
    "start_time": "2024-12-19T16:41:40.655Z"
   },
   {
    "duration": 15,
    "start_time": "2024-12-19T16:41:40.716Z"
   },
   {
    "duration": 61,
    "start_time": "2024-12-19T16:41:40.833Z"
   },
   {
    "duration": 19,
    "start_time": "2024-12-19T16:41:41.012Z"
   },
   {
    "duration": 11,
    "start_time": "2024-12-19T16:41:41.961Z"
   },
   {
    "duration": 7,
    "start_time": "2024-12-19T16:41:42.124Z"
   },
   {
    "duration": 4,
    "start_time": "2024-12-19T16:41:42.290Z"
   },
   {
    "duration": 3,
    "start_time": "2024-12-19T16:41:42.465Z"
   },
   {
    "duration": 2,
    "start_time": "2024-12-19T16:41:42.590Z"
   },
   {
    "duration": 9,
    "start_time": "2024-12-19T16:41:42.785Z"
   },
   {
    "duration": 4,
    "start_time": "2024-12-19T16:41:42.914Z"
   },
   {
    "duration": 8,
    "start_time": "2024-12-19T16:41:43.100Z"
   },
   {
    "duration": 9,
    "start_time": "2024-12-19T16:41:43.994Z"
   },
   {
    "duration": 8,
    "start_time": "2024-12-19T16:41:44.174Z"
   },
   {
    "duration": 6,
    "start_time": "2024-12-19T16:41:44.343Z"
   },
   {
    "duration": 3,
    "start_time": "2024-12-19T16:41:44.520Z"
   },
   {
    "duration": 4,
    "start_time": "2024-12-19T16:41:44.654Z"
   },
   {
    "duration": 4,
    "start_time": "2024-12-19T16:41:44.874Z"
   },
   {
    "duration": 9,
    "start_time": "2024-12-19T16:41:45.709Z"
   },
   {
    "duration": 7,
    "start_time": "2024-12-19T16:41:47.052Z"
   },
   {
    "duration": 350,
    "start_time": "2024-12-19T16:41:47.242Z"
   },
   {
    "duration": 166,
    "start_time": "2024-12-19T16:41:47.594Z"
   },
   {
    "duration": 13,
    "start_time": "2024-12-19T16:41:47.762Z"
   },
   {
    "duration": 143,
    "start_time": "2024-12-19T16:41:47.778Z"
   },
   {
    "duration": 7,
    "start_time": "2024-12-19T16:41:48.065Z"
   },
   {
    "duration": 328,
    "start_time": "2024-12-19T16:41:49.501Z"
   },
   {
    "duration": 106,
    "start_time": "2024-12-19T16:41:57.690Z"
   },
   {
    "duration": 7,
    "start_time": "2024-12-19T16:42:01.915Z"
   },
   {
    "duration": 15,
    "start_time": "2024-12-19T16:42:03.382Z"
   },
   {
    "duration": 4,
    "start_time": "2024-12-19T16:42:10.729Z"
   },
   {
    "duration": 5,
    "start_time": "2024-12-19T16:42:12.048Z"
   },
   {
    "duration": 3,
    "start_time": "2024-12-19T16:42:18.444Z"
   },
   {
    "duration": 10,
    "start_time": "2024-12-19T16:42:19.794Z"
   },
   {
    "duration": 6,
    "start_time": "2024-12-19T16:42:24.304Z"
   },
   {
    "duration": 46,
    "start_time": "2024-12-19T16:42:27.913Z"
   },
   {
    "duration": 11,
    "start_time": "2024-12-19T16:42:29.834Z"
   },
   {
    "duration": 565,
    "start_time": "2024-12-19T16:42:40.165Z"
   },
   {
    "duration": 7,
    "start_time": "2024-12-19T16:42:54.549Z"
   },
   {
    "duration": 7,
    "start_time": "2024-12-19T16:42:57.138Z"
   },
   {
    "duration": 216,
    "start_time": "2024-12-19T16:44:28.295Z"
   },
   {
    "duration": 6,
    "start_time": "2024-12-19T16:44:53.743Z"
   },
   {
    "duration": 15,
    "start_time": "2024-12-19T16:45:14.222Z"
   },
   {
    "duration": 17,
    "start_time": "2024-12-19T16:45:38.363Z"
   },
   {
    "duration": 441,
    "start_time": "2024-12-19T16:45:46.721Z"
   },
   {
    "duration": 14,
    "start_time": "2024-12-19T16:46:05.102Z"
   },
   {
    "duration": 5,
    "start_time": "2024-12-19T16:54:04.308Z"
   },
   {
    "duration": 4,
    "start_time": "2024-12-19T16:54:35.091Z"
   },
   {
    "duration": 13,
    "start_time": "2024-12-19T17:00:25.238Z"
   },
   {
    "duration": 9,
    "start_time": "2024-12-19T17:00:26.600Z"
   },
   {
    "duration": 226,
    "start_time": "2024-12-19T17:01:07.499Z"
   },
   {
    "duration": 19,
    "start_time": "2024-12-19T17:08:06.166Z"
   },
   {
    "duration": 21,
    "start_time": "2024-12-19T17:09:24.692Z"
   },
   {
    "duration": 15823,
    "start_time": "2024-12-19T17:09:57.135Z"
   },
   {
    "duration": 15,
    "start_time": "2024-12-19T17:11:58.430Z"
   },
   {
    "duration": 52,
    "start_time": "2024-12-19T17:12:52.313Z"
   },
   {
    "duration": 84,
    "start_time": "2024-12-19T17:13:16.673Z"
   },
   {
    "duration": 14,
    "start_time": "2024-12-19T17:18:25.350Z"
   },
   {
    "duration": 14,
    "start_time": "2024-12-19T17:18:31.948Z"
   },
   {
    "duration": 20,
    "start_time": "2024-12-19T17:18:58.623Z"
   },
   {
    "duration": 13,
    "start_time": "2024-12-19T17:19:11.590Z"
   },
   {
    "duration": 2641,
    "start_time": "2024-12-19T21:24:13.234Z"
   },
   {
    "duration": 425,
    "start_time": "2024-12-19T21:24:15.877Z"
   },
   {
    "duration": 40,
    "start_time": "2024-12-19T21:24:16.304Z"
   },
   {
    "duration": 9,
    "start_time": "2024-12-19T21:24:16.347Z"
   },
   {
    "duration": 4,
    "start_time": "2024-12-19T21:24:16.357Z"
   },
   {
    "duration": 3,
    "start_time": "2024-12-19T21:24:16.362Z"
   },
   {
    "duration": 3,
    "start_time": "2024-12-19T21:24:16.367Z"
   },
   {
    "duration": 87,
    "start_time": "2024-12-19T21:24:16.372Z"
   },
   {
    "duration": 58,
    "start_time": "2024-12-19T21:24:16.460Z"
   },
   {
    "duration": 14,
    "start_time": "2024-12-19T21:24:16.521Z"
   },
   {
    "duration": 79,
    "start_time": "2024-12-19T21:24:16.537Z"
   },
   {
    "duration": 19,
    "start_time": "2024-12-19T21:24:16.618Z"
   },
   {
    "duration": 9,
    "start_time": "2024-12-19T21:24:16.638Z"
   },
   {
    "duration": 7,
    "start_time": "2024-12-19T21:24:16.649Z"
   },
   {
    "duration": 4,
    "start_time": "2024-12-19T21:24:16.657Z"
   },
   {
    "duration": 3,
    "start_time": "2024-12-19T21:24:16.663Z"
   },
   {
    "duration": 4,
    "start_time": "2024-12-19T21:24:16.668Z"
   },
   {
    "duration": 44,
    "start_time": "2024-12-19T21:24:16.673Z"
   },
   {
    "duration": 5,
    "start_time": "2024-12-19T21:24:16.721Z"
   },
   {
    "duration": 8,
    "start_time": "2024-12-19T21:24:16.728Z"
   },
   {
    "duration": 9,
    "start_time": "2024-12-19T21:24:16.738Z"
   },
   {
    "duration": 9,
    "start_time": "2024-12-19T21:24:16.749Z"
   },
   {
    "duration": 7,
    "start_time": "2024-12-19T21:24:16.760Z"
   },
   {
    "duration": 4,
    "start_time": "2024-12-19T21:24:16.770Z"
   },
   {
    "duration": 4,
    "start_time": "2024-12-19T21:24:16.810Z"
   },
   {
    "duration": 4,
    "start_time": "2024-12-19T21:24:16.815Z"
   },
   {
    "duration": 8,
    "start_time": "2024-12-19T21:24:16.821Z"
   },
   {
    "duration": 6,
    "start_time": "2024-12-19T21:24:16.834Z"
   },
   {
    "duration": 359,
    "start_time": "2024-12-19T21:24:16.842Z"
   },
   {
    "duration": 130,
    "start_time": "2024-12-19T21:24:17.203Z"
   },
   {
    "duration": 12,
    "start_time": "2024-12-19T21:24:17.334Z"
   },
   {
    "duration": 156,
    "start_time": "2024-12-19T21:24:17.348Z"
   },
   {
    "duration": 6,
    "start_time": "2024-12-19T21:24:17.508Z"
   },
   {
    "duration": 390,
    "start_time": "2024-12-19T21:24:17.516Z"
   },
   {
    "duration": 107,
    "start_time": "2024-12-19T21:24:17.910Z"
   },
   {
    "duration": 5,
    "start_time": "2024-12-19T21:24:18.019Z"
   },
   {
    "duration": 14,
    "start_time": "2024-12-19T21:24:18.025Z"
   },
   {
    "duration": 4,
    "start_time": "2024-12-19T21:24:18.040Z"
   },
   {
    "duration": 4,
    "start_time": "2024-12-19T21:24:18.046Z"
   },
   {
    "duration": 3,
    "start_time": "2024-12-19T21:24:18.052Z"
   },
   {
    "duration": 8,
    "start_time": "2024-12-19T21:24:18.057Z"
   },
   {
    "duration": 45,
    "start_time": "2024-12-19T21:24:18.066Z"
   },
   {
    "duration": 44,
    "start_time": "2024-12-19T21:24:18.113Z"
   },
   {
    "duration": 13,
    "start_time": "2024-12-19T21:24:18.159Z"
   },
   {
    "duration": 5,
    "start_time": "2024-12-19T21:24:18.173Z"
   },
   {
    "duration": 30,
    "start_time": "2024-12-19T21:24:18.180Z"
   },
   {
    "duration": 7,
    "start_time": "2024-12-19T21:24:18.211Z"
   },
   {
    "duration": 16,
    "start_time": "2024-12-19T21:24:18.220Z"
   },
   {
    "duration": 436,
    "start_time": "2024-12-19T21:24:18.237Z"
   },
   {
    "duration": 5,
    "start_time": "2024-12-19T21:24:18.675Z"
   },
   {
    "duration": 12,
    "start_time": "2024-12-19T21:24:18.682Z"
   },
   {
    "duration": 14,
    "start_time": "2024-12-19T21:24:18.696Z"
   },
   {
    "duration": 135,
    "start_time": "2024-12-19T21:24:18.711Z"
   },
   {
    "duration": 15,
    "start_time": "2024-12-19T21:24:18.848Z"
   },
   {
    "duration": 116,
    "start_time": "2024-12-19T21:24:18.865Z"
   },
   {
    "duration": 11,
    "start_time": "2024-12-19T21:24:18.983Z"
   },
   {
    "duration": 14,
    "start_time": "2024-12-19T21:24:18.995Z"
   },
   {
    "duration": 5,
    "start_time": "2024-12-19T21:24:19.010Z"
   },
   {
    "duration": 8,
    "start_time": "2024-12-19T21:26:14.111Z"
   },
   {
    "duration": 7,
    "start_time": "2024-12-19T21:27:48.561Z"
   },
   {
    "duration": 648,
    "start_time": "2024-12-19T21:42:14.230Z"
   },
   {
    "duration": 47,
    "start_time": "2024-12-19T21:43:10.140Z"
   },
   {
    "duration": 139,
    "start_time": "2024-12-19T21:44:00.710Z"
   },
   {
    "duration": 8,
    "start_time": "2024-12-19T21:44:09.907Z"
   },
   {
    "duration": 11,
    "start_time": "2024-12-19T21:46:41.900Z"
   }
  ],
  "kernelspec": {
   "display_name": "Python 3 (ipykernel)",
   "language": "python",
   "name": "python3"
  },
  "language_info": {
   "codemirror_mode": {
    "name": "ipython",
    "version": 3
   },
   "file_extension": ".py",
   "mimetype": "text/x-python",
   "name": "python",
   "nbconvert_exporter": "python",
   "pygments_lexer": "ipython3",
   "version": "3.9.19"
  },
  "toc": {
   "base_numbering": 1,
   "nav_menu": {},
   "number_sections": true,
   "sideBar": true,
   "skip_h1_title": true,
   "title_cell": "Table of Contents",
   "title_sidebar": "Contents",
   "toc_cell": false,
   "toc_position": {},
   "toc_section_display": true,
   "toc_window_display": false
  }
 },
 "nbformat": 4,
 "nbformat_minor": 2
}
